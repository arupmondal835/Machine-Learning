{
 "cells": [
  {
   "cell_type": "markdown",
   "id": "e69cd4c8-e0ca-484c-aa24-f4d623ebd7d9",
   "metadata": {},
   "source": [
    "### Project 3: Language Translation\n",
    "#### Goal: Here our goal is to fine tune a pretrained language model that are designed for multiple languages to a specific language. \n",
    "#### Approach: We choose pretrained mBART50 and mBART25 from Facebook. mBART25 has 25 languages and mBART50 has 50. First we estimate accuracy of these pretrained model on all available language (for these model) using OPUS 100 dataset. Based on the performance, we chose a language where mBART50 performs poorly and is out of scope of mBART25 model. Then using OPUS-100 dataset, we finetune mBART50 for that specific language. Also, we finetune mBART25 so that it can translate to that target laguage as well even if it was originally out of mBART25's scope. "
   ]
  },
  {
   "cell_type": "code",
   "execution_count": 1,
   "id": "3b767d45-4ebb-4fca-b2be-8d235c3ea5fd",
   "metadata": {},
   "outputs": [
    {
     "name": "stderr",
     "output_type": "stream",
     "text": [
      "/projects/gt47/amondal2/Source/miniconda3/envs/torch_2/lib/python3.10/site-packages/tqdm/auto.py:21: TqdmWarning: IProgress not found. Please update jupyter and ipywidgets. See https://ipywidgets.readthedocs.io/en/stable/user_install.html\n",
      "  from .autonotebook import tqdm as notebook_tqdm\n"
     ]
    }
   ],
   "source": [
    "from transformers import MBartTokenizer\n",
    "from transformers import MBart50Tokenizer\n",
    "import numpy as np\n",
    "from transformers import MBartForConditionalGeneration, MBart50TokenizerFast\n",
    "from datasets import load_dataset\n",
    "from sacrebleu.metrics import BLEU\n",
    "import pandas as pd\n",
    "import torch\n",
    "from tqdm import tqdm"
   ]
  },
  {
   "cell_type": "code",
   "execution_count": 2,
   "id": "ef04dee9-1e7e-4d6f-85e6-168df1d90ef2",
   "metadata": {},
   "outputs": [
    {
     "name": "stdout",
     "output_type": "stream",
     "text": [
      "Collecting datasets\n",
      "  Using cached datasets-3.5.0-py3-none-any.whl.metadata (19 kB)\n",
      "Requirement already satisfied: filelock in /home/amondal2/.local/lib/python3.10/site-packages (from datasets) (3.16.1)\n",
      "Requirement already satisfied: numpy>=1.17 in /home/amondal2/.local/lib/python3.10/site-packages (from datasets) (1.26.4)\n",
      "Collecting pyarrow>=15.0.0 (from datasets)\n",
      "  Using cached pyarrow-19.0.1-cp310-cp310-manylinux_2_28_x86_64.whl.metadata (3.3 kB)\n",
      "Collecting dill<0.3.9,>=0.3.0 (from datasets)\n",
      "  Using cached dill-0.3.8-py3-none-any.whl.metadata (10 kB)\n",
      "Requirement already satisfied: pandas in /home/amondal2/.local/lib/python3.10/site-packages (from datasets) (2.2.1)\n",
      "Requirement already satisfied: requests>=2.32.2 in /home/amondal2/.local/lib/python3.10/site-packages (from datasets) (2.32.3)\n",
      "Requirement already satisfied: tqdm>=4.66.3 in /kfs2/projects/gt47/amondal2/Source/miniconda3/envs/torch_2/lib/python3.10/site-packages (from datasets) (4.67.1)\n",
      "Collecting xxhash (from datasets)\n",
      "  Using cached xxhash-3.5.0-cp310-cp310-manylinux_2_17_x86_64.manylinux2014_x86_64.whl.metadata (12 kB)\n",
      "Collecting multiprocess<0.70.17 (from datasets)\n",
      "  Using cached multiprocess-0.70.16-py310-none-any.whl.metadata (7.2 kB)\n",
      "Requirement already satisfied: fsspec<=2024.12.0,>=2023.1.0 in /home/amondal2/.local/lib/python3.10/site-packages (from fsspec[http]<=2024.12.0,>=2023.1.0->datasets) (2024.12.0)\n",
      "Requirement already satisfied: aiohttp in /home/amondal2/.local/lib/python3.10/site-packages (from datasets) (3.11.11)\n",
      "Requirement already satisfied: huggingface-hub>=0.24.0 in /kfs2/projects/gt47/amondal2/Source/miniconda3/envs/torch_2/lib/python3.10/site-packages (from datasets) (0.30.2)\n",
      "Requirement already satisfied: packaging in /kfs2/projects/gt47/amondal2/Source/miniconda3/envs/torch_2/lib/python3.10/site-packages (from datasets) (24.2)\n",
      "Requirement already satisfied: pyyaml>=5.1 in /home/amondal2/.local/lib/python3.10/site-packages (from datasets) (6.0.2)\n",
      "Requirement already satisfied: aiohappyeyeballs>=2.3.0 in /home/amondal2/.local/lib/python3.10/site-packages (from aiohttp->datasets) (2.4.4)\n",
      "Requirement already satisfied: aiosignal>=1.1.2 in /home/amondal2/.local/lib/python3.10/site-packages (from aiohttp->datasets) (1.3.2)\n",
      "Requirement already satisfied: async-timeout<6.0,>=4.0 in /home/amondal2/.local/lib/python3.10/site-packages (from aiohttp->datasets) (5.0.1)\n",
      "Requirement already satisfied: attrs>=17.3.0 in /home/amondal2/.local/lib/python3.10/site-packages (from aiohttp->datasets) (24.3.0)\n",
      "Requirement already satisfied: frozenlist>=1.1.1 in /home/amondal2/.local/lib/python3.10/site-packages (from aiohttp->datasets) (1.5.0)\n",
      "Requirement already satisfied: multidict<7.0,>=4.5 in /home/amondal2/.local/lib/python3.10/site-packages (from aiohttp->datasets) (6.1.0)\n",
      "Requirement already satisfied: propcache>=0.2.0 in /home/amondal2/.local/lib/python3.10/site-packages (from aiohttp->datasets) (0.2.1)\n",
      "Requirement already satisfied: yarl<2.0,>=1.17.0 in /home/amondal2/.local/lib/python3.10/site-packages (from aiohttp->datasets) (1.18.3)\n",
      "Requirement already satisfied: typing-extensions>=3.7.4.3 in /home/amondal2/.local/lib/python3.10/site-packages (from huggingface-hub>=0.24.0->datasets) (4.12.2)\n",
      "Requirement already satisfied: charset-normalizer<4,>=2 in /kfs2/projects/gt47/amondal2/Source/miniconda3/envs/torch_2/lib/python3.10/site-packages (from requests>=2.32.2->datasets) (3.4.1)\n",
      "Requirement already satisfied: idna<4,>=2.5 in /kfs2/projects/gt47/amondal2/Source/miniconda3/envs/torch_2/lib/python3.10/site-packages (from requests>=2.32.2->datasets) (3.10)\n",
      "Requirement already satisfied: urllib3<3,>=1.21.1 in /kfs2/projects/gt47/amondal2/Source/miniconda3/envs/torch_2/lib/python3.10/site-packages (from requests>=2.32.2->datasets) (2.4.0)\n",
      "Requirement already satisfied: certifi>=2017.4.17 in /kfs2/projects/gt47/amondal2/Source/miniconda3/envs/torch_2/lib/python3.10/site-packages (from requests>=2.32.2->datasets) (2025.1.31)\n",
      "Requirement already satisfied: python-dateutil>=2.8.2 in /home/amondal2/.local/lib/python3.10/site-packages (from pandas->datasets) (2.9.0.post0)\n",
      "Requirement already satisfied: pytz>=2020.1 in /home/amondal2/.local/lib/python3.10/site-packages (from pandas->datasets) (2024.2)\n",
      "Requirement already satisfied: tzdata>=2022.7 in /home/amondal2/.local/lib/python3.10/site-packages (from pandas->datasets) (2024.2)\n",
      "Requirement already satisfied: six>=1.5 in /home/amondal2/.local/lib/python3.10/site-packages (from python-dateutil>=2.8.2->pandas->datasets) (1.17.0)\n",
      "Using cached datasets-3.5.0-py3-none-any.whl (491 kB)\n",
      "Using cached dill-0.3.8-py3-none-any.whl (116 kB)\n",
      "Using cached multiprocess-0.70.16-py310-none-any.whl (134 kB)\n",
      "Using cached pyarrow-19.0.1-cp310-cp310-manylinux_2_28_x86_64.whl (42.1 MB)\n",
      "Using cached xxhash-3.5.0-cp310-cp310-manylinux_2_17_x86_64.manylinux2014_x86_64.whl (194 kB)\n",
      "Installing collected packages: xxhash, pyarrow, dill, multiprocess, datasets\n",
      "\u001b[31mERROR: pip's dependency resolver does not currently take into account all the packages that are installed. This behaviour is the source of the following dependency conflicts.\n",
      "pathos 0.3.3 requires dill>=0.3.9, but you have dill 0.3.8 which is incompatible.\n",
      "pathos 0.3.3 requires multiprocess>=0.70.17, but you have multiprocess 0.70.16 which is incompatible.\u001b[0m\u001b[31m\n",
      "\u001b[0mSuccessfully installed datasets-3.5.0 dill-0.3.8 multiprocess-0.70.16 pyarrow-19.0.1 xxhash-3.5.0\n"
     ]
    }
   ],
   "source": [
    "#!pip install sentencepiece\n",
    "#!pip install sacrebleu\n",
    "!pip install datasets"
   ]
  },
  {
   "cell_type": "code",
   "execution_count": 2,
   "id": "fd233894-e804-4192-a660-f1255c0818d9",
   "metadata": {},
   "outputs": [],
   "source": [
    "# Mapping of language codes to full language names for mBART-50\n",
    "lang_names_50 = {\n",
    "    # Original mBART-25 languages\n",
    "    \"ar_AR\": \"Arabic\",\n",
    "    \"cs_CZ\": \"Czech\",\n",
    "    \"de_DE\": \"German\",\n",
    "    \"en_XX\": \"English\",\n",
    "    \"es_XX\": \"Spanish\",\n",
    "    \"et_EE\": \"Estonian\",\n",
    "    \"fi_FI\": \"Finnish\",\n",
    "    \"fr_XX\": \"French\",\n",
    "    \"gu_IN\": \"Gujarati\",\n",
    "    \"hi_IN\": \"Hindi\",\n",
    "    \"it_IT\": \"Italian\",\n",
    "    \"ja_XX\": \"Japanese\",\n",
    "    \"kk_KZ\": \"Kazakh\",\n",
    "    \"ko_KR\": \"Korean\",\n",
    "    \"lt_LT\": \"Lithuanian\",\n",
    "    \"lv_LV\": \"Latvian\",\n",
    "    \"my_MM\": \"Burmese\",\n",
    "    \"ne_NP\": \"Nepali\",\n",
    "    \"nl_XX\": \"Dutch\",\n",
    "    \"ro_RO\": \"Romanian\",\n",
    "    \"ru_RU\": \"Russian\",\n",
    "    \"si_LK\": \"Sinhala\",\n",
    "    \"tr_TR\": \"Turkish\",\n",
    "    \"vi_VN\": \"Vietnamese\",\n",
    "    \"zh_CN\": \"Chinese\",\n",
    "    \n",
    "    # Additional languages in mBART-50\n",
    "    \"af_ZA\": \"Afrikaans\",\n",
    "    \"az_AZ\": \"Azerbaijani\",\n",
    "    \"bn_IN\": \"Bengali\",\n",
    "    \"fa_IR\": \"Persian\",\n",
    "    \"he_IL\": \"Hebrew\",\n",
    "    \"hr_HR\": \"Croatian\",\n",
    "    \"id_ID\": \"Indonesian\",\n",
    "    \"ka_GE\": \"Georgian\",\n",
    "    \"km_KH\": \"Khmer\",\n",
    "    \"mk_MK\": \"Macedonian\",\n",
    "    \"ml_IN\": \"Malayalam\",\n",
    "    \"mn_MN\": \"Mongolian\",\n",
    "    \"mr_IN\": \"Marathi\",\n",
    "    \"pl_PL\": \"Polish\",\n",
    "    \"ps_AF\": \"Pashto\",\n",
    "    \"pt_XX\": \"Portuguese\",\n",
    "    \"sv_SE\": \"Swedish\",\n",
    "    \"sw_KE\": \"Swahili\",\n",
    "    \"ta_IN\": \"Tamil\",\n",
    "    \"te_IN\": \"Telugu\",\n",
    "    \"th_TH\": \"Thai\",\n",
    "    \"tl_XX\": \"Tagalog\",\n",
    "    \"uk_UA\": \"Ukrainian\",\n",
    "    \"ur_PK\": \"Urdu\",\n",
    "    \"xh_ZA\": \"Xhosa\",\n",
    "    \"gl_ES\": \"Galician\",\n",
    "    \"sl_SI\": \"Slovene\"\n",
    "}\n"
   ]
  },
  {
   "cell_type": "code",
   "execution_count": 3,
   "id": "315214c4-4647-4afc-8a7b-ff3a2196a3b2",
   "metadata": {
    "scrolled": true
   },
   "outputs": [
    {
     "name": "stdout",
     "output_type": "stream",
     "text": [
      "Supported Languages in mBART-50:\n",
      "\n",
      "Language Codes with Full Names for mBART-50:\n",
      "af_ZA (250026): Afrikaans\n",
      "ar_AR (250001): Arabic\n",
      "az_AZ (250027): Azerbaijani\n",
      "bn_IN (250028): Bengali\n",
      "cs_CZ (250002): Czech\n",
      "de_DE (250003): German\n",
      "en_XX (250004): English\n",
      "es_XX (250005): Spanish\n",
      "et_EE (250006): Estonian\n",
      "fa_IR (250029): Persian\n",
      "fi_FI (250007): Finnish\n",
      "fr_XX (250008): French\n",
      "gl_ES (250051): Galician\n",
      "gu_IN (250009): Gujarati\n",
      "he_IL (250030): Hebrew\n",
      "hi_IN (250010): Hindi\n",
      "hr_HR (250031): Croatian\n",
      "id_ID (250032): Indonesian\n",
      "it_IT (250011): Italian\n",
      "ja_XX (250012): Japanese\n",
      "ka_GE (250033): Georgian\n",
      "kk_KZ (250013): Kazakh\n",
      "km_KH (250034): Khmer\n",
      "ko_KR (250014): Korean\n",
      "lt_LT (250015): Lithuanian\n",
      "lv_LV (250016): Latvian\n",
      "mk_MK (250035): Macedonian\n",
      "ml_IN (250036): Malayalam\n",
      "mn_MN (250037): Mongolian\n",
      "mr_IN (250038): Marathi\n",
      "my_MM (250017): Burmese\n",
      "ne_NP (250018): Nepali\n",
      "nl_XX (250019): Dutch\n",
      "pl_PL (250039): Polish\n",
      "ps_AF (250040): Pashto\n",
      "pt_XX (250041): Portuguese\n",
      "ro_RO (250020): Romanian\n",
      "ru_RU (250021): Russian\n",
      "si_LK (250022): Sinhala\n",
      "sl_SI (250052): Slovene\n",
      "sv_SE (250042): Swedish\n",
      "sw_KE (250043): Swahili\n",
      "ta_IN (250044): Tamil\n",
      "te_IN (250045): Telugu\n",
      "th_TH (250046): Thai\n",
      "tl_XX (250047): Tagalog\n",
      "tr_TR (250023): Turkish\n",
      "uk_UA (250048): Ukrainian\n",
      "ur_PK (250049): Urdu\n",
      "vi_VN (250024): Vietnamese\n",
      "xh_ZA (250050): Xhosa\n",
      "zh_CN (250025): Chinese\n"
     ]
    }
   ],
   "source": [
    "model_name = 'facebook/mbart-large-50-many-to-many-mmt'\n",
    "tokenizer = MBart50Tokenizer.from_pretrained(model_name)\n",
    "\n",
    "# Getting the list of supported languages\n",
    "supported_langs_50 = tokenizer.lang_code_to_id\n",
    "print(\"Supported Languages in mBART-50:\")\n",
    "print(\"\\nLanguage Codes with Full Names for mBART-50:\")\n",
    "for lang_code in sorted(lang_names_50.keys()):\n",
    "    lang_id = lang_code in supported_langs_50 and supported_langs_50[lang_code] or \"Unknown\"\n",
    "    print(f\"{lang_code} ({lang_id}): {lang_names_50[lang_code]}\")"
   ]
  },
  {
   "cell_type": "code",
   "execution_count": 4,
   "id": "96990fd7-f14a-440a-917c-adc03241203c",
   "metadata": {
    "scrolled": true
   },
   "outputs": [
    {
     "name": "stdout",
     "output_type": "stream",
     "text": [
      "{'es_XX': ('opus100', 'en-es'), 'et_EE': ('opus100', 'en-et'), 'fi_FI': ('opus100', 'en-fi'), 'fr_XX': ('opus100', 'en-fr'), 'gu_IN': ('opus100', 'en-gu'), 'hi_IN': ('opus100', 'en-hi'), 'it_IT': ('opus100', 'en-it'), 'ja_XX': ('opus100', 'en-ja'), 'kk_KZ': ('opus100', 'en-kk'), 'ko_KR': ('opus100', 'en-ko'), 'lt_LT': ('opus100', 'en-lt'), 'lv_LV': ('opus100', 'en-lv'), 'my_MM': ('opus100', 'en-my'), 'ne_NP': ('opus100', 'en-ne'), 'nl_XX': ('opus100', 'en-nl'), 'ro_RO': ('opus100', 'en-ro'), 'ru_RU': ('opus100', 'en-ru'), 'si_LK': ('opus100', 'en-si'), 'tr_TR': ('opus100', 'en-tr'), 'vi_VN': ('opus100', 'en-vi'), 'zh_CN': ('opus100', 'en-zh'), 'fa_IR': ('opus100', 'en-fa'), 'he_IL': ('opus100', 'en-he'), 'hr_HR': ('opus100', 'en-hr'), 'id_ID': ('opus100', 'en-id'), 'ka_GE': ('opus100', 'en-ka'), 'km_KH': ('opus100', 'en-km'), 'mk_MK': ('opus100', 'en-mk'), 'ml_IN': ('opus100', 'en-ml'), 'mn_MN': ('opus100', 'en-mn'), 'mr_IN': ('opus100', 'en-mr'), 'pl_PL': ('opus100', 'en-pl'), 'ps_AF': ('opus100', 'en-ps'), 'pt_XX': ('opus100', 'en-pt'), 'sv_SE': ('opus100', 'en-sv'), 'ta_IN': ('opus100', 'en-ta'), 'te_IN': ('opus100', 'en-te'), 'th_TH': ('opus100', 'en-th'), 'uk_UA': ('opus100', 'en-uk'), 'ur_PK': ('opus100', 'en-ur'), 'xh_ZA': ('opus100', 'en-xh'), 'gl_ES': ('opus100', 'en-gl'), 'sl_SI': ('opus100', 'en-sl')}\n"
     ]
    }
   ],
   "source": [
    "from datasets import get_dataset_config_names\n",
    "\n",
    "# Get all available language pairs in opus100 (e.g., \"en-de\", \"en-pl\", etc.)\n",
    "available_pairs = get_dataset_config_names(\"opus100\")\n",
    "\n",
    "# Create the mapping automatically for all supported languages in mBART-50\n",
    "language_datasets = {}\n",
    "for lang_code in lang_names_50:\n",
    "    # Remove region for comparison (e.g., pl_PL -> pl)\n",
    "    if lang_code.startswith(\"en_XX\"):\n",
    "        continue\n",
    "    lang_pair_code = lang_code.split(\"_\")[0]  # e.g., \"pl_PL\" -> \"pl\"\n",
    "\n",
    "    # Check if 'en-<lang>' is available\n",
    "    candidate_pair = f\"en-{lang_pair_code}\"\n",
    "    if candidate_pair in available_pairs:\n",
    "        language_datasets[lang_code] = (\"opus100\", candidate_pair)\n",
    "\n",
    "# Print to confirm\n",
    "print(language_datasets)"
   ]
  },
  {
   "cell_type": "code",
   "execution_count": null,
   "id": "a00d9b35-5f16-490f-936d-2107cd39118c",
   "metadata": {},
   "outputs": [],
   "source": []
  },
  {
   "cell_type": "code",
   "execution_count": 6,
   "id": "1ec01162-09ce-45e9-be03-f7601580aec0",
   "metadata": {
    "scrolled": true
   },
   "outputs": [
    {
     "name": "stdout",
     "output_type": "stream",
     "text": [
      "\n",
      "Supported Languages in mBART-25:\n",
      "\n",
      "Language Codes with Full Names for mBART-25:\n",
      "af_ZA (Unknown): Afrikaans\n",
      "ar_AR (250001): Arabic\n",
      "az_AZ (Unknown): Azerbaijani\n",
      "bn_IN (Unknown): Bengali\n",
      "cs_CZ (250002): Czech\n",
      "de_DE (250003): German\n",
      "en_XX (250004): English\n",
      "es_XX (250005): Spanish\n",
      "et_EE (250006): Estonian\n",
      "fa_IR (Unknown): Persian\n",
      "fi_FI (250007): Finnish\n",
      "fr_XX (250008): French\n",
      "gl_ES (Unknown): Galician\n",
      "gu_IN (250009): Gujarati\n",
      "he_IL (Unknown): Hebrew\n",
      "hi_IN (250010): Hindi\n",
      "hr_HR (Unknown): Croatian\n",
      "id_ID (Unknown): Indonesian\n",
      "it_IT (250011): Italian\n",
      "ja_XX (250012): Japanese\n",
      "ka_GE (Unknown): Georgian\n",
      "kk_KZ (250013): Kazakh\n",
      "km_KH (Unknown): Khmer\n",
      "ko_KR (250014): Korean\n",
      "lt_LT (250015): Lithuanian\n",
      "lv_LV (250016): Latvian\n",
      "mk_MK (Unknown): Macedonian\n",
      "ml_IN (Unknown): Malayalam\n",
      "mn_MN (Unknown): Mongolian\n",
      "mr_IN (Unknown): Marathi\n",
      "my_MM (250017): Burmese\n",
      "ne_NP (250018): Nepali\n",
      "nl_XX (250019): Dutch\n",
      "pl_PL (Unknown): Polish\n",
      "ps_AF (Unknown): Pashto\n",
      "pt_XX (Unknown): Portuguese\n",
      "ro_RO (250020): Romanian\n",
      "ru_RU (250021): Russian\n",
      "si_LK (250022): Sinhala\n",
      "sl_SI (Unknown): Slovene\n",
      "sv_SE (Unknown): Swedish\n",
      "sw_KE (Unknown): Swahili\n",
      "ta_IN (Unknown): Tamil\n",
      "te_IN (Unknown): Telugu\n",
      "th_TH (Unknown): Thai\n",
      "tl_XX (Unknown): Tagalog\n",
      "tr_TR (250023): Turkish\n",
      "uk_UA (Unknown): Ukrainian\n",
      "ur_PK (Unknown): Urdu\n",
      "vi_VN (250024): Vietnamese\n",
      "xh_ZA (Unknown): Xhosa\n",
      "zh_CN (250025): Chinese\n"
     ]
    }
   ],
   "source": [
    "model_name_25 = 'facebook/mbart-large-cc25'\n",
    "tokenizer_25 = MBartTokenizer.from_pretrained(model_name_25)\n",
    "\n",
    "# Getting the list of supported languages for mBART-25\n",
    "supported_langs_25 = tokenizer_25.lang_code_to_id\n",
    "print(\"\\nSupported Languages in mBART-25:\")\n",
    "print(\"\\nLanguage Codes with Full Names for mBART-25:\")\n",
    "for lang_code in sorted(lang_names_50.keys()):\n",
    "    lang_id = lang_code in supported_langs_25 and supported_langs_25[lang_code] or \"Unknown\"\n",
    "    print(f\"{lang_code} ({lang_id}): {lang_names_50[lang_code]}\")"
   ]
  },
  {
   "cell_type": "markdown",
   "id": "270ee57e-1da5-46a1-b921-67d2fdac7b24",
   "metadata": {},
   "source": [
    "#### Okay, we already got all the languages that are part of mBART25, mBART50 and OPUS100 set. Now, access these model on a subset of OPUS100 testset. "
   ]
  },
  {
   "cell_type": "code",
   "execution_count": null,
   "id": "d4dbbdb7-c9c9-4fe8-822f-2b2b559a617f",
   "metadata": {},
   "outputs": [],
   "source": []
  },
  {
   "cell_type": "code",
   "execution_count": 15,
   "id": "e1a2bfad-1a78-4a03-a0d5-55f8678b4e9e",
   "metadata": {},
   "outputs": [],
   "source": [
    "### test performance\n",
    "\n",
    "# Function to calculate BLEU score\n",
    "def calculate_bleu(references, predictions):\n",
    "    bleu = BLEU()\n",
    "    return bleu.corpus_score(predictions, [references]).score\n",
    "\n",
    "# Function to translate text using mBART model\n",
    "def translate(model, tokenizer, src_texts, src_lang, tgt_lang, device=\"cuda\" if torch.cuda.is_available() else \"cpu\"):\n",
    "    # Prepare the text data\n",
    "    model = model.to(device)\n",
    "    tokenizer.src_lang = src_lang\n",
    "    \n",
    "    # Tokenize the source text\n",
    "    inputs = tokenizer(src_texts, return_tensors=\"pt\", padding=True, truncation=True, max_length=512).to(device)\n",
    "    \n",
    "    # Generate translation\n",
    "    translated_tokens = model.generate(\n",
    "        **inputs,\n",
    "        forced_bos_token_id=tokenizer.lang_code_to_id[tgt_lang],\n",
    "        max_length=512\n",
    "    )\n",
    "    \n",
    "    # Decode the generated tokens\n",
    "    translations = tokenizer.batch_decode(translated_tokens, skip_special_tokens=True)\n",
    "    \n",
    "    return translations\n",
    "\n",
    "# Function to evaluate model on a given language pair\n",
    "def evaluate_language_pair(model, tokenizer, src_lang, tgt_lang, test_data_src, test_data_tgt):\n",
    "    # Translate source texts\n",
    "    translations = translate(model, tokenizer, test_data_src, src_lang, tgt_lang)\n",
    "    \n",
    "    # Calculate BLEU score\n",
    "    bleu_score = calculate_bleu(test_data_tgt, translations)\n",
    "    \n",
    "    return bleu_score\n"
   ]
  },
  {
   "cell_type": "code",
   "execution_count": 7,
   "id": "67917dda-1716-4d86-ad87-9b024d258804",
   "metadata": {},
   "outputs": [
    {
     "name": "stdout",
     "output_type": "stream",
     "text": [
      "Using device: cuda\n"
     ]
    }
   ],
   "source": [
    "device = torch.device(\"cuda\" if torch.cuda.is_available() else \"cpu\")\n",
    "print(f\"Using device: {device}\")"
   ]
  },
  {
   "cell_type": "code",
   "execution_count": null,
   "id": "7517e25c-ba66-4965-ab1e-d607ca27ae92",
   "metadata": {},
   "outputs": [],
   "source": []
  },
  {
   "cell_type": "code",
   "execution_count": 8,
   "id": "26e5270a-3016-481b-828e-7c676f80627f",
   "metadata": {},
   "outputs": [],
   "source": [
    "from datasets import load_dataset\n"
   ]
  },
  {
   "cell_type": "code",
   "execution_count": 33,
   "id": "a66d1281-a935-4c5c-a342-df786a00fec6",
   "metadata": {
    "scrolled": true
   },
   "outputs": [
    {
     "name": "stdout",
     "output_type": "stream",
     "text": [
      "Evaluating mBART-25...\n"
     ]
    },
    {
     "name": "stderr",
     "output_type": "stream",
     "text": [
      "  0%|          | 0/25 [00:00<?, ?it/s]"
     ]
    },
    {
     "name": "stdout",
     "output_type": "stream",
     "text": [
      "No suitable dataset found for ar_AR, skipping evaluation\n",
      "No suitable dataset found for cs_CZ, skipping evaluation\n",
      "No suitable dataset found for de_DE, skipping evaluation\n"
     ]
    },
    {
     "name": "stderr",
     "output_type": "stream",
     "text": [
      " 32%|███▏      | 8/25 [01:26<03:54, 13.78s/it]\n",
      "Generating test split: 100%|██████████| 2000/2000 [00:00<00:00, 538041.69 examples/s]\n",
      "\n",
      "\u001b[Aerating train split:   0%|          | 0/318306 [00:00<?, ? examples/s]\n",
      "Generating train split: 100%|██████████| 318306/318306 [00:00<00:00, 2416507.62 examples/s]\n",
      "\n",
      "Generating validation split: 100%|██████████| 2000/2000 [00:00<00:00, 608664.05 examples/s]\n",
      " 36%|███▌      | 9/25 [01:48<04:16, 16.04s/it]\n",
      "Generating test split: 100%|██████████| 2000/2000 [00:00<00:00, 489103.14 examples/s]\n",
      "\n",
      "\u001b[Aerating train split:   0%|          | 0/534319 [00:00<?, ? examples/s]\n",
      "\u001b[Aerating train split:  13%|█▎        | 72000/534319 [00:00<00:00, 494836.63 examples/s]\n",
      "Generating train split: 100%|██████████| 534319/534319 [00:00<00:00, 1460674.17 examples/s]\n",
      "\n",
      "Generating validation split: 100%|██████████| 2000/2000 [00:00<00:00, 525898.56 examples/s]\n",
      " 40%|████      | 10/25 [02:11<04:30, 18.00s/it]\n",
      "Generating test split: 100%|██████████| 2000/2000 [00:00<00:00, 531429.08 examples/s]\n",
      "\n",
      "\u001b[Aerating train split:   0%|          | 0/1000000 [00:00<?, ? examples/s]\n",
      "\u001b[Aerating train split:  14%|█▎        | 137000/1000000 [00:00<00:01, 763802.94 examples/s]\n",
      "\u001b[Aerating train split:  41%|████      | 406000/1000000 [00:00<00:00, 1159022.35 examples/s]\n",
      "Generating train split: 100%|██████████| 1000000/1000000 [00:00<00:00, 2037982.24 examples/s]\n",
      "\n",
      "Generating validation split: 100%|██████████| 2000/2000 [00:00<00:00, 570149.39 examples/s]\n",
      " 44%|████▍     | 11/25 [02:36<04:37, 19.82s/it]\n",
      "Generating test split: 100%|██████████| 2000/2000 [00:00<00:00, 580848.08 examples/s]\n",
      "\n",
      "\u001b[Aerating train split:   0%|          | 0/1000000 [00:00<?, ? examples/s]\n",
      "\u001b[Aerating train split:  18%|█▊        | 180000/1000000 [00:00<00:00, 883474.29 examples/s]\n",
      "Generating train split: 100%|██████████| 1000000/1000000 [00:00<00:00, 2524561.53 examples/s]\n",
      "\n",
      "Generating validation split: 100%|██████████| 2000/2000 [00:00<00:00, 578884.00 examples/s]\n",
      " 48%|████▊     | 12/25 [02:58<04:26, 20.53s/it]\n",
      "Generating test split: 100%|██████████| 2000/2000 [00:00<00:00, 598715.87 examples/s]\n",
      "\n",
      "Generating train split: 100%|██████████| 79927/79927 [00:00<00:00, 2496077.14 examples/s]\n",
      "\n",
      "Generating validation split: 100%|██████████| 2000/2000 [00:00<00:00, 757641.62 examples/s]\n",
      " 52%|█████▏    | 13/25 [03:20<04:09, 20.78s/it]\n",
      "Generating test split: 100%|██████████| 2000/2000 [00:00<00:00, 594557.23 examples/s]\n",
      "\n",
      "\u001b[Aerating train split:   0%|          | 0/1000000 [00:00<?, ? examples/s]\n",
      "\u001b[Aerating train split:  13%|█▎        | 134000/1000000 [00:00<00:01, 751450.31 examples/s]\n",
      "\u001b[Aerating train split:  36%|███▌      | 357000/1000000 [00:00<00:00, 1236273.36 examples/s]\n",
      "Generating train split: 100%|██████████| 1000000/1000000 [00:00<00:00, 2313278.10 examples/s]\n",
      "\n",
      "Generating validation split: 100%|██████████| 2000/2000 [00:00<00:00, 591038.40 examples/s]\n",
      " 56%|█████▌    | 14/25 [03:42<03:54, 21.36s/it]\n",
      "Generating test split: 100%|██████████| 2000/2000 [00:00<00:00, 481771.65 examples/s]\n",
      "\n",
      "\u001b[Aerating train split:   0%|          | 0/1000000 [00:00<?, ? examples/s]\n",
      "\u001b[Aerating train split:  10%|▉         | 96000/1000000 [00:00<00:01, 676995.43 examples/s]\n",
      "\u001b[Aerating train split:  28%|██▊       | 284000/1000000 [00:00<00:00, 994109.83 examples/s]\n",
      "\u001b[Aerating train split:  47%|████▋     | 472000/1000000 [00:00<00:00, 1016499.22 examples/s]\n",
      "Generating train split: 100%|██████████| 1000000/1000000 [00:00<00:00, 1518227.55 examples/s]\n",
      "\n",
      "Generating validation split: 100%|██████████| 2000/2000 [00:00<00:00, 501081.66 examples/s]\n",
      " 60%|██████    | 15/25 [04:06<03:41, 22.14s/it]\n",
      "Generating test split: 100%|██████████| 2000/2000 [00:00<00:00, 450322.53 examples/s]\n",
      "\n",
      "\u001b[Aerating train split:   0%|          | 0/1000000 [00:00<?, ? examples/s]\n",
      "\u001b[Aerating train split:   8%|▊         | 82000/1000000 [00:00<00:01, 537161.87 examples/s]\n",
      "\u001b[Aerating train split:  18%|█▊        | 182000/1000000 [00:00<00:01, 658022.77 examples/s]\n",
      "\u001b[Aerating train split:  40%|████      | 402000/1000000 [00:00<00:00, 1017686.39 examples/s]\n",
      "\u001b[Aerating train split:  56%|█████▋    | 564000/1000000 [00:00<00:00, 1068307.36 examples/s]\n",
      "Generating train split: 100%|██████████| 1000000/1000000 [00:00<00:00, 1351542.50 examples/s]\n",
      "\n",
      "Generating validation split: 100%|██████████| 2000/2000 [00:00<00:00, 471561.53 examples/s]\n",
      " 64%|██████▍   | 16/25 [04:31<03:25, 22.81s/it]\n",
      "Generating test split: 100%|██████████| 2000/2000 [00:00<00:00, 435568.20 examples/s]\n",
      "\n",
      "Generating train split: 100%|██████████| 24594/24594 [00:00<00:00, 1831614.78 examples/s]\n",
      "\n",
      "Generating validation split: 100%|██████████| 2000/2000 [00:00<00:00, 719805.05 examples/s]\n",
      " 68%|██████▊   | 17/25 [04:54<03:03, 22.96s/it]\n",
      "Generating test split: 100%|██████████| 2000/2000 [00:00<00:00, 594094.05 examples/s]\n",
      "\n",
      "\u001b[Aerating train split:   0%|          | 0/406381 [00:00<?, ? examples/s]\n",
      "Generating train split: 100%|██████████| 406381/406381 [00:00<00:00, 2506607.31 examples/s]\n",
      "\n",
      "Generating validation split: 100%|██████████| 2000/2000 [00:00<00:00, 635596.91 examples/s]\n",
      " 72%|███████▏  | 18/25 [05:16<02:38, 22.64s/it]\n",
      "Generating test split: 100%|██████████| 2000/2000 [00:00<00:00, 549460.14 examples/s]\n",
      "\n",
      "\u001b[Aerating train split:   0%|          | 0/1000000 [00:00<?, ? examples/s]\n",
      "\u001b[Aerating train split:  15%|█▍        | 149000/1000000 [00:00<00:01, 809097.94 examples/s]\n",
      "\u001b[Aerating train split:  30%|██▉       | 298000/1000000 [00:00<00:00, 1095938.11 examples/s]\n",
      "\u001b[Aerating train split:  48%|████▊     | 482000/1000000 [00:00<00:00, 1115535.25 examples/s]\n",
      "Generating train split: 100%|██████████| 1000000/1000000 [00:00<00:00, 1576719.47 examples/s]\n",
      "\n",
      "Generating validation split: 100%|██████████| 2000/2000 [00:00<00:00, 560211.57 examples/s]\n",
      " 76%|███████▌  | 19/25 [05:38<02:15, 22.58s/it]\n",
      "Generating test split: 100%|██████████| 2000/2000 [00:00<00:00, 550433.60 examples/s]\n",
      "\n",
      "\u001b[Aerating train split:   0%|          | 0/1000000 [00:00<?, ? examples/s]\n",
      "\u001b[Aerating train split:   0%|          | 1000/1000000 [00:00<01:40, 9976.89 examples/s]\n",
      "\u001b[Aerating train split:  19%|█▉        | 188000/1000000 [00:00<00:00, 1052372.56 examples/s]\n",
      "Generating train split:  64%|██████▎   | 636000/1000000 [00:00<00:00, 1742097.02 examples/s]\n",
      " 80%|████████  | 20/25 [05:42<01:24, 16.94s/it]"
     ]
    },
    {
     "name": "stdout",
     "output_type": "stream",
     "text": [
      "Error evaluating mBART-25 for ro_RO: An error occurred while generating the dataset\n"
     ]
    },
    {
     "name": "stderr",
     "output_type": "stream",
     "text": [
      " 84%|████████▍ | 21/25 [05:45<00:50, 12.68s/it]"
     ]
    },
    {
     "name": "stdout",
     "output_type": "stream",
     "text": [
      "Error evaluating mBART-25 for ru_RU: [Errno 122] Disk quota exceeded\n"
     ]
    },
    {
     "name": "stderr",
     "output_type": "stream",
     "text": [
      " 88%|████████▊ | 22/25 [05:50<00:31, 10.55s/it]"
     ]
    },
    {
     "name": "stdout",
     "output_type": "stream",
     "text": [
      "Error evaluating mBART-25 for si_LK: [Errno 122] Disk quota exceeded\n"
     ]
    },
    {
     "name": "stderr",
     "output_type": "stream",
     "text": [
      " 92%|█████████▏| 23/25 [05:53<00:16,  8.17s/it]"
     ]
    },
    {
     "name": "stdout",
     "output_type": "stream",
     "text": [
      "Error evaluating mBART-25 for tr_TR: [Errno 122] Disk quota exceeded\n"
     ]
    },
    {
     "name": "stderr",
     "output_type": "stream",
     "text": [
      " 96%|█████████▌| 24/25 [05:56<00:06,  6.76s/it]"
     ]
    },
    {
     "name": "stdout",
     "output_type": "stream",
     "text": [
      "Error evaluating mBART-25 for vi_VN: [Errno 122] Disk quota exceeded\n"
     ]
    },
    {
     "name": "stderr",
     "output_type": "stream",
     "text": [
      "100%|██████████| 25/25 [05:59<00:00, 14.38s/it]\n"
     ]
    },
    {
     "name": "stdout",
     "output_type": "stream",
     "text": [
      "Error evaluating mBART-25 for zh_CN: [Errno 122] Disk quota exceeded\n",
      "Evaluating mBART-50...\n"
     ]
    },
    {
     "name": "stderr",
     "output_type": "stream",
     "text": [
      "  0%|          | 0/52 [00:00<?, ?it/s]"
     ]
    },
    {
     "name": "stdout",
     "output_type": "stream",
     "text": [
      "No suitable dataset found for ar_AR, skipping evaluation\n",
      "No suitable dataset found for cs_CZ, skipping evaluation\n",
      "No suitable dataset found for de_DE, skipping evaluation\n"
     ]
    },
    {
     "name": "stderr",
     "output_type": "stream",
     "text": [
      "Using the latest cached version of the dataset since opus100 couldn't be found on the Hugging Face Hub\n",
      "Found the latest cached dataset configuration 'en-ne' at /home/amondal2/.cache/huggingface/datasets/opus100/en-ne/0.0.0/805090dc28bf78897da9641cdf08b61287580df9 (last modified on Thu Apr 17 12:02:57 2025).\n",
      "Using the latest cached version of the dataset since opus100 couldn't be found on the Hugging Face Hub\n",
      "Found the latest cached dataset configuration 'en-nl' at /home/amondal2/.cache/huggingface/datasets/opus100/en-nl/0.0.0/805090dc28bf78897da9641cdf08b61287580df9 (last modified on Thu Apr 17 12:03:19 2025).\n",
      "Using the latest cached version of the dataset since opus100 couldn't be found on the Hugging Face Hub\n",
      " 38%|███▊      | 20/52 [00:56<01:05,  2.05s/it]"
     ]
    },
    {
     "name": "stdout",
     "output_type": "stream",
     "text": [
      "Error evaluating mBART-50 for ro_RO: Couldn't find cache for opus100 for config 'en-ro'\n",
      "Available configs in the cache: ['en-es', 'en-et', 'en-fa', 'en-fi', 'en-fr', 'en-gu', 'en-hi', 'en-it', 'en-ja', 'en-kk', 'en-ko', 'en-lt', 'en-lv', 'en-my', 'en-ne', 'en-nl', 'en-pl', 'en-pt']\n"
     ]
    },
    {
     "name": "stderr",
     "output_type": "stream",
     "text": [
      "Using the latest cached version of the dataset since opus100 couldn't be found on the Hugging Face Hub\n",
      " 40%|████      | 21/52 [00:57<00:48,  1.56s/it]"
     ]
    },
    {
     "name": "stdout",
     "output_type": "stream",
     "text": [
      "Error evaluating mBART-50 for ru_RU: Couldn't find cache for opus100 for config 'en-ru'\n",
      "Available configs in the cache: ['en-es', 'en-et', 'en-fa', 'en-fi', 'en-fr', 'en-gu', 'en-hi', 'en-it', 'en-ja', 'en-kk', 'en-ko', 'en-lt', 'en-lv', 'en-my', 'en-ne', 'en-nl', 'en-pl', 'en-pt']\n"
     ]
    },
    {
     "name": "stderr",
     "output_type": "stream",
     "text": [
      "Using the latest cached version of the dataset since opus100 couldn't be found on the Hugging Face Hub\n",
      " 42%|████▏     | 22/52 [00:57<00:36,  1.22s/it]"
     ]
    },
    {
     "name": "stdout",
     "output_type": "stream",
     "text": [
      "Error evaluating mBART-50 for si_LK: Couldn't find cache for opus100 for config 'en-si'\n",
      "Available configs in the cache: ['en-es', 'en-et', 'en-fa', 'en-fi', 'en-fr', 'en-gu', 'en-hi', 'en-it', 'en-ja', 'en-kk', 'en-ko', 'en-lt', 'en-lv', 'en-my', 'en-ne', 'en-nl', 'en-pl', 'en-pt']\n"
     ]
    },
    {
     "name": "stderr",
     "output_type": "stream",
     "text": [
      "Using the latest cached version of the dataset since opus100 couldn't be found on the Hugging Face Hub\n",
      " 44%|████▍     | 23/52 [00:58<00:30,  1.04s/it]"
     ]
    },
    {
     "name": "stdout",
     "output_type": "stream",
     "text": [
      "Error evaluating mBART-50 for tr_TR: Couldn't find cache for opus100 for config 'en-tr'\n",
      "Available configs in the cache: ['en-es', 'en-et', 'en-fa', 'en-fi', 'en-fr', 'en-gu', 'en-hi', 'en-it', 'en-ja', 'en-kk', 'en-ko', 'en-lt', 'en-lv', 'en-my', 'en-ne', 'en-nl', 'en-pl', 'en-pt']\n"
     ]
    },
    {
     "name": "stderr",
     "output_type": "stream",
     "text": [
      "Using the latest cached version of the dataset since opus100 couldn't be found on the Hugging Face Hub\n",
      " 46%|████▌     | 24/52 [00:58<00:23,  1.17it/s]"
     ]
    },
    {
     "name": "stdout",
     "output_type": "stream",
     "text": [
      "Error evaluating mBART-50 for vi_VN: Couldn't find cache for opus100 for config 'en-vi'\n",
      "Available configs in the cache: ['en-es', 'en-et', 'en-fa', 'en-fi', 'en-fr', 'en-gu', 'en-hi', 'en-it', 'en-ja', 'en-kk', 'en-ko', 'en-lt', 'en-lv', 'en-my', 'en-ne', 'en-nl', 'en-pl', 'en-pt']\n"
     ]
    },
    {
     "name": "stderr",
     "output_type": "stream",
     "text": [
      "Using the latest cached version of the dataset since opus100 couldn't be found on the Hugging Face Hub\n",
      " 48%|████▊     | 25/52 [00:59<00:19,  1.39it/s]"
     ]
    },
    {
     "name": "stdout",
     "output_type": "stream",
     "text": [
      "Error evaluating mBART-50 for zh_CN: Couldn't find cache for opus100 for config 'en-zh'\n",
      "Available configs in the cache: ['en-es', 'en-et', 'en-fa', 'en-fi', 'en-fr', 'en-gu', 'en-hi', 'en-it', 'en-ja', 'en-kk', 'en-ko', 'en-lt', 'en-lv', 'en-my', 'en-ne', 'en-nl', 'en-pl', 'en-pt']\n",
      "No suitable dataset found for af_ZA, skipping evaluation\n",
      "No suitable dataset found for az_AZ, skipping evaluation\n",
      "No suitable dataset found for bn_IN, skipping evaluation\n"
     ]
    },
    {
     "name": "stderr",
     "output_type": "stream",
     "text": [
      "Using the latest cached version of the dataset since opus100 couldn't be found on the Hugging Face Hub\n",
      "Found the latest cached dataset configuration 'en-fa' at /home/amondal2/.cache/huggingface/datasets/opus100/en-fa/0.0.0/805090dc28bf78897da9641cdf08b61287580df9 (last modified on Thu Apr 17 01:07:01 2025).\n",
      "Using the latest cached version of the dataset since opus100 couldn't be found on the Hugging Face Hub\n",
      " 58%|█████▊    | 30/52 [01:01<00:13,  1.68it/s]"
     ]
    },
    {
     "name": "stdout",
     "output_type": "stream",
     "text": [
      "Error evaluating mBART-50 for he_IL: Couldn't find cache for opus100 for config 'en-he'\n",
      "Available configs in the cache: ['en-es', 'en-et', 'en-fa', 'en-fi', 'en-fr', 'en-gu', 'en-hi', 'en-it', 'en-ja', 'en-kk', 'en-ko', 'en-lt', 'en-lv', 'en-my', 'en-ne', 'en-nl', 'en-pl', 'en-pt']\n"
     ]
    },
    {
     "name": "stderr",
     "output_type": "stream",
     "text": [
      "Using the latest cached version of the dataset since opus100 couldn't be found on the Hugging Face Hub\n",
      " 60%|█████▉    | 31/52 [01:02<00:11,  1.80it/s]"
     ]
    },
    {
     "name": "stdout",
     "output_type": "stream",
     "text": [
      "Error evaluating mBART-50 for hr_HR: Couldn't find cache for opus100 for config 'en-hr'\n",
      "Available configs in the cache: ['en-es', 'en-et', 'en-fa', 'en-fi', 'en-fr', 'en-gu', 'en-hi', 'en-it', 'en-ja', 'en-kk', 'en-ko', 'en-lt', 'en-lv', 'en-my', 'en-ne', 'en-nl', 'en-pl', 'en-pt']\n"
     ]
    },
    {
     "name": "stderr",
     "output_type": "stream",
     "text": [
      "Using the latest cached version of the dataset since opus100 couldn't be found on the Hugging Face Hub\n",
      " 62%|██████▏   | 32/52 [01:02<00:11,  1.75it/s]"
     ]
    },
    {
     "name": "stdout",
     "output_type": "stream",
     "text": [
      "Error evaluating mBART-50 for id_ID: Couldn't find cache for opus100 for config 'en-id'\n",
      "Available configs in the cache: ['en-es', 'en-et', 'en-fa', 'en-fi', 'en-fr', 'en-gu', 'en-hi', 'en-it', 'en-ja', 'en-kk', 'en-ko', 'en-lt', 'en-lv', 'en-my', 'en-ne', 'en-nl', 'en-pl', 'en-pt']\n"
     ]
    },
    {
     "name": "stderr",
     "output_type": "stream",
     "text": [
      "Using the latest cached version of the dataset since opus100 couldn't be found on the Hugging Face Hub\n",
      " 63%|██████▎   | 33/52 [01:03<00:10,  1.87it/s]"
     ]
    },
    {
     "name": "stdout",
     "output_type": "stream",
     "text": [
      "Error evaluating mBART-50 for ka_GE: Couldn't find cache for opus100 for config 'en-ka'\n",
      "Available configs in the cache: ['en-es', 'en-et', 'en-fa', 'en-fi', 'en-fr', 'en-gu', 'en-hi', 'en-it', 'en-ja', 'en-kk', 'en-ko', 'en-lt', 'en-lv', 'en-my', 'en-ne', 'en-nl', 'en-pl', 'en-pt']\n"
     ]
    },
    {
     "name": "stderr",
     "output_type": "stream",
     "text": [
      "Using the latest cached version of the dataset since opus100 couldn't be found on the Hugging Face Hub\n",
      " 65%|██████▌   | 34/52 [01:03<00:09,  1.98it/s]"
     ]
    },
    {
     "name": "stdout",
     "output_type": "stream",
     "text": [
      "Error evaluating mBART-50 for km_KH: Couldn't find cache for opus100 for config 'en-km'\n",
      "Available configs in the cache: ['en-es', 'en-et', 'en-fa', 'en-fi', 'en-fr', 'en-gu', 'en-hi', 'en-it', 'en-ja', 'en-kk', 'en-ko', 'en-lt', 'en-lv', 'en-my', 'en-ne', 'en-nl', 'en-pl', 'en-pt']\n"
     ]
    },
    {
     "name": "stderr",
     "output_type": "stream",
     "text": [
      "Using the latest cached version of the dataset since opus100 couldn't be found on the Hugging Face Hub\n",
      " 67%|██████▋   | 35/52 [01:04<00:08,  2.09it/s]"
     ]
    },
    {
     "name": "stdout",
     "output_type": "stream",
     "text": [
      "Error evaluating mBART-50 for mk_MK: Couldn't find cache for opus100 for config 'en-mk'\n",
      "Available configs in the cache: ['en-es', 'en-et', 'en-fa', 'en-fi', 'en-fr', 'en-gu', 'en-hi', 'en-it', 'en-ja', 'en-kk', 'en-ko', 'en-lt', 'en-lv', 'en-my', 'en-ne', 'en-nl', 'en-pl', 'en-pt']\n"
     ]
    },
    {
     "name": "stderr",
     "output_type": "stream",
     "text": [
      "Using the latest cached version of the dataset since opus100 couldn't be found on the Hugging Face Hub\n",
      " 69%|██████▉   | 36/52 [01:04<00:07,  2.18it/s]"
     ]
    },
    {
     "name": "stdout",
     "output_type": "stream",
     "text": [
      "Error evaluating mBART-50 for ml_IN: Couldn't find cache for opus100 for config 'en-ml'\n",
      "Available configs in the cache: ['en-es', 'en-et', 'en-fa', 'en-fi', 'en-fr', 'en-gu', 'en-hi', 'en-it', 'en-ja', 'en-kk', 'en-ko', 'en-lt', 'en-lv', 'en-my', 'en-ne', 'en-nl', 'en-pl', 'en-pt']\n"
     ]
    },
    {
     "name": "stderr",
     "output_type": "stream",
     "text": [
      "Using the latest cached version of the dataset since opus100 couldn't be found on the Hugging Face Hub\n",
      " 71%|███████   | 37/52 [01:05<00:06,  2.25it/s]"
     ]
    },
    {
     "name": "stdout",
     "output_type": "stream",
     "text": [
      "Error evaluating mBART-50 for mn_MN: Couldn't find cache for opus100 for config 'en-mn'\n",
      "Available configs in the cache: ['en-es', 'en-et', 'en-fa', 'en-fi', 'en-fr', 'en-gu', 'en-hi', 'en-it', 'en-ja', 'en-kk', 'en-ko', 'en-lt', 'en-lv', 'en-my', 'en-ne', 'en-nl', 'en-pl', 'en-pt']\n"
     ]
    },
    {
     "name": "stderr",
     "output_type": "stream",
     "text": [
      "Using the latest cached version of the dataset since opus100 couldn't be found on the Hugging Face Hub\n",
      " 73%|███████▎  | 38/52 [01:05<00:06,  2.00it/s]"
     ]
    },
    {
     "name": "stdout",
     "output_type": "stream",
     "text": [
      "Error evaluating mBART-50 for mr_IN: Couldn't find cache for opus100 for config 'en-mr'\n",
      "Available configs in the cache: ['en-es', 'en-et', 'en-fa', 'en-fi', 'en-fr', 'en-gu', 'en-hi', 'en-it', 'en-ja', 'en-kk', 'en-ko', 'en-lt', 'en-lv', 'en-my', 'en-ne', 'en-nl', 'en-pl', 'en-pt']\n"
     ]
    },
    {
     "name": "stderr",
     "output_type": "stream",
     "text": [
      "Using the latest cached version of the dataset since opus100 couldn't be found on the Hugging Face Hub\n",
      "Found the latest cached dataset configuration 'en-pl' at /home/amondal2/.cache/huggingface/datasets/opus100/en-pl/0.0.0/805090dc28bf78897da9641cdf08b61287580df9 (last modified on Thu Apr 17 01:02:11 2025).\n",
      "Using the latest cached version of the dataset since opus100 couldn't be found on the Hugging Face Hub\n",
      " 77%|███████▋  | 40/52 [01:09<00:13,  1.12s/it]"
     ]
    },
    {
     "name": "stdout",
     "output_type": "stream",
     "text": [
      "Error evaluating mBART-50 for ps_AF: Couldn't find cache for opus100 for config 'en-ps'\n",
      "Available configs in the cache: ['en-es', 'en-et', 'en-fa', 'en-fi', 'en-fr', 'en-gu', 'en-hi', 'en-it', 'en-ja', 'en-kk', 'en-ko', 'en-lt', 'en-lv', 'en-my', 'en-ne', 'en-nl', 'en-pl', 'en-pt']\n"
     ]
    },
    {
     "name": "stderr",
     "output_type": "stream",
     "text": [
      "Using the latest cached version of the dataset since opus100 couldn't be found on the Hugging Face Hub\n",
      "Found the latest cached dataset configuration 'en-pt' at /home/amondal2/.cache/huggingface/datasets/opus100/en-pt/0.0.0/805090dc28bf78897da9641cdf08b61287580df9 (last modified on Thu Apr 17 01:08:08 2025).\n",
      " 81%|████████  | 42/52 [01:14<00:18,  1.89s/it]"
     ]
    },
    {
     "name": "stdout",
     "output_type": "stream",
     "text": [
      "Error evaluating mBART-50 for sv_SE: [Errno 122] Disk quota exceeded\n",
      "No suitable dataset found for sw_KE, skipping evaluation\n"
     ]
    },
    {
     "name": "stderr",
     "output_type": "stream",
     "text": [
      " 85%|████████▍ | 44/52 [01:17<00:13,  1.69s/it]"
     ]
    },
    {
     "name": "stdout",
     "output_type": "stream",
     "text": [
      "Error evaluating mBART-50 for ta_IN: [Errno 122] Disk quota exceeded\n"
     ]
    },
    {
     "name": "stderr",
     "output_type": "stream",
     "text": [
      " 87%|████████▋ | 45/52 [01:20<00:13,  1.87s/it]"
     ]
    },
    {
     "name": "stdout",
     "output_type": "stream",
     "text": [
      "Error evaluating mBART-50 for te_IN: [Errno 122] Disk quota exceeded\n"
     ]
    },
    {
     "name": "stderr",
     "output_type": "stream",
     "text": [
      " 88%|████████▊ | 46/52 [01:22<00:11,  1.91s/it]"
     ]
    },
    {
     "name": "stdout",
     "output_type": "stream",
     "text": [
      "Error evaluating mBART-50 for th_TH: [Errno 122] Disk quota exceeded\n",
      "No suitable dataset found for tl_XX, skipping evaluation\n"
     ]
    },
    {
     "name": "stderr",
     "output_type": "stream",
     "text": [
      " 92%|█████████▏| 48/52 [01:24<00:06,  1.64s/it]"
     ]
    },
    {
     "name": "stdout",
     "output_type": "stream",
     "text": [
      "Error evaluating mBART-50 for uk_UA: [Errno 122] Disk quota exceeded\n"
     ]
    },
    {
     "name": "stderr",
     "output_type": "stream",
     "text": [
      " 94%|█████████▍| 49/52 [01:26<00:05,  1.75s/it]"
     ]
    },
    {
     "name": "stdout",
     "output_type": "stream",
     "text": [
      "Error evaluating mBART-50 for ur_PK: [Errno 122] Disk quota exceeded\n"
     ]
    },
    {
     "name": "stderr",
     "output_type": "stream",
     "text": [
      " 96%|█████████▌| 50/52 [01:29<00:03,  1.88s/it]"
     ]
    },
    {
     "name": "stdout",
     "output_type": "stream",
     "text": [
      "Error evaluating mBART-50 for xh_ZA: [Errno 122] Disk quota exceeded\n"
     ]
    },
    {
     "name": "stderr",
     "output_type": "stream",
     "text": [
      " 98%|█████████▊| 51/52 [01:30<00:01,  1.84s/it]"
     ]
    },
    {
     "name": "stdout",
     "output_type": "stream",
     "text": [
      "Error evaluating mBART-50 for gl_ES: 429 Client Error: Too Many Requests for url: https://huggingface.co/api/datasets/opus100/paths-info/805090dc28bf78897da9641cdf08b61287580df9\n"
     ]
    },
    {
     "name": "stderr",
     "output_type": "stream",
     "text": [
      "Using the latest cached version of the dataset since opus100 couldn't be found on the Hugging Face Hub\n",
      "100%|██████████| 52/52 [01:31<00:00,  1.76s/it]"
     ]
    },
    {
     "name": "stdout",
     "output_type": "stream",
     "text": [
      "Error evaluating mBART-50 for sl_SI: Couldn't find cache for opus100 for config 'en-sl'\n",
      "Available configs in the cache: ['en-es', 'en-et', 'en-fa', 'en-fi', 'en-fr', 'en-gu', 'en-hi', 'en-it', 'en-ja', 'en-kk', 'en-ko', 'en-lt', 'en-lv', 'en-my', 'en-ne', 'en-nl', 'en-pl', 'en-pt']\n",
      "   Language Code  mBART-25 BLEU  mBART-50 BLEU\n",
      "0          af_ZA  Not supported           None\n",
      "1          ar_AR           None           None\n",
      "2          az_AZ  Not supported           None\n",
      "3          bn_IN  Not supported           None\n",
      "4          cs_CZ           None           None\n",
      "5          de_DE           None           None\n",
      "6          en_XX  Not supported  Not supported\n",
      "7          es_XX       0.452606      14.123204\n",
      "8          et_EE       2.549456      27.919842\n",
      "9          fa_IR  Not supported       5.146745\n",
      "10         fi_FI       0.342536      13.864113\n",
      "11         fr_XX       0.784129      32.090082\n",
      "12         gl_ES  Not supported           None\n",
      "13         gu_IN         0.1704       3.904954\n",
      "14         he_IL  Not supported           None\n",
      "15         hi_IN       0.124366      20.414876\n",
      "16         hr_HR  Not supported           None\n",
      "17         id_ID  Not supported           None\n",
      "18         it_IT       1.508696      17.198057\n",
      "19         ja_XX       0.670293       1.234114\n",
      "20         ka_GE  Not supported           None\n",
      "21         kk_KZ       0.009849       1.429635\n",
      "22         km_KH  Not supported           None\n",
      "23         ko_KR       0.079657       2.490536\n",
      "24         lt_LT        2.69289       25.20436\n",
      "25         lv_LV       0.921073      30.305533\n",
      "26         mk_MK  Not supported           None\n",
      "27         ml_IN  Not supported           None\n",
      "28         mn_MN  Not supported           None\n",
      "29         mr_IN  Not supported           None\n",
      "30         my_MM       0.142005       2.984003\n",
      "31         ne_NP       0.288359      53.772942\n",
      "32         nl_XX       0.345521      23.471397\n",
      "33         pl_PL  Not supported      11.866973\n",
      "34         ps_AF  Not supported           None\n",
      "35         pt_XX  Not supported      28.881314\n",
      "36         ro_RO           None           None\n",
      "37         ru_RU           None           None\n",
      "38         si_LK           None           None\n",
      "39         sl_SI  Not supported           None\n",
      "40         sv_SE  Not supported           None\n",
      "41         sw_KE  Not supported           None\n",
      "42         ta_IN  Not supported           None\n",
      "43         te_IN  Not supported           None\n",
      "44         th_TH  Not supported           None\n",
      "45         tl_XX  Not supported           None\n",
      "46         tr_TR           None           None\n",
      "47         uk_UA  Not supported           None\n",
      "48         ur_PK  Not supported           None\n",
      "49         vi_VN           None           None\n",
      "50         xh_ZA  Not supported           None\n",
      "51         zh_CN           None           None\n",
      "Results saved to mbart_comparison_results.csv\n"
     ]
    },
    {
     "name": "stderr",
     "output_type": "stream",
     "text": [
      "\n"
     ]
    }
   ],
   "source": [
    "# Main evaluation function\n",
    "def evaluate_models_on_languages():\n",
    "    results = {\n",
    "        'mBART-25': {},\n",
    "        'mBART-50': {}\n",
    "    }\n",
    "    \n",
    "    # Load models\n",
    "    mbart25_model = MBartForConditionalGeneration.from_pretrained(\"facebook/mbart-large-cc25\")\n",
    "    mbart25_tokenizer = MBartTokenizer.from_pretrained(\"facebook/mbart-large-cc25\")\n",
    "    \n",
    "    mbart50_model = MBartForConditionalGeneration.from_pretrained(\"facebook/mbart-large-50-many-to-many-mmt\")\n",
    "    mbart50_tokenizer = MBart50TokenizerFast.from_pretrained(\"facebook/mbart-large-50-many-to-many-mmt\")\n",
    "    \n",
    "    # Get supported languages\n",
    "    mbart25_langs = list(mbart25_tokenizer.lang_code_to_id.keys())\n",
    "    mbart50_langs = list(mbart50_tokenizer.lang_code_to_id.keys())\n",
    "    \n",
    "    # Create a dictionary to map language codes to dataset configurations\n",
    "    # language_datasets = {\n",
    "    #     # Map only a few key languages with available datasets for demonstration\n",
    "    #     \"pl_PL\": (\"opus100\", \"en-pl\"),\n",
    "    #     \"fa_IR\": (\"opus100\", \"en-fa\"),\n",
    "    #     \"pt_XX\": (\"opus100\", \"en-pt\"),\n",
    "    #     # Add more languages as needed\n",
    "    # }\n",
    "    \n",
    "    # Evaluate mBART-25 on its supported languages\n",
    "    print(\"Evaluating mBART-25...\")\n",
    "    for tgt_lang in tqdm(mbart25_langs):\n",
    "        if tgt_lang == \"en_XX\":  # Skip if target is English (source language in this example)\n",
    "            continue\n",
    "        \n",
    "        try:\n",
    "            # Load appropriate test data if available for this language\n",
    "            if tgt_lang in language_datasets:\n",
    "                dataset_name, config = language_datasets[tgt_lang]\n",
    "                dataset = load_dataset(dataset_name, config, split=\"test[50:100]\")\n",
    "                \n",
    "                # Get target language code for dataset (remove underscore and country code)\n",
    "                dataset_tgt_lang = tgt_lang.split('_')[0].lower()\n",
    "                \n",
    "                # Check if the dataset has the expected structure and fields\n",
    "                if \"translation\" in dataset.features and dataset_tgt_lang in dataset[\"translation\"][0]:\n",
    "                    # Extract source and target sentences\n",
    "                    src_texts = [item[\"en\"] for item in dataset[\"translation\"]]\n",
    "                    tgt_texts = [item[dataset_tgt_lang] for item in dataset[\"translation\"]]\n",
    "                    \n",
    "                    bleu_score = evaluate_language_pair(\n",
    "                        mbart25_model, \n",
    "                        mbart25_tokenizer,\n",
    "                        \"en_XX\", \n",
    "                        tgt_lang,\n",
    "                        src_texts,\n",
    "                        tgt_texts\n",
    "                    )\n",
    "                    \n",
    "                    results['mBART-25'][tgt_lang] = bleu_score\n",
    "                else:\n",
    "                    print(f\"Dataset for {tgt_lang} doesn't have the expected structure\")\n",
    "                    results['mBART-25'][tgt_lang] = None\n",
    "            else:\n",
    "                print(f\"No suitable dataset found for {tgt_lang}, skipping evaluation\")\n",
    "                results['mBART-25'][tgt_lang] = None\n",
    "            \n",
    "        except Exception as e:\n",
    "            print(f\"Error evaluating mBART-25 for {tgt_lang}: {e}\")\n",
    "            results['mBART-25'][tgt_lang] = None\n",
    "    \n",
    "    # Evaluate mBART-50 on its supported languages\n",
    "    print(\"Evaluating mBART-50...\")\n",
    "    for tgt_lang in tqdm(mbart50_langs):\n",
    "        if tgt_lang == \"en_XX\":  # Skip if target is English (source language in this example)\n",
    "            continue\n",
    "        \n",
    "        try:\n",
    "            # Load appropriate test data if available for this language\n",
    "            if tgt_lang in language_datasets:\n",
    "                dataset_name, config = language_datasets[tgt_lang]\n",
    "                dataset = load_dataset(dataset_name, config, split=\"test[50:100]\")\n",
    "                \n",
    "                # Get target language code for dataset (remove underscore and country code)\n",
    "                dataset_tgt_lang = tgt_lang.split('_')[0].lower()\n",
    "                \n",
    "                # Check if the dataset has the expected structure and fields\n",
    "                if \"translation\" in dataset.features and dataset_tgt_lang in dataset[\"translation\"][0]:\n",
    "                    # Extract source and target sentences\n",
    "                    src_texts = [item[\"en\"] for item in dataset[\"translation\"]]\n",
    "                    tgt_texts = [item[dataset_tgt_lang] for item in dataset[\"translation\"]]\n",
    "                    \n",
    "                    bleu_score = evaluate_language_pair(\n",
    "                        mbart50_model, \n",
    "                        mbart50_tokenizer,\n",
    "                        \"en_XX\", \n",
    "                        tgt_lang,\n",
    "                        src_texts,\n",
    "                        tgt_texts\n",
    "                    )\n",
    "                    \n",
    "                    results['mBART-50'][tgt_lang] = bleu_score\n",
    "                else:\n",
    "                    print(f\"Dataset for {tgt_lang} doesn't have the expected structure\")\n",
    "                    results['mBART-50'][tgt_lang] = None\n",
    "            else:\n",
    "                print(f\"No suitable dataset found for {tgt_lang}, skipping evaluation\")\n",
    "                results['mBART-50'][tgt_lang] = None\n",
    "            \n",
    "        except Exception as e:\n",
    "            print(f\"Error evaluating mBART-50 for {tgt_lang}: {e}\")\n",
    "            results['mBART-50'][tgt_lang] = None\n",
    "    \n",
    "    # Create a DataFrame to display results\n",
    "    all_langs = sorted(set(mbart25_langs + mbart50_langs))\n",
    "    df_data = []\n",
    "    \n",
    "    for lang in all_langs:\n",
    "        row = {\n",
    "            'Language Code': lang,\n",
    "            'mBART-25 BLEU': results['mBART-25'].get(lang, 'Not supported'),\n",
    "            'mBART-50 BLEU': results['mBART-50'].get(lang, 'Not supported')\n",
    "        }\n",
    "        df_data.append(row)\n",
    "    \n",
    "    results_df = pd.DataFrame(df_data)\n",
    "    return results_df\n",
    "\n",
    "# Run the evaluation\n",
    "if __name__ == \"__main__\":\n",
    "    results = evaluate_models_on_languages()\n",
    "    print(results)\n",
    "    \n",
    "    # Save results to CSV\n",
    "    results.to_csv('mbart_comparison_results.csv', index=False)\n",
    "    print(\"Results saved to mbart_comparison_results.csv\")"
   ]
  },
  {
   "cell_type": "markdown",
   "id": "fd3a9e78-beb5-40d3-9b05-3d43af0fb091",
   "metadata": {},
   "source": [
    "#### Memory issue so had to run on smaller subset. Let's try a memory efficient approach to test on 100 datapoints"
   ]
  },
  {
   "cell_type": "code",
   "execution_count": 19,
   "id": "1e54aa2c-2c31-4873-bc37-667b47e2f8dc",
   "metadata": {
    "scrolled": true
   },
   "outputs": [
    {
     "name": "stdout",
     "output_type": "stream",
     "text": [
      "Getting language lists...\n",
      "GPU memory after clearing: 25.10 GB\n",
      "Evaluating mBART-25...\n"
     ]
    },
    {
     "name": "stderr",
     "output_type": "stream",
     "text": [
      "  0%|          | 0/21 [00:00<?, ?it/s]"
     ]
    },
    {
     "name": "stdout",
     "output_type": "stream",
     "text": [
      "Loading model facebook/mbart-large-cc25 for en_XX to es_XX...\n",
      "GPU memory after clearing: 25.10 GB\n",
      "Loading dataset opus100 en-es...\n"
     ]
    },
    {
     "name": "stderr",
     "output_type": "stream",
     "text": [
      "  5%|▍         | 1/21 [00:18<06:12, 18.60s/it]"
     ]
    },
    {
     "name": "stdout",
     "output_type": "stream",
     "text": [
      "BLEU score for en_XX to es_XX: 1.92\n",
      "GPU memory after clearing: 25.10 GB\n",
      "Loading model facebook/mbart-large-cc25 for en_XX to et_EE...\n",
      "GPU memory after clearing: 25.10 GB\n",
      "Loading dataset opus100 en-et...\n"
     ]
    },
    {
     "name": "stderr",
     "output_type": "stream",
     "text": [
      " 10%|▉         | 2/21 [00:52<08:40, 27.38s/it]"
     ]
    },
    {
     "name": "stdout",
     "output_type": "stream",
     "text": [
      "BLEU score for en_XX to et_EE: 2.74\n",
      "GPU memory after clearing: 25.10 GB\n",
      "Loading model facebook/mbart-large-cc25 for en_XX to fi_FI...\n",
      "GPU memory after clearing: 25.10 GB\n",
      "Loading dataset opus100 en-fi...\n"
     ]
    },
    {
     "name": "stderr",
     "output_type": "stream",
     "text": [
      " 14%|█▍        | 3/21 [01:10<06:55, 23.06s/it]"
     ]
    },
    {
     "name": "stdout",
     "output_type": "stream",
     "text": [
      "BLEU score for en_XX to fi_FI: 1.29\n",
      "GPU memory after clearing: 25.10 GB\n",
      "Loading model facebook/mbart-large-cc25 for en_XX to fr_XX...\n",
      "GPU memory after clearing: 25.10 GB\n",
      "Loading dataset opus100 en-fr...\n"
     ]
    },
    {
     "name": "stderr",
     "output_type": "stream",
     "text": [
      "\n",
      "Generating test split: 100%|██████████| 2000/2000 [00:00<00:00, 463946.02 examples/s]\n",
      "\n",
      "\u001b[Aerating train split:   0%|          | 0/1000000 [00:00<?, ? examples/s]\n",
      "\u001b[Aerating train split:   8%|▊         | 84000/1000000 [00:00<00:01, 650121.30 examples/s]\n",
      "\u001b[Aerating train split:  25%|██▍       | 249000/1000000 [00:00<00:00, 997041.69 examples/s]\n",
      "\u001b[Aerating train split:  41%|████▏     | 414000/1000000 [00:00<00:00, 1085960.30 examples/s]\n",
      "\u001b[Aerating train split:  58%|█████▊    | 579000/1000000 [00:00<00:00, 1120522.37 examples/s]\n",
      "Generating train split: 100%|██████████| 1000000/1000000 [00:00<00:00, 1478439.23 examples/s]\n",
      "\n",
      "Generating validation split: 100%|██████████| 2000/2000 [00:00<00:00, 457793.49 examples/s]\n",
      " 19%|█▉        | 4/21 [01:33<06:37, 23.39s/it]"
     ]
    },
    {
     "name": "stdout",
     "output_type": "stream",
     "text": [
      "BLEU score for en_XX to fr_XX: 0.57\n",
      "GPU memory after clearing: 25.10 GB\n",
      "Loading model facebook/mbart-large-cc25 for en_XX to gu_IN...\n",
      "GPU memory after clearing: 25.10 GB\n",
      "Loading dataset opus100 en-gu...\n"
     ]
    },
    {
     "name": "stderr",
     "output_type": "stream",
     "text": [
      "\n",
      "Generating test split: 100%|██████████| 2000/2000 [00:00<00:00, 604105.43 examples/s]\n",
      "\n",
      "\u001b[Aerating train split:   0%|          | 0/318306 [00:00<?, ? examples/s]\n",
      "Generating train split: 100%|██████████| 318306/318306 [00:00<00:00, 2443853.22 examples/s]\n",
      "\n",
      "Generating validation split: 100%|██████████| 2000/2000 [00:00<00:00, 613965.31 examples/s]\n",
      " 24%|██▍       | 5/21 [01:56<06:07, 22.95s/it]"
     ]
    },
    {
     "name": "stdout",
     "output_type": "stream",
     "text": [
      "BLEU score for en_XX to gu_IN: 1.99\n",
      "GPU memory after clearing: 25.10 GB\n",
      "Loading model facebook/mbart-large-cc25 for en_XX to hi_IN...\n",
      "GPU memory after clearing: 25.10 GB\n",
      "Loading dataset opus100 en-hi...\n"
     ]
    },
    {
     "name": "stderr",
     "output_type": "stream",
     "text": [
      "\n",
      "Generating test split: 100%|██████████| 2000/2000 [00:00<00:00, 469240.25 examples/s]\n",
      "\n",
      "\u001b[Aerating train split:   0%|          | 0/534319 [00:00<?, ? examples/s]\n",
      "\u001b[Aerating train split:  13%|█▎        | 72000/534319 [00:00<00:00, 531253.32 examples/s]\n",
      "Generating train split: 100%|██████████| 534319/534319 [00:00<00:00, 1503833.11 examples/s]\n",
      "\n",
      "Generating validation split: 100%|██████████| 2000/2000 [00:00<00:00, 493563.66 examples/s]\n",
      " 29%|██▊       | 6/21 [02:16<05:33, 22.25s/it]"
     ]
    },
    {
     "name": "stdout",
     "output_type": "stream",
     "text": [
      "BLEU score for en_XX to hi_IN: 0.30\n",
      "GPU memory after clearing: 25.10 GB\n",
      "Loading model facebook/mbart-large-cc25 for en_XX to it_IT...\n",
      "GPU memory after clearing: 25.10 GB\n",
      "Loading dataset opus100 en-it...\n"
     ]
    },
    {
     "name": "stderr",
     "output_type": "stream",
     "text": [
      "\n",
      "Generating test split: 100%|██████████| 2000/2000 [00:00<00:00, 536184.60 examples/s]\n",
      "\n",
      "\u001b[Aerating train split:   0%|          | 0/1000000 [00:00<?, ? examples/s]\n",
      "\u001b[Aerating train split:  14%|█▎        | 137000/1000000 [00:00<00:01, 780983.64 examples/s]\n",
      "\u001b[Aerating train split:  41%|████      | 406000/1000000 [00:00<00:00, 1204317.26 examples/s]\n",
      "Generating train split: 100%|██████████| 1000000/1000000 [00:00<00:00, 2060038.35 examples/s]\n",
      "\n",
      "Generating validation split: 100%|██████████| 2000/2000 [00:00<00:00, 563523.31 examples/s]\n",
      " 33%|███▎      | 7/21 [02:36<04:57, 21.22s/it]"
     ]
    },
    {
     "name": "stdout",
     "output_type": "stream",
     "text": [
      "BLEU score for en_XX to it_IT: 1.95\n",
      "GPU memory after clearing: 25.10 GB\n",
      "Loading model facebook/mbart-large-cc25 for en_XX to ja_XX...\n",
      "GPU memory after clearing: 25.10 GB\n",
      "Loading dataset opus100 en-ja...\n"
     ]
    },
    {
     "name": "stderr",
     "output_type": "stream",
     "text": [
      "\n",
      "Generating test split: 100%|██████████| 2000/2000 [00:00<00:00, 571820.59 examples/s]\n",
      "\n",
      "\u001b[Aerating train split:   0%|          | 0/1000000 [00:00<?, ? examples/s]\n",
      "\u001b[Aerating train split:  19%|█▉        | 189000/1000000 [00:00<00:00, 899074.02 examples/s]\n",
      "Generating train split: 100%|██████████| 1000000/1000000 [00:00<00:00, 2552038.90 examples/s]\n",
      "\n",
      "Generating validation split: 100%|██████████| 2000/2000 [00:00<00:00, 543444.42 examples/s]\n",
      " 38%|███▊      | 8/21 [02:52<04:17, 19.80s/it]"
     ]
    },
    {
     "name": "stdout",
     "output_type": "stream",
     "text": [
      "BLEU score for en_XX to ja_XX: 1.12\n",
      "GPU memory after clearing: 25.10 GB\n",
      "Loading model facebook/mbart-large-cc25 for en_XX to kk_KZ...\n",
      "GPU memory after clearing: 25.10 GB\n",
      "Loading dataset opus100 en-kk...\n"
     ]
    },
    {
     "name": "stderr",
     "output_type": "stream",
     "text": [
      "\n",
      "Generating test split: 100%|██████████| 2000/2000 [00:00<00:00, 609858.81 examples/s]\n",
      "\n",
      "Generating train split: 100%|██████████| 79927/79927 [00:00<00:00, 2484386.43 examples/s]\n",
      "\n",
      "Generating validation split: 100%|██████████| 2000/2000 [00:00<00:00, 724342.28 examples/s]\n",
      " 43%|████▎     | 9/21 [03:22<04:34, 22.85s/it]"
     ]
    },
    {
     "name": "stdout",
     "output_type": "stream",
     "text": [
      "BLEU score for en_XX to kk_KZ: 0.04\n",
      "GPU memory after clearing: 25.10 GB\n",
      "Loading model facebook/mbart-large-cc25 for en_XX to ko_KR...\n",
      "GPU memory after clearing: 25.10 GB\n",
      "Loading dataset opus100 en-ko...\n"
     ]
    },
    {
     "name": "stderr",
     "output_type": "stream",
     "text": [
      "\n",
      "Generating test split: 100%|██████████| 2000/2000 [00:00<00:00, 543937.75 examples/s]\n",
      "\n",
      "\u001b[Aerating train split:   0%|          | 0/1000000 [00:00<?, ? examples/s]\n",
      "\u001b[Aerating train split:  18%|█▊        | 179000/1000000 [00:00<00:00, 899222.22 examples/s]\n",
      "\u001b[Aerating train split:  36%|███▌      | 357000/1000000 [00:00<00:00, 1253345.51 examples/s]\n",
      "Generating train split: 100%|██████████| 1000000/1000000 [00:00<00:00, 2410865.93 examples/s]\n",
      "\n",
      "Generating validation split: 100%|██████████| 2000/2000 [00:00<00:00, 544679.44 examples/s]\n",
      " 48%|████▊     | 10/21 [03:48<04:22, 23.86s/it]"
     ]
    },
    {
     "name": "stdout",
     "output_type": "stream",
     "text": [
      "BLEU score for en_XX to ko_KR: 0.26\n",
      "GPU memory after clearing: 25.10 GB\n",
      "Loading model facebook/mbart-large-cc25 for en_XX to lt_LT...\n",
      "GPU memory after clearing: 25.10 GB\n",
      "Loading dataset opus100 en-lt...\n"
     ]
    },
    {
     "name": "stderr",
     "output_type": "stream",
     "text": [
      "\n",
      "Generating test split: 100%|██████████| 2000/2000 [00:00<00:00, 471906.39 examples/s]\n",
      "\n",
      "\u001b[Aerating train split:   0%|          | 0/1000000 [00:00<?, ? examples/s]\n",
      "\u001b[Aerating train split:  10%|▉         | 96000/1000000 [00:00<00:01, 622163.76 examples/s]\n",
      "\u001b[Aerating train split:  21%|██▏       | 213000/1000000 [00:00<00:01, 776571.19 examples/s]\n",
      "\u001b[Aerating train split:  40%|████      | 401000/1000000 [00:00<00:00, 1149940.41 examples/s]\n",
      "Generating train split: 100%|██████████| 1000000/1000000 [00:00<00:00, 1678685.17 examples/s]\n",
      "\n",
      "Generating validation split: 100%|██████████| 2000/2000 [00:00<00:00, 493447.53 examples/s]\n",
      " 52%|█████▏    | 11/21 [04:18<04:17, 25.75s/it]"
     ]
    },
    {
     "name": "stdout",
     "output_type": "stream",
     "text": [
      "BLEU score for en_XX to lt_LT: 3.00\n",
      "GPU memory after clearing: 25.10 GB\n",
      "Loading model facebook/mbart-large-cc25 for en_XX to lv_LV...\n",
      "GPU memory after clearing: 25.10 GB\n",
      "Loading dataset opus100 en-lv...\n"
     ]
    },
    {
     "name": "stderr",
     "output_type": "stream",
     "text": [
      "\n",
      "Generating test split: 100%|██████████| 2000/2000 [00:00<00:00, 439447.22 examples/s]\n",
      "\n",
      "\u001b[Aerating train split:   0%|          | 0/1000000 [00:00<?, ? examples/s]\n",
      "\u001b[Aerating train split:   8%|▊         | 82000/1000000 [00:00<00:01, 538747.96 examples/s]\n",
      "\u001b[Aerating train split:  24%|██▍       | 242000/1000000 [00:00<00:00, 828589.12 examples/s]\n",
      "\u001b[Aerating train split:  40%|████      | 402000/1000000 [00:00<00:00, 924662.30 examples/s]\n",
      "Generating train split: 100%|██████████| 1000000/1000000 [00:00<00:00, 1506181.94 examples/s]\n",
      "\n",
      "Generating validation split: 100%|██████████| 2000/2000 [00:00<00:00, 248396.79 examples/s]\n",
      " 57%|█████▋    | 12/21 [04:40<03:39, 24.44s/it]"
     ]
    },
    {
     "name": "stdout",
     "output_type": "stream",
     "text": [
      "BLEU score for en_XX to lv_LV: 1.48\n",
      "GPU memory after clearing: 25.10 GB\n",
      "Loading model facebook/mbart-large-cc25 for en_XX to my_MM...\n",
      "GPU memory after clearing: 25.10 GB\n",
      "Loading dataset opus100 en-my...\n"
     ]
    },
    {
     "name": "stderr",
     "output_type": "stream",
     "text": [
      "\n",
      "Generating test split: 100%|██████████| 2000/2000 [00:00<00:00, 543726.21 examples/s]\n",
      "\n",
      "Generating train split: 100%|██████████| 24594/24594 [00:00<00:00, 1790041.34 examples/s]\n",
      "\n",
      "Generating validation split: 100%|██████████| 2000/2000 [00:00<00:00, 677319.98 examples/s]\n",
      " 62%|██████▏   | 13/21 [05:02<03:10, 23.77s/it]"
     ]
    },
    {
     "name": "stdout",
     "output_type": "stream",
     "text": [
      "BLEU score for en_XX to my_MM: 0.77\n",
      "GPU memory after clearing: 25.10 GB\n",
      "Loading model facebook/mbart-large-cc25 for en_XX to ne_NP...\n",
      "GPU memory after clearing: 25.10 GB\n",
      "Loading dataset opus100 en-ne...\n"
     ]
    },
    {
     "name": "stderr",
     "output_type": "stream",
     "text": [
      "\n",
      "Generating test split: 100%|██████████| 2000/2000 [00:00<00:00, 538352.46 examples/s]\n",
      "\n",
      "\u001b[Aerating train split:   0%|          | 0/406381 [00:00<?, ? examples/s]\n",
      "Generating train split: 100%|██████████| 406381/406381 [00:00<00:00, 2496814.62 examples/s]\n",
      "\n",
      "Generating validation split: 100%|██████████| 2000/2000 [00:00<00:00, 602759.79 examples/s]\n",
      " 67%|██████▋   | 14/21 [05:18<02:30, 21.55s/it]"
     ]
    },
    {
     "name": "stdout",
     "output_type": "stream",
     "text": [
      "BLEU score for en_XX to ne_NP: 2.29\n",
      "GPU memory after clearing: 25.10 GB\n",
      "Loading model facebook/mbart-large-cc25 for en_XX to nl_XX...\n",
      "GPU memory after clearing: 25.10 GB\n",
      "Loading dataset opus100 en-nl...\n"
     ]
    },
    {
     "name": "stderr",
     "output_type": "stream",
     "text": [
      "\n",
      "Generating test split: 100%|██████████| 2000/2000 [00:00<00:00, 523993.25 examples/s]\n",
      "\n",
      "\u001b[Aerating train split:   0%|          | 0/1000000 [00:00<?, ? examples/s]\n",
      "\u001b[Aerating train split:  15%|█▍        | 149000/1000000 [00:00<00:01, 804344.18 examples/s]\n",
      "\u001b[Aerating train split:  34%|███▎      | 335000/1000000 [00:00<00:00, 1159193.53 examples/s]\n",
      "Generating train split: 100%|██████████| 1000000/1000000 [00:00<00:00, 2188586.78 examples/s]\n",
      "\n",
      "Generating validation split: 100%|██████████| 2000/2000 [00:00<00:00, 517049.31 examples/s]\n",
      " 71%|███████▏  | 15/21 [05:37<02:04, 20.76s/it]"
     ]
    },
    {
     "name": "stdout",
     "output_type": "stream",
     "text": [
      "BLEU score for en_XX to nl_XX: 0.98\n",
      "GPU memory after clearing: 25.10 GB\n",
      "Loading model facebook/mbart-large-cc25 for en_XX to ro_RO...\n",
      "GPU memory after clearing: 25.10 GB\n",
      "Loading dataset opus100 en-ro...\n"
     ]
    },
    {
     "name": "stderr",
     "output_type": "stream",
     "text": [
      "\n",
      "Generating test split: 100%|██████████| 2000/2000 [00:00<00:00, 539495.02 examples/s]\n",
      "\n",
      "\u001b[Aerating train split:   0%|          | 0/1000000 [00:00<?, ? examples/s]\n",
      "\u001b[Aerating train split:  20%|█▉        | 197000/1000000 [00:00<00:00, 927290.41 examples/s]\n",
      "Generating train split: 100%|██████████| 1000000/1000000 [00:00<00:00, 2606211.58 examples/s]\n",
      "\n",
      "Generating validation split: 100%|██████████| 2000/2000 [00:00<00:00, 551338.02 examples/s]\n",
      " 76%|███████▌  | 16/21 [06:10<02:02, 24.53s/it]"
     ]
    },
    {
     "name": "stdout",
     "output_type": "stream",
     "text": [
      "BLEU score for en_XX to ro_RO: 1.72\n",
      "GPU memory after clearing: 25.10 GB\n",
      "Loading model facebook/mbart-large-cc25 for en_XX to ru_RU...\n",
      "GPU memory after clearing: 25.10 GB\n",
      "Loading dataset opus100 en-ru...\n"
     ]
    },
    {
     "name": "stderr",
     "output_type": "stream",
     "text": [
      "\n",
      "Generating test split: 100%|██████████| 2000/2000 [00:00<00:00, 459700.13 examples/s]\n",
      "\n",
      "\u001b[Aerating train split:   0%|          | 0/1000000 [00:00<?, ? examples/s]\n",
      "\u001b[Aerating train split:   9%|▊         | 87000/1000000 [00:00<00:01, 623940.00 examples/s]\n",
      "\u001b[Aerating train split:  26%|██▌       | 256000/1000000 [00:00<00:00, 956632.45 examples/s]\n",
      "\u001b[Aerating train split:  43%|████▎     | 427000/1000000 [00:00<00:00, 1066282.59 examples/s]\n",
      "Generating train split: 100%|██████████| 1000000/1000000 [00:00<00:00, 1605207.94 examples/s]\n",
      "\n",
      "Generating validation split: 100%|██████████| 2000/2000 [00:00<00:00, 445917.92 examples/s]\n",
      " 81%|████████  | 17/21 [06:36<01:38, 24.73s/it]"
     ]
    },
    {
     "name": "stdout",
     "output_type": "stream",
     "text": [
      "BLEU score for en_XX to ru_RU: 4.35\n",
      "GPU memory after clearing: 25.10 GB\n",
      "Loading model facebook/mbart-large-cc25 for en_XX to si_LK...\n",
      "GPU memory after clearing: 25.10 GB\n",
      "Loading dataset opus100 en-si...\n"
     ]
    },
    {
     "name": "stderr",
     "output_type": "stream",
     "text": [
      "\n",
      "Generating test split: 100%|██████████| 2000/2000 [00:00<00:00, 554142.42 examples/s]\n",
      "\n",
      "\u001b[Aerating train split:   0%|          | 0/979109 [00:00<?, ? examples/s]\n",
      "\u001b[Aerating train split:  15%|█▍        | 143000/979109 [00:00<00:01, 737306.38 examples/s]\n",
      "Generating train split: 100%|██████████| 979109/979109 [00:00<00:00, 2343744.39 examples/s]\n",
      "\n",
      "Generating validation split: 100%|██████████| 2000/2000 [00:00<00:00, 545281.33 examples/s]\n",
      " 86%|████████▌ | 18/21 [06:50<01:05, 21.72s/it]"
     ]
    },
    {
     "name": "stdout",
     "output_type": "stream",
     "text": [
      "BLEU score for en_XX to si_LK: 1.15\n",
      "GPU memory after clearing: 25.10 GB\n",
      "Loading model facebook/mbart-large-cc25 for en_XX to tr_TR...\n",
      "GPU memory after clearing: 25.10 GB\n",
      "Loading dataset opus100 en-tr...\n"
     ]
    },
    {
     "name": "stderr",
     "output_type": "stream",
     "text": [
      "\n",
      "Generating test split: 100%|██████████| 2000/2000 [00:00<00:00, 568603.54 examples/s]\n",
      "\n",
      "\u001b[Aerating train split:   0%|          | 0/1000000 [00:00<?, ? examples/s]\n",
      "\u001b[Aerating train split:   0%|          | 1000/1000000 [00:00<01:42, 9710.21 examples/s]\n",
      "\u001b[Aerating train split:  26%|██▋       | 265000/1000000 [00:00<00:00, 1200419.03 examples/s]\n",
      "Generating train split: 100%|██████████| 1000000/1000000 [00:00<00:00, 2697112.55 examples/s]\n",
      "\n",
      "Generating validation split: 100%|██████████| 2000/2000 [00:00<00:00, 562352.22 examples/s]\n",
      " 90%|█████████ | 19/21 [07:14<00:44, 22.37s/it]"
     ]
    },
    {
     "name": "stdout",
     "output_type": "stream",
     "text": [
      "BLEU score for en_XX to tr_TR: 1.26\n",
      "GPU memory after clearing: 25.10 GB\n",
      "Loading model facebook/mbart-large-cc25 for en_XX to vi_VN...\n",
      "GPU memory after clearing: 25.10 GB\n",
      "Loading dataset opus100 en-vi...\n"
     ]
    },
    {
     "name": "stderr",
     "output_type": "stream",
     "text": [
      "\n",
      "Generating test split: 100%|██████████| 2000/2000 [00:00<00:00, 571197.60 examples/s]\n",
      "\n",
      "\u001b[Aerating train split:   0%|          | 0/1000000 [00:00<?, ? examples/s]\n",
      "\u001b[Aerating train split:   0%|          | 1000/1000000 [00:00<01:40, 9974.28 examples/s]\n",
      "\u001b[Aerating train split:  20%|█▉        | 196000/1000000 [00:00<00:00, 1130368.28 examples/s]\n",
      "Generating train split: 100%|██████████| 1000000/1000000 [00:00<00:00, 2672593.44 examples/s]\n",
      "\n",
      "Generating validation split: 100%|██████████| 2000/2000 [00:00<00:00, 559203.25 examples/s]\n",
      " 95%|█████████▌| 20/21 [07:37<00:22, 22.55s/it]"
     ]
    },
    {
     "name": "stdout",
     "output_type": "stream",
     "text": [
      "BLEU score for en_XX to vi_VN: 2.34\n",
      "GPU memory after clearing: 25.10 GB\n",
      "Loading model facebook/mbart-large-cc25 for en_XX to zh_CN...\n",
      "GPU memory after clearing: 25.10 GB\n",
      "Loading dataset opus100 en-zh...\n"
     ]
    },
    {
     "name": "stderr",
     "output_type": "stream",
     "text": [
      "\n",
      "Generating test split: 100%|██████████| 2000/2000 [00:00<00:00, 437887.35 examples/s]\n",
      "\n",
      "\u001b[Aerating train split:   0%|          | 0/1000000 [00:00<?, ? examples/s]\n",
      "\u001b[Aerating train split:   8%|▊         | 85000/1000000 [00:00<00:01, 566500.63 examples/s]\n",
      "\u001b[Aerating train split:  25%|██▌       | 251000/1000000 [00:00<00:00, 1094377.27 examples/s]\n",
      "\u001b[Aerating train split:  42%|████▏     | 422000/1000000 [00:00<00:00, 910109.19 examples/s] \n",
      "Generating train split: 100%|██████████| 1000000/1000000 [00:00<00:00, 1556754.32 examples/s]\n",
      "\n",
      "Generating validation split: 100%|██████████| 2000/2000 [00:00<00:00, 474710.43 examples/s]\n",
      "100%|██████████| 21/21 [07:57<00:00, 22.73s/it]\n"
     ]
    },
    {
     "name": "stdout",
     "output_type": "stream",
     "text": [
      "BLEU score for en_XX to zh_CN: 0.57\n",
      "GPU memory after clearing: 25.10 GB\n",
      "Evaluating mBART-50...\n"
     ]
    },
    {
     "name": "stderr",
     "output_type": "stream",
     "text": [
      "  0%|          | 0/43 [00:00<?, ?it/s]"
     ]
    },
    {
     "name": "stdout",
     "output_type": "stream",
     "text": [
      "Loading model facebook/mbart-large-50-many-to-many-mmt for en_XX to es_XX...\n",
      "GPU memory after clearing: 25.10 GB\n",
      "Loading dataset opus100 en-es...\n",
      "BLEU score for en_XX to es_XX: 18.53\n"
     ]
    },
    {
     "name": "stderr",
     "output_type": "stream",
     "text": [
      "  2%|▏         | 1/43 [00:11<07:42, 11.01s/it]"
     ]
    },
    {
     "name": "stdout",
     "output_type": "stream",
     "text": [
      "GPU memory after clearing: 25.10 GB\n",
      "Loading model facebook/mbart-large-50-many-to-many-mmt for en_XX to et_EE...\n",
      "GPU memory after clearing: 25.10 GB\n",
      "Loading dataset opus100 en-et...\n",
      "BLEU score for en_XX to et_EE: 19.95\n"
     ]
    },
    {
     "name": "stderr",
     "output_type": "stream",
     "text": [
      "  5%|▍         | 2/43 [00:21<07:20, 10.74s/it]"
     ]
    },
    {
     "name": "stdout",
     "output_type": "stream",
     "text": [
      "GPU memory after clearing: 25.10 GB\n",
      "Loading model facebook/mbart-large-50-many-to-many-mmt for en_XX to fi_FI...\n",
      "GPU memory after clearing: 25.10 GB\n",
      "Loading dataset opus100 en-fi...\n",
      "BLEU score for en_XX to fi_FI: 16.90\n"
     ]
    },
    {
     "name": "stderr",
     "output_type": "stream",
     "text": [
      "  7%|▋         | 3/43 [00:38<08:57, 13.43s/it]"
     ]
    },
    {
     "name": "stdout",
     "output_type": "stream",
     "text": [
      "GPU memory after clearing: 25.10 GB\n",
      "Loading model facebook/mbart-large-50-many-to-many-mmt for en_XX to fr_XX...\n",
      "GPU memory after clearing: 25.10 GB\n",
      "Loading dataset opus100 en-fr...\n",
      "BLEU score for en_XX to fr_XX: 35.85\n"
     ]
    },
    {
     "name": "stderr",
     "output_type": "stream",
     "text": [
      "  9%|▉         | 4/43 [00:49<08:09, 12.56s/it]"
     ]
    },
    {
     "name": "stdout",
     "output_type": "stream",
     "text": [
      "GPU memory after clearing: 25.10 GB\n",
      "Loading model facebook/mbart-large-50-many-to-many-mmt for en_XX to gu_IN...\n",
      "GPU memory after clearing: 25.10 GB\n",
      "Loading dataset opus100 en-gu...\n",
      "BLEU score for en_XX to gu_IN: 5.98\n"
     ]
    },
    {
     "name": "stderr",
     "output_type": "stream",
     "text": [
      " 12%|█▏        | 5/43 [01:11<10:03, 15.88s/it]"
     ]
    },
    {
     "name": "stdout",
     "output_type": "stream",
     "text": [
      "GPU memory after clearing: 25.10 GB\n",
      "Loading model facebook/mbart-large-50-many-to-many-mmt for en_XX to hi_IN...\n",
      "GPU memory after clearing: 25.10 GB\n",
      "Loading dataset opus100 en-hi...\n",
      "BLEU score for en_XX to hi_IN: 19.88\n"
     ]
    },
    {
     "name": "stderr",
     "output_type": "stream",
     "text": [
      " 14%|█▍        | 6/43 [01:28<10:08, 16.46s/it]"
     ]
    },
    {
     "name": "stdout",
     "output_type": "stream",
     "text": [
      "GPU memory after clearing: 25.10 GB\n",
      "Loading model facebook/mbart-large-50-many-to-many-mmt for en_XX to it_IT...\n",
      "GPU memory after clearing: 25.10 GB\n",
      "Loading dataset opus100 en-it...\n",
      "BLEU score for en_XX to it_IT: 17.71\n"
     ]
    },
    {
     "name": "stderr",
     "output_type": "stream",
     "text": [
      " 16%|█▋        | 7/43 [01:41<09:11, 15.33s/it]"
     ]
    },
    {
     "name": "stdout",
     "output_type": "stream",
     "text": [
      "GPU memory after clearing: 25.10 GB\n",
      "Loading model facebook/mbart-large-50-many-to-many-mmt for en_XX to ja_XX...\n",
      "GPU memory after clearing: 25.10 GB\n",
      "Loading dataset opus100 en-ja...\n",
      "BLEU score for en_XX to ja_XX: 3.79\n"
     ]
    },
    {
     "name": "stderr",
     "output_type": "stream",
     "text": [
      " 19%|█▊        | 8/43 [01:53<08:13, 14.10s/it]"
     ]
    },
    {
     "name": "stdout",
     "output_type": "stream",
     "text": [
      "GPU memory after clearing: 25.10 GB\n",
      "Loading model facebook/mbart-large-50-many-to-many-mmt for en_XX to kk_KZ...\n",
      "GPU memory after clearing: 25.10 GB\n",
      "Loading dataset opus100 en-kk...\n",
      "BLEU score for en_XX to kk_KZ: 1.32\n"
     ]
    },
    {
     "name": "stderr",
     "output_type": "stream",
     "text": [
      " 21%|██        | 9/43 [02:04<07:28, 13.19s/it]"
     ]
    },
    {
     "name": "stdout",
     "output_type": "stream",
     "text": [
      "GPU memory after clearing: 25.10 GB\n",
      "Loading model facebook/mbart-large-50-many-to-many-mmt for en_XX to ko_KR...\n",
      "GPU memory after clearing: 25.10 GB\n",
      "Loading dataset opus100 en-ko...\n",
      "BLEU score for en_XX to ko_KR: 2.30\n"
     ]
    },
    {
     "name": "stderr",
     "output_type": "stream",
     "text": [
      " 23%|██▎       | 10/43 [02:18<07:19, 13.31s/it]"
     ]
    },
    {
     "name": "stdout",
     "output_type": "stream",
     "text": [
      "GPU memory after clearing: 25.10 GB\n",
      "Loading model facebook/mbart-large-50-many-to-many-mmt for en_XX to lt_LT...\n",
      "GPU memory after clearing: 25.10 GB\n",
      "Loading dataset opus100 en-lt...\n",
      "BLEU score for en_XX to lt_LT: 26.98\n"
     ]
    },
    {
     "name": "stderr",
     "output_type": "stream",
     "text": [
      " 26%|██▌       | 11/43 [02:34<07:40, 14.41s/it]"
     ]
    },
    {
     "name": "stdout",
     "output_type": "stream",
     "text": [
      "GPU memory after clearing: 25.10 GB\n",
      "Loading model facebook/mbart-large-50-many-to-many-mmt for en_XX to lv_LV...\n",
      "GPU memory after clearing: 25.10 GB\n",
      "Loading dataset opus100 en-lv...\n",
      "BLEU score for en_XX to lv_LV: 28.93\n"
     ]
    },
    {
     "name": "stderr",
     "output_type": "stream",
     "text": [
      " 28%|██▊       | 12/43 [02:52<07:54, 15.32s/it]"
     ]
    },
    {
     "name": "stdout",
     "output_type": "stream",
     "text": [
      "GPU memory after clearing: 25.10 GB\n",
      "Loading model facebook/mbart-large-50-many-to-many-mmt for en_XX to my_MM...\n",
      "GPU memory after clearing: 25.10 GB\n",
      "Loading dataset opus100 en-my...\n",
      "BLEU score for en_XX to my_MM: 2.25\n"
     ]
    },
    {
     "name": "stderr",
     "output_type": "stream",
     "text": [
      " 30%|███       | 13/43 [03:09<07:53, 15.79s/it]"
     ]
    },
    {
     "name": "stdout",
     "output_type": "stream",
     "text": [
      "GPU memory after clearing: 25.10 GB\n",
      "Loading model facebook/mbart-large-50-many-to-many-mmt for en_XX to ne_NP...\n",
      "GPU memory after clearing: 25.10 GB\n",
      "Loading dataset opus100 en-ne...\n",
      "BLEU score for en_XX to ne_NP: 51.14\n"
     ]
    },
    {
     "name": "stderr",
     "output_type": "stream",
     "text": [
      " 33%|███▎      | 14/43 [03:19<06:47, 14.05s/it]"
     ]
    },
    {
     "name": "stdout",
     "output_type": "stream",
     "text": [
      "GPU memory after clearing: 25.10 GB\n",
      "Loading model facebook/mbart-large-50-many-to-many-mmt for en_XX to nl_XX...\n",
      "GPU memory after clearing: 25.10 GB\n",
      "Loading dataset opus100 en-nl...\n",
      "BLEU score for en_XX to nl_XX: 21.24\n"
     ]
    },
    {
     "name": "stderr",
     "output_type": "stream",
     "text": [
      " 35%|███▍      | 15/43 [03:37<07:09, 15.32s/it]"
     ]
    },
    {
     "name": "stdout",
     "output_type": "stream",
     "text": [
      "GPU memory after clearing: 25.10 GB\n",
      "Loading model facebook/mbart-large-50-many-to-many-mmt for en_XX to ro_RO...\n",
      "GPU memory after clearing: 25.10 GB\n",
      "Loading dataset opus100 en-ro...\n",
      "BLEU score for en_XX to ro_RO: 23.28\n"
     ]
    },
    {
     "name": "stderr",
     "output_type": "stream",
     "text": [
      " 37%|███▋      | 16/43 [03:50<06:36, 14.70s/it]"
     ]
    },
    {
     "name": "stdout",
     "output_type": "stream",
     "text": [
      "GPU memory after clearing: 25.10 GB\n",
      "Loading model facebook/mbart-large-50-many-to-many-mmt for en_XX to ru_RU...\n",
      "GPU memory after clearing: 25.10 GB\n",
      "Loading dataset opus100 en-ru...\n",
      "BLEU score for en_XX to ru_RU: 21.53\n"
     ]
    },
    {
     "name": "stderr",
     "output_type": "stream",
     "text": [
      " 40%|███▉      | 17/43 [04:02<06:01, 13.91s/it]"
     ]
    },
    {
     "name": "stdout",
     "output_type": "stream",
     "text": [
      "GPU memory after clearing: 25.10 GB\n",
      "Loading model facebook/mbart-large-50-many-to-many-mmt for en_XX to si_LK...\n",
      "GPU memory after clearing: 25.10 GB\n",
      "Loading dataset opus100 en-si...\n",
      "BLEU score for en_XX to si_LK: 7.60\n"
     ]
    },
    {
     "name": "stderr",
     "output_type": "stream",
     "text": [
      " 42%|████▏     | 18/43 [04:19<06:05, 14.61s/it]"
     ]
    },
    {
     "name": "stdout",
     "output_type": "stream",
     "text": [
      "GPU memory after clearing: 25.10 GB\n",
      "Loading model facebook/mbart-large-50-many-to-many-mmt for en_XX to tr_TR...\n",
      "GPU memory after clearing: 25.10 GB\n",
      "Loading dataset opus100 en-tr...\n",
      "BLEU score for en_XX to tr_TR: 14.90\n"
     ]
    },
    {
     "name": "stderr",
     "output_type": "stream",
     "text": [
      " 44%|████▍     | 19/43 [04:31<05:34, 13.93s/it]"
     ]
    },
    {
     "name": "stdout",
     "output_type": "stream",
     "text": [
      "GPU memory after clearing: 25.10 GB\n",
      "Loading model facebook/mbart-large-50-many-to-many-mmt for en_XX to vi_VN...\n",
      "GPU memory after clearing: 25.10 GB\n",
      "Loading dataset opus100 en-vi...\n",
      "BLEU score for en_XX to vi_VN: 16.54\n"
     ]
    },
    {
     "name": "stderr",
     "output_type": "stream",
     "text": [
      " 47%|████▋     | 20/43 [04:44<05:16, 13.76s/it]"
     ]
    },
    {
     "name": "stdout",
     "output_type": "stream",
     "text": [
      "GPU memory after clearing: 25.10 GB\n",
      "Loading model facebook/mbart-large-50-many-to-many-mmt for en_XX to zh_CN...\n",
      "GPU memory after clearing: 25.10 GB\n",
      "Loading dataset opus100 en-zh...\n",
      "BLEU score for en_XX to zh_CN: 1.37\n"
     ]
    },
    {
     "name": "stderr",
     "output_type": "stream",
     "text": [
      " 49%|████▉     | 21/43 [05:01<05:21, 14.61s/it]"
     ]
    },
    {
     "name": "stdout",
     "output_type": "stream",
     "text": [
      "GPU memory after clearing: 25.10 GB\n",
      "Loading model facebook/mbart-large-50-many-to-many-mmt for en_XX to fa_IR...\n",
      "GPU memory after clearing: 25.10 GB\n",
      "Loading dataset opus100 en-fa...\n",
      "BLEU score for en_XX to fa_IR: 4.03\n"
     ]
    },
    {
     "name": "stderr",
     "output_type": "stream",
     "text": [
      " 51%|█████     | 22/43 [05:12<04:42, 13.44s/it]"
     ]
    },
    {
     "name": "stdout",
     "output_type": "stream",
     "text": [
      "GPU memory after clearing: 25.10 GB\n",
      "Loading model facebook/mbart-large-50-many-to-many-mmt for en_XX to he_IL...\n",
      "GPU memory after clearing: 25.10 GB\n",
      "Loading dataset opus100 en-he...\n"
     ]
    },
    {
     "name": "stderr",
     "output_type": "stream",
     "text": [
      "\n",
      "Generating test split: 100%|██████████| 2000/2000 [00:00<00:00, 484330.72 examples/s]\n",
      "\n",
      "\u001b[Aerating train split:   0%|          | 0/1000000 [00:00<?, ? examples/s]\n",
      "\u001b[Aerating train split:  18%|█▊        | 184000/1000000 [00:00<00:00, 890617.28 examples/s]\n",
      "Generating train split: 100%|██████████| 1000000/1000000 [00:00<00:00, 2576499.41 examples/s]\n",
      "\n",
      "Generating validation split: 100%|██████████| 2000/2000 [00:00<00:00, 545210.45 examples/s]\n"
     ]
    },
    {
     "name": "stdout",
     "output_type": "stream",
     "text": [
      "BLEU score for en_XX to he_IL: 21.85\n"
     ]
    },
    {
     "name": "stderr",
     "output_type": "stream",
     "text": [
      " 53%|█████▎    | 23/43 [05:23<04:16, 12.83s/it]"
     ]
    },
    {
     "name": "stdout",
     "output_type": "stream",
     "text": [
      "GPU memory after clearing: 25.10 GB\n",
      "Loading model facebook/mbart-large-50-many-to-many-mmt for en_XX to hr_HR...\n",
      "GPU memory after clearing: 25.10 GB\n",
      "Loading dataset opus100 en-hr...\n"
     ]
    },
    {
     "name": "stderr",
     "output_type": "stream",
     "text": [
      " 56%|█████▌    | 24/43 [05:38<04:16, 13.48s/it]"
     ]
    },
    {
     "name": "stdout",
     "output_type": "stream",
     "text": [
      "Error evaluating mBART-50 for hr_HR: An error happened while trying to locate the file on the Hub and we cannot find the requested files in the local cache. Please check your connection and try again or make sure your Internet connection is on.\n",
      "Loading model facebook/mbart-large-50-many-to-many-mmt for en_XX to id_ID...\n",
      "GPU memory after clearing: 25.10 GB\n",
      "Loading dataset opus100 en-id...\n"
     ]
    },
    {
     "name": "stderr",
     "output_type": "stream",
     "text": [
      "\n",
      "Generating test split: 100%|██████████| 2000/2000 [00:00<00:00, 548956.74 examples/s]\n",
      "\n",
      "\u001b[Aerating train split:   0%|          | 0/1000000 [00:00<?, ? examples/s]\n",
      "\u001b[Aerating train split:   0%|          | 1000/1000000 [00:00<01:46, 9365.53 examples/s]\n",
      "\u001b[Aerating train split:  20%|██        | 204000/1000000 [00:00<00:00, 1148447.06 examples/s]\n",
      "Generating train split: 100%|██████████| 1000000/1000000 [00:00<00:00, 2710903.19 examples/s]\n",
      "\n",
      "Generating validation split: 100%|██████████| 2000/2000 [00:00<00:00, 581936.04 examples/s]\n"
     ]
    },
    {
     "name": "stdout",
     "output_type": "stream",
     "text": [
      "BLEU score for en_XX to id_ID: 25.44\n"
     ]
    },
    {
     "name": "stderr",
     "output_type": "stream",
     "text": [
      " 58%|█████▊    | 25/43 [05:48<03:43, 12.40s/it]"
     ]
    },
    {
     "name": "stdout",
     "output_type": "stream",
     "text": [
      "GPU memory after clearing: 25.10 GB\n",
      "Loading model facebook/mbart-large-50-many-to-many-mmt for en_XX to ka_GE...\n",
      "GPU memory after clearing: 25.10 GB\n",
      "Loading dataset opus100 en-ka...\n"
     ]
    },
    {
     "name": "stderr",
     "output_type": "stream",
     "text": [
      "\n",
      "Generating test split: 100%|██████████| 2000/2000 [00:00<00:00, 519869.11 examples/s]\n",
      "\n",
      "\u001b[Aerating train split:   0%|          | 0/377306 [00:00<?, ? examples/s]\n",
      "Generating train split: 100%|██████████| 377306/377306 [00:00<00:00, 2368488.03 examples/s]\n",
      "\n",
      "Generating validation split: 100%|██████████| 2000/2000 [00:00<00:00, 561373.75 examples/s]\n"
     ]
    },
    {
     "name": "stdout",
     "output_type": "stream",
     "text": [
      "BLEU score for en_XX to ka_GE: 0.90\n"
     ]
    },
    {
     "name": "stderr",
     "output_type": "stream",
     "text": [
      " 60%|██████    | 26/43 [06:01<03:35, 12.66s/it]"
     ]
    },
    {
     "name": "stdout",
     "output_type": "stream",
     "text": [
      "GPU memory after clearing: 25.10 GB\n",
      "Loading model facebook/mbart-large-50-many-to-many-mmt for en_XX to km_KH...\n",
      "GPU memory after clearing: 25.10 GB\n",
      "Loading dataset opus100 en-km...\n"
     ]
    },
    {
     "name": "stderr",
     "output_type": "stream",
     "text": [
      "\n",
      "Generating test split: 100%|██████████| 2000/2000 [00:00<00:00, 557864.47 examples/s]\n",
      "\n",
      "Generating train split: 100%|██████████| 111483/111483 [00:00<00:00, 1865576.11 examples/s]\n",
      "\n",
      "Generating validation split: 100%|██████████| 2000/2000 [00:00<00:00, 618218.59 examples/s]\n"
     ]
    },
    {
     "name": "stdout",
     "output_type": "stream",
     "text": [
      "BLEU score for en_XX to km_KH: 15.20\n"
     ]
    },
    {
     "name": "stderr",
     "output_type": "stream",
     "text": [
      " 63%|██████▎   | 27/43 [06:14<03:21, 12.59s/it]"
     ]
    },
    {
     "name": "stdout",
     "output_type": "stream",
     "text": [
      "GPU memory after clearing: 25.10 GB\n",
      "Loading model facebook/mbart-large-50-many-to-many-mmt for en_XX to mk_MK...\n",
      "GPU memory after clearing: 25.10 GB\n",
      "Loading dataset opus100 en-mk...\n"
     ]
    },
    {
     "name": "stderr",
     "output_type": "stream",
     "text": [
      "\n",
      "Generating test split: 100%|██████████| 2000/2000 [00:00<00:00, 512343.98 examples/s]\n",
      "\n",
      "\u001b[Aerating train split:   0%|          | 0/1000000 [00:00<?, ? examples/s]\n",
      "\u001b[Aerating train split:  14%|█▍        | 144000/1000000 [00:00<00:01, 754643.62 examples/s]\n",
      "Generating train split: 100%|██████████| 1000000/1000000 [00:00<00:00, 2216007.57 examples/s]\n",
      "\n",
      "Generating validation split: 100%|██████████| 2000/2000 [00:00<00:00, 546560.33 examples/s]\n"
     ]
    },
    {
     "name": "stdout",
     "output_type": "stream",
     "text": [
      "BLEU score for en_XX to mk_MK: 15.24\n"
     ]
    },
    {
     "name": "stderr",
     "output_type": "stream",
     "text": [
      " 65%|██████▌   | 28/43 [06:28<03:17, 13.19s/it]"
     ]
    },
    {
     "name": "stdout",
     "output_type": "stream",
     "text": [
      "GPU memory after clearing: 25.10 GB\n",
      "Loading model facebook/mbart-large-50-many-to-many-mmt for en_XX to ml_IN...\n",
      "GPU memory after clearing: 25.10 GB\n",
      "Loading dataset opus100 en-ml...\n"
     ]
    },
    {
     "name": "stderr",
     "output_type": "stream",
     "text": [
      "\n",
      "Generating test split: 100%|██████████| 2000/2000 [00:00<00:00, 528017.12 examples/s]\n",
      "\n",
      "\u001b[Aerating train split:   0%|          | 0/822746 [00:00<?, ? examples/s]\n",
      "\u001b[Aerating train split:   8%|▊         | 68000/822746 [00:00<00:01, 482428.46 examples/s]\n",
      "\u001b[Aerating train split:  25%|██▍       | 204000/822746 [00:00<00:00, 736984.78 examples/s]\n",
      "\u001b[Aerating train split:  37%|███▋      | 306000/822746 [00:00<00:00, 802723.03 examples/s]\n",
      "Generating train split: 100%|██████████| 822746/822746 [00:00<00:00, 1514877.42 examples/s]\n",
      "\n",
      "Generating validation split: 100%|██████████| 2000/2000 [00:00<00:00, 511375.76 examples/s]\n"
     ]
    },
    {
     "name": "stdout",
     "output_type": "stream",
     "text": [
      "BLEU score for en_XX to ml_IN: 3.45\n"
     ]
    },
    {
     "name": "stderr",
     "output_type": "stream",
     "text": [
      " 67%|██████▋   | 29/43 [06:41<03:04, 13.19s/it]"
     ]
    },
    {
     "name": "stdout",
     "output_type": "stream",
     "text": [
      "GPU memory after clearing: 25.10 GB\n",
      "Loading model facebook/mbart-large-50-many-to-many-mmt for en_XX to mn_MN...\n",
      "GPU memory after clearing: 25.10 GB\n",
      "Loading dataset opus100 en-mn...\n"
     ]
    },
    {
     "name": "stderr",
     "output_type": "stream",
     "text": [
      "\n",
      "Generating train split: 100%|██████████| 4294/4294 [00:00<00:00, 1019260.97 examples/s]\n",
      " 70%|██████▉   | 30/43 [06:58<03:03, 14.15s/it]"
     ]
    },
    {
     "name": "stdout",
     "output_type": "stream",
     "text": [
      "Error evaluating mBART-50 for mn_MN: Unknown split \"test\". Should be one of ['train'].\n",
      "Loading model facebook/mbart-large-50-many-to-many-mmt for en_XX to mr_IN...\n",
      "GPU memory after clearing: 25.10 GB\n",
      "Loading dataset opus100 en-mr...\n"
     ]
    },
    {
     "name": "stderr",
     "output_type": "stream",
     "text": [
      "\n",
      "Generating test split: 100%|██████████| 2000/2000 [00:00<00:00, 549712.19 examples/s]\n",
      "\n",
      "Generating train split: 100%|██████████| 27007/27007 [00:00<00:00, 2019460.32 examples/s]\n",
      "\n",
      "Generating validation split: 100%|██████████| 2000/2000 [00:00<00:00, 774929.15 examples/s]\n"
     ]
    },
    {
     "name": "stdout",
     "output_type": "stream",
     "text": [
      "BLEU score for en_XX to mr_IN: 4.97\n"
     ]
    },
    {
     "name": "stderr",
     "output_type": "stream",
     "text": [
      " 72%|███████▏  | 31/43 [07:15<03:02, 15.18s/it]"
     ]
    },
    {
     "name": "stdout",
     "output_type": "stream",
     "text": [
      "GPU memory after clearing: 25.10 GB\n",
      "Loading model facebook/mbart-large-50-many-to-many-mmt for en_XX to pl_PL...\n",
      "GPU memory after clearing: 25.10 GB\n",
      "Loading dataset opus100 en-pl...\n"
     ]
    },
    {
     "name": "stderr",
     "output_type": "stream",
     "text": [
      "\n",
      "Generating test split: 100%|██████████| 2000/2000 [00:00<00:00, 539182.93 examples/s]\n",
      "\n",
      "\u001b[Aerating train split:   0%|          | 0/1000000 [00:00<?, ? examples/s]\n",
      "\u001b[Aerating train split:  18%|█▊        | 176000/1000000 [00:00<00:00, 867341.13 examples/s]\n",
      "\u001b[Aerating train split:  35%|███▌      | 350000/1000000 [00:00<00:00, 1194930.00 examples/s]\n",
      "Generating train split: 100%|██████████| 1000000/1000000 [00:00<00:00, 2413680.91 examples/s]\n",
      "\n",
      "Generating validation split: 100%|██████████| 2000/2000 [00:00<00:00, 508308.07 examples/s]\n"
     ]
    },
    {
     "name": "stdout",
     "output_type": "stream",
     "text": [
      "BLEU score for en_XX to pl_PL: 13.95\n"
     ]
    },
    {
     "name": "stderr",
     "output_type": "stream",
     "text": [
      " 74%|███████▍  | 32/43 [07:27<02:33, 13.99s/it]"
     ]
    },
    {
     "name": "stdout",
     "output_type": "stream",
     "text": [
      "GPU memory after clearing: 25.10 GB\n",
      "Loading model facebook/mbart-large-50-many-to-many-mmt for en_XX to ps_AF...\n",
      "GPU memory after clearing: 25.10 GB\n",
      "Loading dataset opus100 en-ps...\n"
     ]
    },
    {
     "name": "stderr",
     "output_type": "stream",
     "text": [
      "\n",
      "Generating test split: 100%|██████████| 2000/2000 [00:00<00:00, 586124.09 examples/s]\n",
      "\n",
      "Generating train split: 100%|██████████| 79127/79127 [00:00<00:00, 3042952.82 examples/s]\n",
      "\n",
      "Generating validation split: 100%|██████████| 2000/2000 [00:00<00:00, 694708.74 examples/s]\n"
     ]
    },
    {
     "name": "stdout",
     "output_type": "stream",
     "text": [
      "BLEU score for en_XX to ps_AF: 11.34\n"
     ]
    },
    {
     "name": "stderr",
     "output_type": "stream",
     "text": [
      " 77%|███████▋  | 33/43 [07:34<02:00, 12.00s/it]"
     ]
    },
    {
     "name": "stdout",
     "output_type": "stream",
     "text": [
      "GPU memory after clearing: 25.10 GB\n",
      "Loading model facebook/mbart-large-50-many-to-many-mmt for en_XX to pt_XX...\n",
      "GPU memory after clearing: 25.10 GB\n",
      "Loading dataset opus100 en-pt...\n"
     ]
    },
    {
     "name": "stderr",
     "output_type": "stream",
     "text": [
      "\n",
      "Generating test split: 100%|██████████| 2000/2000 [00:00<00:00, 532035.77 examples/s]\n",
      "\n",
      "\u001b[Aerating train split:   0%|          | 0/1000000 [00:00<?, ? examples/s]\n",
      "\u001b[Aerating train split:  14%|█▍        | 141000/1000000 [00:00<00:01, 800096.41 examples/s]\n",
      "\u001b[Aerating train split:  42%|████▏     | 421000/1000000 [00:00<00:00, 1260176.41 examples/s]\n",
      "Generating train split: 100%|██████████| 1000000/1000000 [00:00<00:00, 2016591.20 examples/s]\n",
      "\n",
      "Generating validation split: 100%|██████████| 2000/2000 [00:00<00:00, 530890.96 examples/s]\n"
     ]
    },
    {
     "name": "stdout",
     "output_type": "stream",
     "text": [
      "BLEU score for en_XX to pt_XX: 29.91\n"
     ]
    },
    {
     "name": "stderr",
     "output_type": "stream",
     "text": [
      " 79%|███████▉  | 34/43 [07:49<01:56, 13.00s/it]"
     ]
    },
    {
     "name": "stdout",
     "output_type": "stream",
     "text": [
      "GPU memory after clearing: 25.10 GB\n",
      "Loading model facebook/mbart-large-50-many-to-many-mmt for en_XX to sv_SE...\n",
      "GPU memory after clearing: 25.10 GB\n",
      "Loading dataset opus100 en-sv...\n"
     ]
    },
    {
     "name": "stderr",
     "output_type": "stream",
     "text": [
      "\n",
      "Generating test split: 100%|██████████| 2000/2000 [00:00<00:00, 522069.21 examples/s]\n",
      "\n",
      "\u001b[Aerating train split:   0%|          | 0/1000000 [00:00<?, ? examples/s]\n",
      "\u001b[Aerating train split:  14%|█▍        | 143000/1000000 [00:00<00:01, 805379.54 examples/s]\n",
      "Generating train split: 100%|██████████| 1000000/1000000 [00:00<00:00, 2176668.98 examples/s]\n",
      "\n",
      "Generating validation split: 100%|██████████| 2000/2000 [00:00<00:00, 531025.38 examples/s]\n"
     ]
    },
    {
     "name": "stdout",
     "output_type": "stream",
     "text": [
      "BLEU score for en_XX to sv_SE: 21.98\n"
     ]
    },
    {
     "name": "stderr",
     "output_type": "stream",
     "text": [
      " 81%|████████▏ | 35/43 [08:00<01:39, 12.42s/it]"
     ]
    },
    {
     "name": "stdout",
     "output_type": "stream",
     "text": [
      "GPU memory after clearing: 25.10 GB\n",
      "Loading model facebook/mbart-large-50-many-to-many-mmt for en_XX to ta_IN...\n",
      "GPU memory after clearing: 25.10 GB\n",
      "Loading dataset opus100 en-ta...\n"
     ]
    },
    {
     "name": "stderr",
     "output_type": "stream",
     "text": [
      "\n",
      "Generating test split: 100%|██████████| 2000/2000 [00:00<00:00, 522394.32 examples/s]\n",
      "\n",
      "\u001b[Aerating train split:   0%|          | 0/227014 [00:00<?, ? examples/s]\n",
      "Generating train split: 100%|██████████| 227014/227014 [00:00<00:00, 1259335.22 examples/s]\n",
      "\n",
      "Generating validation split: 100%|██████████| 2000/2000 [00:00<00:00, 548884.90 examples/s]\n"
     ]
    },
    {
     "name": "stdout",
     "output_type": "stream",
     "text": [
      "BLEU score for en_XX to ta_IN: 8.76\n"
     ]
    },
    {
     "name": "stderr",
     "output_type": "stream",
     "text": [
      " 84%|████████▎ | 36/43 [08:11<01:23, 12.00s/it]"
     ]
    },
    {
     "name": "stdout",
     "output_type": "stream",
     "text": [
      "GPU memory after clearing: 25.10 GB\n",
      "Loading model facebook/mbart-large-50-many-to-many-mmt for en_XX to te_IN...\n",
      "GPU memory after clearing: 25.10 GB\n",
      "Loading dataset opus100 en-te...\n"
     ]
    },
    {
     "name": "stderr",
     "output_type": "stream",
     "text": [
      "\n",
      "Generating test split: 100%|██████████| 2000/2000 [00:00<00:00, 594220.30 examples/s]\n",
      "\n",
      "Generating train split: 100%|██████████| 64352/64352 [00:00<00:00, 2252550.39 examples/s]\n",
      "\n",
      "Generating validation split: 100%|██████████| 2000/2000 [00:00<00:00, 699983.98 examples/s]\n"
     ]
    },
    {
     "name": "stdout",
     "output_type": "stream",
     "text": [
      "BLEU score for en_XX to te_IN: 40.72\n"
     ]
    },
    {
     "name": "stderr",
     "output_type": "stream",
     "text": [
      " 86%|████████▌ | 37/43 [08:20<01:06, 11.05s/it]"
     ]
    },
    {
     "name": "stdout",
     "output_type": "stream",
     "text": [
      "GPU memory after clearing: 25.10 GB\n",
      "Loading model facebook/mbart-large-50-many-to-many-mmt for en_XX to th_TH...\n",
      "GPU memory after clearing: 25.10 GB\n",
      "Loading dataset opus100 en-th...\n"
     ]
    },
    {
     "name": "stderr",
     "output_type": "stream",
     "text": [
      "\n",
      "Generating test split: 100%|██████████| 2000/2000 [00:00<00:00, 529550.41 examples/s]\n",
      "\n",
      "\u001b[Aerating train split:   0%|          | 0/1000000 [00:00<?, ? examples/s]\n",
      "\u001b[Aerating train split:  12%|█▎        | 125000/1000000 [00:00<00:01, 707536.39 examples/s]\n",
      "\u001b[Aerating train split:  28%|██▊       | 280000/1000000 [00:00<00:00, 1030063.01 examples/s]\n",
      "Generating train split: 100%|██████████| 1000000/1000000 [00:00<00:00, 2009763.47 examples/s]\n",
      "\n",
      "Generating validation split: 100%|██████████| 2000/2000 [00:00<00:00, 536458.91 examples/s]\n"
     ]
    },
    {
     "name": "stdout",
     "output_type": "stream",
     "text": [
      "BLEU score for en_XX to th_TH: 0.23\n"
     ]
    },
    {
     "name": "stderr",
     "output_type": "stream",
     "text": [
      " 88%|████████▊ | 38/43 [08:32<00:57, 11.44s/it]"
     ]
    },
    {
     "name": "stdout",
     "output_type": "stream",
     "text": [
      "GPU memory after clearing: 25.10 GB\n",
      "Loading model facebook/mbart-large-50-many-to-many-mmt for en_XX to uk_UA...\n",
      "GPU memory after clearing: 25.10 GB\n",
      "Loading dataset opus100 en-uk...\n"
     ]
    },
    {
     "name": "stderr",
     "output_type": "stream",
     "text": [
      "\n",
      "Generating test split: 100%|██████████| 2000/2000 [00:00<00:00, 546311.17 examples/s]\n",
      "\n",
      "\u001b[Aerating train split:   0%|          | 0/1000000 [00:00<?, ? examples/s]\n",
      "\u001b[Aerating train split:  16%|█▌        | 161000/1000000 [00:00<00:01, 801479.97 examples/s]\n",
      "\u001b[Aerating train split:  32%|███▏      | 321000/1000000 [00:00<00:00, 1100537.24 examples/s]\n",
      "Generating train split: 100%|██████████| 1000000/1000000 [00:00<00:00, 2271704.06 examples/s]\n",
      "\n",
      "Generating validation split: 100%|██████████| 2000/2000 [00:00<00:00, 527917.43 examples/s]\n"
     ]
    },
    {
     "name": "stdout",
     "output_type": "stream",
     "text": [
      "BLEU score for en_XX to uk_UA: 9.31\n"
     ]
    },
    {
     "name": "stderr",
     "output_type": "stream",
     "text": [
      " 91%|█████████ | 39/43 [08:44<00:45, 11.37s/it]"
     ]
    },
    {
     "name": "stdout",
     "output_type": "stream",
     "text": [
      "GPU memory after clearing: 25.10 GB\n",
      "Loading model facebook/mbart-large-50-many-to-many-mmt for en_XX to ur_PK...\n",
      "GPU memory after clearing: 25.10 GB\n",
      "Loading dataset opus100 en-ur...\n"
     ]
    },
    {
     "name": "stderr",
     "output_type": "stream",
     "text": [
      "\n",
      "Generating test split: 100%|██████████| 2000/2000 [00:00<00:00, 451291.59 examples/s]\n",
      "\n",
      "\u001b[Aerating train split:   0%|          | 0/753913 [00:00<?, ? examples/s]\n",
      "\u001b[Aerating train split:   6%|▌         | 47000/753913 [00:00<00:01, 375572.34 examples/s]\n",
      "\u001b[Aerating train split:  18%|█▊        | 139000/753913 [00:00<00:01, 558657.57 examples/s]\n",
      "\u001b[Aerating train split:  32%|███▏      | 239000/753913 [00:00<00:00, 667711.00 examples/s]\n",
      "\u001b[Aerating train split:  44%|████▍     | 334000/753913 [00:00<00:00, 563397.74 examples/s]\n",
      "\u001b[Aerating train split:  70%|███████   | 529000/753913 [00:00<00:00, 749115.90 examples/s]\n",
      "Generating train split: 100%|██████████| 753913/753913 [00:00<00:00, 837545.01 examples/s] \n",
      "\n",
      "Generating validation split: 100%|██████████| 2000/2000 [00:00<00:00, 37790.95 examples/s]\n"
     ]
    },
    {
     "name": "stdout",
     "output_type": "stream",
     "text": [
      "BLEU score for en_XX to ur_PK: 7.10\n"
     ]
    },
    {
     "name": "stderr",
     "output_type": "stream",
     "text": [
      " 93%|█████████▎| 40/43 [09:08<00:45, 15.13s/it]"
     ]
    },
    {
     "name": "stdout",
     "output_type": "stream",
     "text": [
      "GPU memory after clearing: 25.10 GB\n",
      "Loading model facebook/mbart-large-50-many-to-many-mmt for en_XX to xh_ZA...\n",
      "GPU memory after clearing: 25.10 GB\n",
      "Loading dataset opus100 en-xh...\n"
     ]
    },
    {
     "name": "stderr",
     "output_type": "stream",
     "text": [
      "\n",
      "Generating test split: 100%|██████████| 2000/2000 [00:00<00:00, 477113.41 examples/s]\n",
      "\n",
      "\u001b[Aerating train split:   0%|          | 0/439671 [00:00<?, ? examples/s]\n",
      "Generating train split: 100%|██████████| 439671/439671 [00:00<00:00, 1706414.70 examples/s]\n",
      "\n",
      "Generating validation split: 100%|██████████| 2000/2000 [00:00<00:00, 31895.97 examples/s]\n"
     ]
    },
    {
     "name": "stdout",
     "output_type": "stream",
     "text": [
      "BLEU score for en_XX to xh_ZA: 2.39\n"
     ]
    },
    {
     "name": "stderr",
     "output_type": "stream",
     "text": [
      " 95%|█████████▌| 41/43 [09:28<00:33, 16.73s/it]"
     ]
    },
    {
     "name": "stdout",
     "output_type": "stream",
     "text": [
      "GPU memory after clearing: 25.10 GB\n",
      "Loading model facebook/mbart-large-50-many-to-many-mmt for en_XX to gl_ES...\n",
      "GPU memory after clearing: 25.10 GB\n",
      "Loading dataset opus100 en-gl...\n"
     ]
    },
    {
     "name": "stderr",
     "output_type": "stream",
     "text": [
      "\n",
      "Generating test split: 100%|██████████| 2000/2000 [00:00<00:00, 538594.41 examples/s]\n",
      "\n",
      "\u001b[Aerating train split:   0%|          | 0/515344 [00:00<?, ? examples/s]\n",
      "Generating train split: 100%|██████████| 515344/515344 [00:00<00:00, 2591849.77 examples/s]\n",
      "\n",
      "Generating validation split: 100%|██████████| 2000/2000 [00:00<00:00, 587108.62 examples/s]\n"
     ]
    },
    {
     "name": "stdout",
     "output_type": "stream",
     "text": [
      "BLEU score for en_XX to gl_ES: 12.17\n"
     ]
    },
    {
     "name": "stderr",
     "output_type": "stream",
     "text": [
      " 98%|█████████▊| 42/43 [09:48<00:17, 17.80s/it]"
     ]
    },
    {
     "name": "stdout",
     "output_type": "stream",
     "text": [
      "GPU memory after clearing: 25.10 GB\n",
      "Loading model facebook/mbart-large-50-many-to-many-mmt for en_XX to sl_SI...\n",
      "GPU memory after clearing: 25.10 GB\n",
      "Loading dataset opus100 en-sl...\n"
     ]
    },
    {
     "name": "stderr",
     "output_type": "stream",
     "text": [
      "\n",
      "Generating test split: 100%|██████████| 2000/2000 [00:00<00:00, 560248.98 examples/s]\n",
      "\n",
      "\u001b[Aerating train split:   0%|          | 0/1000000 [00:00<?, ? examples/s]\n",
      "\u001b[Aerating train split:  19%|█▊        | 186000/1000000 [00:00<00:00, 955150.94 examples/s]\n",
      "\u001b[Aerating train split:  37%|███▋      | 372000/1000000 [00:00<00:00, 1303388.70 examples/s]\n",
      "Generating train split: 100%|██████████| 1000000/1000000 [00:00<00:00, 1930851.61 examples/s]\n",
      "\n",
      "Generating validation split: 100%|██████████| 2000/2000 [00:00<00:00, 557567.83 examples/s]\n"
     ]
    },
    {
     "name": "stdout",
     "output_type": "stream",
     "text": [
      "BLEU score for en_XX to sl_SI: 18.46\n"
     ]
    },
    {
     "name": "stderr",
     "output_type": "stream",
     "text": [
      "100%|██████████| 43/43 [10:02<00:00, 14.01s/it]"
     ]
    },
    {
     "name": "stdout",
     "output_type": "stream",
     "text": [
      "GPU memory after clearing: 25.10 GB\n",
      "   Language Code  mBART-25 BLEU  mBART-50 BLEU\n",
      "0          es_XX       1.917012      18.528406\n",
      "1          et_EE       2.739086      19.954502\n",
      "2          fa_IR  Not supported       4.033346\n",
      "3          fi_FI        1.29302      16.904381\n",
      "4          fr_XX        0.57208      35.854413\n",
      "5          gl_ES  Not supported      12.168757\n",
      "6          gu_IN       1.985418       5.975461\n",
      "7          he_IL  Not supported      21.847136\n",
      "8          hi_IN       0.301175      19.881976\n",
      "9          hr_HR  Not supported            NaN\n",
      "10         id_ID  Not supported      25.437755\n",
      "11         it_IT       1.951842      17.707898\n",
      "12         ja_XX       1.122369       3.789239\n",
      "13         ka_GE  Not supported       0.902561\n",
      "14         kk_KZ       0.042867       1.316699\n",
      "15         km_KH  Not supported      15.203753\n",
      "16         ko_KR       0.264377       2.303401\n",
      "17         lt_LT       2.999175      26.976773\n",
      "18         lv_LV       1.477992      28.930764\n",
      "19         mk_MK  Not supported      15.235383\n",
      "20         ml_IN  Not supported       3.451888\n",
      "21         mn_MN  Not supported            NaN\n",
      "22         mr_IN  Not supported       4.967129\n",
      "23         my_MM       0.768087       2.248507\n",
      "24         ne_NP       2.290956      51.140406\n",
      "25         nl_XX       0.977884      21.239746\n",
      "26         pl_PL  Not supported      13.947885\n",
      "27         ps_AF  Not supported      11.338415\n",
      "28         pt_XX  Not supported      29.906962\n",
      "29         ro_RO       1.715261      23.279936\n",
      "30         ru_RU       4.354932      21.534259\n",
      "31         si_LK       1.147101       7.604690\n",
      "32         sl_SI  Not supported      18.458204\n",
      "33         sv_SE  Not supported      21.977293\n",
      "34         ta_IN  Not supported       8.758793\n",
      "35         te_IN  Not supported      40.722797\n",
      "36         th_TH  Not supported       0.226617\n",
      "37         tr_TR       1.264664      14.897402\n",
      "38         uk_UA  Not supported       9.313216\n",
      "39         ur_PK  Not supported       7.096077\n",
      "40         vi_VN       2.336636      16.539829\n",
      "41         xh_ZA  Not supported       2.390102\n",
      "42         zh_CN         0.5701       1.374076\n",
      "Results saved to mbart_comparison_results2.csv\n"
     ]
    },
    {
     "name": "stderr",
     "output_type": "stream",
     "text": [
      "\n"
     ]
    }
   ],
   "source": [
    "import os\n",
    "import gc\n",
    "import torch\n",
    "from transformers import MBartForConditionalGeneration, MBartTokenizer, MBart50TokenizerFast\n",
    "from datasets import load_dataset\n",
    "from sacrebleu.metrics import BLEU\n",
    "import pandas as pd\n",
    "from tqdm import tqdm\n",
    "\n",
    "# Set environment variables for better memory management\n",
    "os.environ[\"PYTORCH_CUDA_ALLOC_CONF\"] = \"max_split_size_mb:128\"\n",
    "\n",
    "# Function to clear GPU memory\n",
    "def clear_gpu_memory():\n",
    "    gc.collect()\n",
    "    if torch.cuda.is_available():\n",
    "        torch.cuda.empty_cache()\n",
    "        print(f\"GPU memory after clearing: {torch.cuda.memory_allocated() / 1e9:.2f} GB\")\n",
    "\n",
    "# Function to translate and evaluate\n",
    "def evaluate_language_pair(model_name, tokenizer_name, src_lang, tgt_lang, dataset_name, dataset_config):\n",
    "    # Load model and tokenizer\n",
    "    print(f\"Loading model {model_name} for {src_lang} to {tgt_lang}...\")\n",
    "    \n",
    "    # Clear memory before loading new model\n",
    "    clear_gpu_memory()\n",
    "    \n",
    "    model = MBartForConditionalGeneration.from_pretrained(model_name)\n",
    "    \n",
    "    if \"mbart-large-cc25\" in model_name:\n",
    "        tokenizer = MBartTokenizer.from_pretrained(tokenizer_name)\n",
    "    else:\n",
    "        tokenizer = MBart50TokenizerFast.from_pretrained(tokenizer_name)\n",
    "    \n",
    "    # Load to device\n",
    "    device = torch.device(\"cuda\" if torch.cuda.is_available() else \"cpu\")\n",
    "    model.to(device)\n",
    "    \n",
    "    # Load dataset\n",
    "    print(f\"Loading dataset {dataset_name} {dataset_config}...\")\n",
    "    dataset = load_dataset(dataset_name, dataset_config, split=\"test[:100]\")\n",
    "    \n",
    "    # Get target language code for dataset\n",
    "    dataset_tgt_lang = tgt_lang.split('_')[0].lower()\n",
    "    \n",
    "    # Check dataset structure\n",
    "    if \"translation\" not in dataset.features or dataset_tgt_lang not in dataset[\"translation\"][0]:\n",
    "        print(f\"Dataset doesn't have expected structure for {tgt_lang}\")\n",
    "        \n",
    "        # Free memory before exiting\n",
    "        del model, tokenizer\n",
    "        clear_gpu_memory()\n",
    "        return None\n",
    "    \n",
    "    # Extract texts\n",
    "    src_texts = [item[\"en\"] for item in dataset[\"translation\"]]\n",
    "    tgt_texts = [item[dataset_tgt_lang] for item in dataset[\"translation\"]]\n",
    "    \n",
    "    # Process in small batches\n",
    "    batch_size = 4\n",
    "    translations = []\n",
    "    tokenizer.src_lang = src_lang\n",
    "    \n",
    "    for i in range(0, len(src_texts), batch_size):\n",
    "        batch_texts = src_texts[i:i+batch_size]\n",
    "        \n",
    "        # Tokenize\n",
    "        inputs = tokenizer(\n",
    "            batch_texts, \n",
    "            return_tensors=\"pt\", \n",
    "            padding=True, \n",
    "            truncation=True, \n",
    "            max_length=128\n",
    "        ).to(device)\n",
    "        \n",
    "        # Generate \n",
    "        with torch.no_grad():\n",
    "            translated_tokens = model.generate(\n",
    "                **inputs,\n",
    "                forced_bos_token_id=tokenizer.lang_code_to_id[tgt_lang],\n",
    "                max_length=128,\n",
    "                num_beams=2,\n",
    "                early_stopping=True\n",
    "            )\n",
    "        \n",
    "        # Decode and append\n",
    "        batch_translations = tokenizer.batch_decode(translated_tokens, skip_special_tokens=True)\n",
    "        translations.extend(batch_translations)\n",
    "        \n",
    "        # Clear batch memory\n",
    "        del inputs, translated_tokens\n",
    "        torch.cuda.empty_cache()\n",
    "    \n",
    "    # Calculate BLEU\n",
    "    bleu = BLEU()\n",
    "    bleu_score = bleu.corpus_score(translations, [tgt_texts]).score\n",
    "    \n",
    "    # Print result\n",
    "    print(f\"BLEU score for {src_lang} to {tgt_lang}: {bleu_score:.2f}\")\n",
    "    \n",
    "    # Free memory\n",
    "    del model, tokenizer, dataset, translations\n",
    "    clear_gpu_memory()\n",
    "    \n",
    "    return bleu_score\n",
    "\n",
    "# Main evaluation function \n",
    "def evaluate_models_on_languages():\n",
    "    results = {\n",
    "        'mBART-25': {},\n",
    "        'mBART-50': {}\n",
    "    }\n",
    "    \n",
    "    # Define model paths\n",
    "    mbart25_model = \"facebook/mbart-large-cc25\"\n",
    "    mbart25_tokenizer = \"facebook/mbart-large-cc25\"\n",
    "    \n",
    "    mbart50_model = \"facebook/mbart-large-50-many-to-many-mmt\"\n",
    "    mbart50_tokenizer = \"facebook/mbart-large-50-many-to-many-mmt\"\n",
    "    \n",
    "    # Get language lists\n",
    "    print(\"Getting language lists...\")\n",
    "    temp_tokenizer25 = MBartTokenizer.from_pretrained(mbart25_tokenizer)\n",
    "    mbart25_langs = list(temp_tokenizer25.lang_code_to_id.keys())\n",
    "    del temp_tokenizer25\n",
    "    \n",
    "    temp_tokenizer50 = MBart50TokenizerFast.from_pretrained(mbart50_tokenizer)\n",
    "    mbart50_langs = list(temp_tokenizer50.lang_code_to_id.keys())\n",
    "    del temp_tokenizer50\n",
    "    \n",
    "    clear_gpu_memory()\n",
    "    \n",
    "    # # Create a dictionary to map language codes to dataset configurations\n",
    "    # language_datasets = {\n",
    "    #     \"pl_PL\": (\"opus100\", \"en-pl\"),\n",
    "    #     \"fa_IR\": (\"opus100\", \"en-fa\"),\n",
    "    #     \"pt_XX\": (\"opus100\", \"en-pt\"),\n",
    "    #     # Add more languages as needed\n",
    "    # }\n",
    "    \n",
    "    # Test limited languages for memory issues\n",
    "    test_langs_25 = [lang for lang in mbart25_langs if lang in language_datasets and lang != \"en_XX\"]\n",
    "    test_langs_50 = [lang for lang in mbart50_langs if lang in language_datasets and lang != \"en_XX\"]\n",
    "    \n",
    "    # Evaluate mBART-25 one language at a time\n",
    "    print(\"Evaluating mBART-25...\")\n",
    "    for tgt_lang in tqdm(test_langs_25):\n",
    "        if tgt_lang in language_datasets:\n",
    "            dataset_name, config = language_datasets[tgt_lang]\n",
    "            try:\n",
    "                results['mBART-25'][tgt_lang] = evaluate_language_pair(\n",
    "                    mbart25_model,\n",
    "                    mbart25_tokenizer,\n",
    "                    \"en_XX\",\n",
    "                    tgt_lang,\n",
    "                    dataset_name,\n",
    "                    config\n",
    "                )\n",
    "            except Exception as e:\n",
    "                print(f\"Error evaluating mBART-25 for {tgt_lang}: {e}\")\n",
    "                results['mBART-25'][tgt_lang] = None\n",
    "    \n",
    "    # Evaluate mBART-50 one language at a time\n",
    "    print(\"Evaluating mBART-50...\")\n",
    "    for tgt_lang in tqdm(test_langs_50):\n",
    "        if tgt_lang in language_datasets:\n",
    "            dataset_name, config = language_datasets[tgt_lang]\n",
    "            try:\n",
    "                results['mBART-50'][tgt_lang] = evaluate_language_pair(\n",
    "                    mbart50_model,\n",
    "                    mbart50_tokenizer,\n",
    "                    \"en_XX\",\n",
    "                    tgt_lang,\n",
    "                    dataset_name,\n",
    "                    config\n",
    "                )\n",
    "            except Exception as e:\n",
    "                print(f\"Error evaluating mBART-50 for {tgt_lang}: {e}\")\n",
    "                results['mBART-50'][tgt_lang] = None\n",
    "    \n",
    "    # Create a DataFrame to display results\n",
    "    all_langs = sorted(set(test_langs_25 + test_langs_50))\n",
    "    df_data = []\n",
    "    \n",
    "    for lang in all_langs:\n",
    "        row = {\n",
    "            'Language Code': lang,\n",
    "            'mBART-25 BLEU': results['mBART-25'].get(lang, 'Not supported'),\n",
    "            'mBART-50 BLEU': results['mBART-50'].get(lang, 'Not supported')\n",
    "        }\n",
    "        df_data.append(row)\n",
    "    \n",
    "    results_df = pd.DataFrame(df_data)\n",
    "    return results_df\n",
    "\n",
    "# Run the evaluation\n",
    "if __name__ == \"__main__\":\n",
    "    results = evaluate_models_on_languages()\n",
    "    print(results)\n",
    "    \n",
    "    # Save results to CSV\n",
    "    results.to_csv('mbart_comparison_results2.csv', index=False)\n",
    "    print(\"Results saved to mbart_comparison_results2.csv\")"
   ]
  },
  {
   "cell_type": "code",
   "execution_count": 21,
   "id": "5f20f443-5b02-4708-988f-ac563fb3cb1d",
   "metadata": {},
   "outputs": [
    {
     "data": {
      "image/png": "[encoded data removed]",
      "text/plain": [
       "<Figure size 1600x1000 with 1 Axes>"
      ]
     },
     "metadata": {},
     "output_type": "display_data"
    }
   ],
   "source": [
    "## Do some plot on accuracy for both models for first 100 entries on the OPUS test set\n",
    "import pandas as pd\n",
    "import matplotlib.pyplot as plt\n",
    "import numpy as np\n",
    "import seaborn as sns\n",
    "\n",
    "# Load the data\n",
    "df = pd.read_csv('mbart_comparison_results2.csv')\n",
    "\n",
    "# Replace 'Not supported' with None so we can convert to float later\n",
    "df['mBART-25 BLEU'] = df['mBART-25 BLEU'].replace('Not supported', None)\n",
    "df['mBART-50 BLEU'] = df['mBART-50 BLEU'].replace('Not supported', None)\n",
    "\n",
    "# Convert to float for plotting\n",
    "df['mBART-25 BLEU'] = pd.to_numeric(df['mBART-25 BLEU'], errors='coerce')\n",
    "df['mBART-50 BLEU'] = pd.to_numeric(df['mBART-50 BLEU'], errors='coerce')\n",
    "\n",
    "# Replace NaN values with 0 for plotting\n",
    "df['mBART-25 BLEU'] = df['mBART-25 BLEU'].fillna(0)\n",
    "df['mBART-50 BLEU'] = df['mBART-50 BLEU'].fillna(0)\n",
    "\n",
    "# Sort by language code\n",
    "df = df.sort_values('Language Code')\n",
    "\n",
    "# Set up the plot\n",
    "plt.figure(figsize=(16, 10))\n",
    "sns.set_style(\"whitegrid\")\n",
    "\n",
    "# Set width of bars\n",
    "bar_width = 0.35\n",
    "index = np.arange(len(df))\n",
    "\n",
    "# Create bars\n",
    "plt.bar(index, df['mBART-25 BLEU'], bar_width, \n",
    "        label='mBART-25', color='skyblue', alpha=0.8)\n",
    "plt.bar(index + bar_width, df['mBART-50 BLEU'], bar_width, \n",
    "        label='mBART-50', color='orange', alpha=0.8)\n",
    "\n",
    "# Add labels, title and legend\n",
    "plt.xlabel('Language', fontsize=12)\n",
    "plt.ylabel('BLEU Score', fontsize=12)\n",
    "plt.title('BLEU Scores for mBART-25 vs mBART-50 by Language', fontsize=16)\n",
    "plt.xticks(index + bar_width / 2, df['Language Code'], rotation=90, fontsize=10)\n",
    "plt.legend()\n",
    "\n",
    "# Add a grid for better readability\n",
    "plt.grid(axis='y', linestyle='--', alpha=0.7)\n",
    "\n",
    "# Adjust layout\n",
    "plt.tight_layout()\n",
    "\n",
    "# Add values on top of bars\n",
    "for i, v in enumerate(df['mBART-25 BLEU']):\n",
    "    if v > 0:  # Only show value if not zero\n",
    "        plt.text(i - 0.1, v + 0.1, f'{v:.1f}', fontsize=8)\n",
    "        \n",
    "for i, v in enumerate(df['mBART-50 BLEU']):\n",
    "    if v > 0:  # Only show value if not zero\n",
    "        plt.text(i + bar_width - 0.1, v + 0.1, f'{v:.1f}', fontsize=8)\n",
    "\n",
    "# Save the figure\n",
    "plt.savefig('mbart_bleu_comparison.png', dpi=300, bbox_inches='tight')\n",
    "\n",
    "# Show the plot\n",
    "plt.show()"
   ]
  },
  {
   "cell_type": "code",
   "execution_count": null,
   "id": "ba229aac-e9bb-486a-854b-ace5f62fdb37",
   "metadata": {},
   "outputs": [],
   "source": []
  },
  {
   "cell_type": "code",
   "execution_count": null,
   "id": "dd75c5cd-9ac8-4fee-8465-9723953f9897",
   "metadata": {},
   "outputs": [],
   "source": []
  },
  {
   "cell_type": "markdown",
   "id": "2b5dd578-75cb-4558-81b0-2f8a2ef873f7",
   "metadata": {},
   "source": [
    "#### Okay we can see there are many language pair that have low (<10) BLEU score such as en-my, en-fa, en-ko, en_zh and some of these are not present in mBART25. Let's start with Farsi (Parsian).The plan is to finetune mBART50 for Farsi and add en-fa to mBART25"
   ]
  },
  {
   "cell_type": "code",
   "execution_count": 9,
   "id": "6914e286-40e6-48d7-aafa-944e18373cbe",
   "metadata": {},
   "outputs": [
    {
     "data": {
      "text/plain": [
       "DatasetDict({\n",
       "    test: Dataset({\n",
       "        features: ['translation'],\n",
       "        num_rows: 2000\n",
       "    })\n",
       "    train: Dataset({\n",
       "        features: ['translation'],\n",
       "        num_rows: 1000000\n",
       "    })\n",
       "    validation: Dataset({\n",
       "        features: ['translation'],\n",
       "        num_rows: 2000\n",
       "    })\n",
       "})"
      ]
     },
     "execution_count": 9,
     "metadata": {},
     "output_type": "execute_result"
    }
   ],
   "source": [
    "### Finetune mBART50 for Parsian\n",
    "# Load OPUS-100 English-Parsian dataset\n",
    "dataset = load_dataset(\"opus100\", \"en-fa\")\n",
    "dataset"
   ]
  },
  {
   "cell_type": "code",
   "execution_count": 10,
   "id": "4158cbba-7d55-45eb-9518-bb973ca2171c",
   "metadata": {},
   "outputs": [
    {
     "data": {
      "text/plain": [
       "{'translation': [{'en': \"I'm obsolete!\", 'fa': 'من دیگه به دردی نمیخورم'},\n",
       "  {'en': \"You've really gotta help me now.\",\n",
       "   'fa': 'تو واقعا ديگه بايد کمکم کني.'},\n",
       "  {'en': 'The entire time you were in rehab,',\n",
       "   'fa': '\\u200fکل مدت\\u200cزمانی که توی بازپروری بودی'},\n",
       "  {'en': 'How well do you know this Dante ?',\n",
       "   'fa': 'چقدر اين دانته رو ميشناسي؟'},\n",
       "  {'en': 'I left my other clothes inside.', 'fa': 'لباس قبلي هامو جا گذاشتم'}]}"
      ]
     },
     "execution_count": 10,
     "metadata": {},
     "output_type": "execute_result"
    }
   ],
   "source": [
    "dataset[\"test\"][:5]"
   ]
  },
  {
   "cell_type": "code",
   "execution_count": 11,
   "id": "ba185aba-e489-446b-bdf0-f59c95e37d7c",
   "metadata": {},
   "outputs": [
    {
     "name": "stdout",
     "output_type": "stream",
     "text": [
      "Using device: cuda\n"
     ]
    }
   ],
   "source": [
    "device = torch.device(\"cuda\" if torch.cuda.is_available() else \"cpu\")\n",
    "print(f\"Using device: {device}\")"
   ]
  },
  {
   "cell_type": "code",
   "execution_count": 39,
   "id": "b898ee48-160c-4716-a87e-178b49e9d7b8",
   "metadata": {},
   "outputs": [],
   "source": [
    "from transformers import MBartForConditionalGeneration, MBart50TokenizerFast\n",
    "# Load model and tokenizer\n",
    "model_name = \"facebook/mbart-large-50-many-to-many-mmt\"\n",
    "model = MBartForConditionalGeneration.from_pretrained(model_name)\n",
    "tokenizer = MBart50TokenizerFast.from_pretrained(model_name)\n",
    "\n",
    "# Set source and target languages\n",
    "src_lang = \"en_XX\"\n",
    "tgt_lang = \"fa_IR\"\n",
    "tokenizer.src_lang = src_lang\n"
   ]
  },
  {
   "cell_type": "code",
   "execution_count": 23,
   "id": "3ea3eb2f-f412-4cea-84e1-f1513c8e5339",
   "metadata": {},
   "outputs": [],
   "source": [
    "from torch.utils.data import DataLoader, Dataset\n",
    "# Create a custom dataset\n",
    "class TranslationDataset(Dataset):\n",
    "    def __init__(self, dataset, tokenizer, src_lang, tgt_lang, max_length=128):\n",
    "        self.dataset = dataset\n",
    "        self.tokenizer = tokenizer\n",
    "        self.src_lang = src_lang\n",
    "        self.tgt_lang = tgt_lang\n",
    "        self.max_length = max_length\n",
    "        \n",
    "    def __len__(self):\n",
    "        return len(self.dataset)\n",
    "    \n",
    "\n",
    "    def __getitem__(self, idx):\n",
    "        src_text = self.dataset[idx][\"translation\"][\"en\"]\n",
    "        tgt_text = self.dataset[idx][\"translation\"][\"fa\"]\n",
    "    \n",
    "        self.tokenizer.src_lang = self.src_lang\n",
    "        src_encoded = self.tokenizer(\n",
    "            src_text,\n",
    "            max_length=self.max_length,\n",
    "            truncation=True,\n",
    "            padding=\"max_length\",\n",
    "            return_tensors=\"pt\"\n",
    "        )\n",
    "    \n",
    "        self.tokenizer.src_lang = self.tgt_lang  # Change to target lang\n",
    "        tgt_encoded = self.tokenizer(\n",
    "            tgt_text,\n",
    "            max_length=self.max_length,\n",
    "            truncation=True,\n",
    "            padding=\"max_length\",\n",
    "            return_tensors=\"pt\"\n",
    "        )\n",
    "    \n",
    "        input_ids = src_encoded[\"input_ids\"].squeeze()\n",
    "        attention_mask = src_encoded[\"attention_mask\"].squeeze()\n",
    "        labels = tgt_encoded[\"input_ids\"].squeeze()\n",
    "        labels[labels == self.tokenizer.pad_token_id] = -100\n",
    "    \n",
    "        self.tokenizer.src_lang = self.src_lang  # Reset\n",
    "    \n",
    "        return {\n",
    "            \"input_ids\": input_ids,\n",
    "            \"attention_mask\": attention_mask,\n",
    "            \"labels\": labels\n",
    "        }\n",
    "\n",
    "# Load dataset\n",
    "opus_dataset = load_dataset(\"opus100\", \"en-fa\")\n",
    "\n",
    "# Create datasets\n",
    "train_dataset = TranslationDataset(opus_dataset[\"train\"], tokenizer, src_lang, tgt_lang)\n",
    "val_dataset = TranslationDataset(opus_dataset[\"validation\"], tokenizer, src_lang, tgt_lang)\n"
   ]
  },
  {
   "cell_type": "code",
   "execution_count": 53,
   "id": "157831cf-9edf-40f5-85c4-90c202fa536d",
   "metadata": {},
   "outputs": [],
   "source": [
    "# Create data loaders\n",
    "batch_size = 32\n",
    "train_loader = DataLoader(train_dataset, batch_size=batch_size, shuffle=True)\n",
    "val_loader = DataLoader(val_dataset, batch_size=batch_size)\n",
    "\n",
    "# Set up optimizer and learning rate scheduler\n",
    "device = torch.device(\"cuda\" if torch.cuda.is_available() else \"cpu\")\n",
    "model.to(device)\n",
    "\n",
    "optimizer = torch.optim.AdamW(model.parameters(), lr=3e-5)\n",
    "total_steps = len(train_loader) * 3  # 3 epochs\n",
    "scheduler = torch.optim.lr_scheduler.OneCycleLR(\n",
    "    optimizer, \n",
    "    max_lr=3e-5, \n",
    "    total_steps=total_steps\n",
    ")"
   ]
  },
  {
   "cell_type": "code",
   "execution_count": null,
   "id": "8a878fb8-6c37-4415-a057-328ce6aa887d",
   "metadata": {},
   "outputs": [
    {
     "name": "stderr",
     "output_type": "stream",
     "text": [
      "Training Epoch 1: 100%|██████████| 31250/31250 [3:12:10<00:00,  2.71it/s]  \n"
     ]
    },
    {
     "name": "stdout",
     "output_type": "stream",
     "text": [
      "Epoch 1: Average Training Loss: 2.1705\n"
     ]
    },
    {
     "name": "stderr",
     "output_type": "stream",
     "text": [
      "Validation Epoch 1: 100%|██████████| 63/63 [00:08<00:00,  7.07it/s]\n",
      "/projects/gt47/amondal2/Source/miniconda3/envs/torch_2/lib/python3.10/site-packages/transformers/modeling_utils.py:3339: UserWarning: Moving the following attributes in the config to the generation config: {'max_length': 200, 'early_stopping': True, 'num_beams': 5}. You are seeing this warning because you've set generation parameters in the model config, as opposed to in the generation config.\n",
      "  warnings.warn(\n"
     ]
    },
    {
     "name": "stdout",
     "output_type": "stream",
     "text": [
      "Epoch 1: Average Validation Loss: 1.9693\n",
      "Model saved at Epoch 1\n"
     ]
    },
    {
     "name": "stderr",
     "output_type": "stream",
     "text": [
      "Training Epoch 2: 100%|██████████| 31250/31250 [3:12:28<00:00,  2.71it/s]   \n"
     ]
    },
    {
     "name": "stdout",
     "output_type": "stream",
     "text": [
      "Epoch 2: Average Training Loss: 1.7108\n"
     ]
    },
    {
     "name": "stderr",
     "output_type": "stream",
     "text": [
      "Validation Epoch 2: 100%|██████████| 63/63 [00:08<00:00,  7.33it/s]\n"
     ]
    },
    {
     "name": "stdout",
     "output_type": "stream",
     "text": [
      "Epoch 2: Average Validation Loss: 1.8015\n",
      "Model saved at Epoch 2\n"
     ]
    },
    {
     "name": "stderr",
     "output_type": "stream",
     "text": [
      "Training Epoch 3:  26%|██▌       | 8012/31250 [49:19<2:22:34,  2.72it/s]"
     ]
    }
   ],
   "source": [
    "# Training loop\n",
    "num_epochs = 5\n",
    "best_val_loss = float('inf')\n",
    "t_loss=[]\n",
    "v_loss=[]\n",
    "for epoch in range(num_epochs):\n",
    "    # Training\n",
    "    model.train()\n",
    "    train_loss = 0\n",
    "    \n",
    "    for batch in tqdm(train_loader, desc=f\"Training Epoch {epoch+1}\"):\n",
    "        input_ids = batch[\"input_ids\"].to(device)\n",
    "        attention_mask = batch[\"attention_mask\"].to(device)\n",
    "        labels = batch[\"labels\"].to(device)\n",
    "        \n",
    "        # Forward pass\n",
    "        outputs = model(\n",
    "            input_ids=input_ids,\n",
    "            attention_mask=attention_mask,\n",
    "            labels=labels\n",
    "        )\n",
    "        \n",
    "        loss = outputs.loss\n",
    "        train_loss += loss.item()\n",
    "        \n",
    "        # Backward pass\n",
    "        optimizer.zero_grad()\n",
    "        loss.backward()\n",
    "        optimizer.step()\n",
    "        scheduler.step()\n",
    "    \n",
    "    avg_train_loss = train_loss / len(train_loader)\n",
    "    print(f\"Epoch {epoch+1}: Average Training Loss: {avg_train_loss:.4f}\")\n",
    "    t_loss.append(avg_train_loss)\n",
    "    # Validation\n",
    "    model.eval()\n",
    "    val_loss = 0\n",
    "    \n",
    "    with torch.no_grad():\n",
    "        for batch in tqdm(val_loader, desc=f\"Validation Epoch {epoch+1}\"):\n",
    "            input_ids = batch[\"input_ids\"].to(device)\n",
    "            attention_mask = batch[\"attention_mask\"].to(device)\n",
    "            labels = batch[\"labels\"].to(device)\n",
    "            \n",
    "            outputs = model(\n",
    "                input_ids=input_ids,\n",
    "                attention_mask=attention_mask,\n",
    "                labels=labels\n",
    "            )\n",
    "            \n",
    "            loss = outputs.loss\n",
    "            val_loss += loss.item()\n",
    "    \n",
    "    avg_val_loss = val_loss / len(val_loader)\n",
    "    print(f\"Epoch {epoch+1}: Average Validation Loss: {avg_val_loss:.4f}\")\n",
    "    v_loss.append(avg_val_loss)\n",
    "    # Save the model if validation loss improves\n",
    "    if avg_val_loss < best_val_loss:\n",
    "        best_val_loss = avg_val_loss\n",
    "        model.save_pretrained(\"./mbart-en-fa-finetuned\")\n",
    "        tokenizer.save_pretrained(\"./mbart-en-fa-finetuned\")\n",
    "        print(f\"Model saved at Epoch {epoch+1}\")\n",
    "\n",
    "print(\"Training complete!\")"
   ]
  },
  {
   "cell_type": "code",
   "execution_count": null,
   "id": "0b057f2a-04cb-41d8-b98c-4d7b7a8812d3",
   "metadata": {},
   "outputs": [],
   "source": []
  },
  {
   "cell_type": "code",
   "execution_count": null,
   "id": "e34b9b2a-70ed-45e6-b45f-35694b3e16dc",
   "metadata": {},
   "outputs": [],
   "source": []
  },
  {
   "cell_type": "markdown",
   "id": "f319a0f1-0f14-4132-9295-b13906325e6a",
   "metadata": {},
   "source": [
    "#### Model training failed due to filesystem isssue. I plan to extend the trainig from the checkpoint but before that I want to check the perfomence on the test set. "
   ]
  },
  {
   "cell_type": "code",
   "execution_count": 14,
   "id": "5e10c105-39f0-4ec6-b5e5-d31fbe1ded04",
   "metadata": {},
   "outputs": [
    {
     "name": "stdout",
     "output_type": "stream",
     "text": [
      "Loading fine-tuned model...\n",
      "Model loaded!\n",
      "Loading original pre-trained model for comparison...\n",
      "Original model loaded!\n",
      "Loading test dataset...\n",
      "Test dataset loaded with 100 examples\n",
      "\n",
      "Evaluating original pre-trained model...\n",
      "\n",
      "Sample translations:\n",
      "Source: I'm obsolete!\n",
      "Reference: من دیگه به دردی نمیخورم\n",
      "Translation: من منسوخ شده ام!\n",
      "\n",
      "Source: You've really gotta help me now.\n",
      "Reference: تو واقعا ديگه بايد کمکم کني.\n",
      "Translation: شما واقعا باید به من کمک کنید.\n",
      "\n",
      "Source: The entire time you were in rehab,\n",
      "Reference: ‏کل مدت‌زمانی که توی بازپروری بودی\n",
      "Translation: تمام زمانی که تو در بازپروری بودی ،\n",
      "\n",
      "Original mBART-50 BLEU score: 4.99\n",
      "\n",
      "Evaluating fine-tuned model...\n",
      "\n",
      "Sample translations:\n",
      "Source: I'm obsolete!\n",
      "Reference: من دیگه به دردی نمیخورم\n",
      "Translation: من از کار افتاده ام\n",
      "\n",
      "Source: You've really gotta help me now.\n",
      "Reference: تو واقعا ديگه بايد کمکم کني.\n",
      "Translation: حالا واقعاً بايد بهم کمک کني.\n",
      "\n",
      "Source: The entire time you were in rehab,\n",
      "Reference: ‏کل مدت‌زمانی که توی بازپروری بودی\n",
      "Translation: تمام مدتي که تو اعتياد بودي\n",
      "\n",
      "Fine-tuned model BLEU score: 10.98\n",
      "\n",
      "Improvement: 5.99 BLEU points\n"
     ]
    }
   ],
   "source": [
    "import torch\n",
    "from transformers import MBartForConditionalGeneration, MBart50TokenizerFast\n",
    "from datasets import load_dataset\n",
    "from sacrebleu.metrics import BLEU\n",
    "from tqdm import tqdm\n",
    "\n",
    "# Function to calculate BLEU score\n",
    "def calculate_bleu(references, predictions):\n",
    "    bleu = BLEU()\n",
    "    return bleu.corpus_score(predictions, [references]).score\n",
    "\n",
    "# Function to translate text using mBART model\n",
    "def translate(model, tokenizer, src_texts, src_lang, tgt_lang, device=\"cuda\" if torch.cuda.is_available() else \"cpu\"):\n",
    "    # Prepare the text data\n",
    "    model = model.to(device)\n",
    "    tokenizer.src_lang = src_lang\n",
    "    \n",
    "    # Process in smaller batches to avoid memory issues\n",
    "    batch_size = 8\n",
    "    translations = []\n",
    "    \n",
    "    for i in range(0, len(src_texts), batch_size):\n",
    "        batch_texts = src_texts[i:i+batch_size]\n",
    "        \n",
    "        # Tokenize the source text\n",
    "        inputs = tokenizer(batch_texts, return_tensors=\"pt\", padding=True, truncation=True, max_length=128).to(device)\n",
    "        \n",
    "        # Generate translation\n",
    "        with torch.no_grad():\n",
    "            translated_tokens = model.generate(\n",
    "                **inputs,\n",
    "                forced_bos_token_id=tokenizer.lang_code_to_id[tgt_lang],\n",
    "                max_length=128\n",
    "            )\n",
    "        \n",
    "        # Decode the generated tokens\n",
    "        batch_translations = tokenizer.batch_decode(translated_tokens, skip_special_tokens=True)\n",
    "        translations.extend(batch_translations)\n",
    "    \n",
    "    return translations\n",
    "\n",
    "\n",
    "\n",
    "# Function to evaluate model on a given language pair\n",
    "def evaluate_language_pair(model, tokenizer, src_lang, tgt_lang, test_dataset):\n",
    "    # Extract source and target sentences\n",
    "    src_texts = [item[\"translation\"][\"en\"] for item in test_dataset]\n",
    "    tgt_texts = [item[\"translation\"][\"fa\"] for item in test_dataset]\n",
    "    \n",
    "    # Translate source texts\n",
    "    translations = translate(model, tokenizer, src_texts, src_lang, tgt_lang)\n",
    "    \n",
    "    # Calculate BLEU score\n",
    "    bleu_score = calculate_bleu(tgt_texts, translations)\n",
    "    \n",
    "    # Print a few examples for qualitative evaluation\n",
    "    print(\"\\nSample translations:\")\n",
    "    for i in range(min(3, len(translations))):\n",
    "        print(f\"Source: {src_texts[i]}\")\n",
    "        print(f\"Reference: {tgt_texts[i]}\")\n",
    "        print(f\"Translation: {translations[i]}\")\n",
    "        print()\n",
    "    \n",
    "    return bleu_score\n",
    "\n",
    "# Load your fine-tuned model and tokenizer\n",
    "print(\"Loading fine-tuned model...\")\n",
    "finetuned_model = MBartForConditionalGeneration.from_pretrained(\"./mbart-en-fa-finetuned\")\n",
    "finetuned_tokenizer = MBart50TokenizerFast.from_pretrained(\"./mbart-en-fa-finetuned\")\n",
    "print(\"Model loaded!\")\n",
    "\n",
    "# Set source and target languages\n",
    "src_lang = \"en_XX\"\n",
    "tgt_lang = \"fa_IR\"\n",
    "\n",
    "# Load the original pre-trained model for comparison\n",
    "print(\"Loading original pre-trained model for comparison...\")\n",
    "original_model = MBartForConditionalGeneration.from_pretrained(\"facebook/mbart-large-50-many-to-many-mmt\")\n",
    "original_tokenizer = MBart50TokenizerFast.from_pretrained(\"facebook/mbart-large-50-many-to-many-mmt\")\n",
    "print(\"Original model loaded!\")\n",
    "\n",
    "# Load test dataset\n",
    "print(\"Loading test dataset...\")\n",
    "test_dataset = load_dataset(\"opus100\", \"en-fa\", split=\"test[:100]\")  # Using 100 examples for quick testing\n",
    "print(f\"Test dataset loaded with {len(test_dataset)} examples\")\n",
    "\n",
    "# Evaluate both models\n",
    "print(\"\\nEvaluating original pre-trained model...\")\n",
    "original_bleu = evaluate_language_pair(original_model, original_tokenizer, src_lang, tgt_lang, test_dataset)\n",
    "print(f\"Original mBART-50 BLEU score: {original_bleu:.2f}\")\n",
    "\n",
    "print(\"\\nEvaluating fine-tuned model...\")\n",
    "finetuned_bleu = evaluate_language_pair(finetuned_model, finetuned_tokenizer, src_lang, tgt_lang, test_dataset)\n",
    "print(f\"Fine-tuned model BLEU score: {finetuned_bleu:.2f}\")\n",
    "\n",
    "print(f\"\\nImprovement: {finetuned_bleu - original_bleu:.2f} BLEU points\")"
   ]
  },
  {
   "cell_type": "markdown",
   "id": "81f371fd-360f-4354-a5b2-27441f3ff6b7",
   "metadata": {},
   "source": [
    "#### Awesome this is great. We imporved by 5.99 BLUE (using first 100 datapoint from test set). Let's test on the whole test set."
   ]
  },
  {
   "cell_type": "code",
   "execution_count": 26,
   "id": "42f920ba-4770-4fc1-ac85-c8ec01699ffc",
   "metadata": {},
   "outputs": [
    {
     "name": "stdout",
     "output_type": "stream",
     "text": [
      "Loading fine-tuned model...\n",
      "Model loaded!\n",
      "Loading original pre-trained model for comparison...\n",
      "Original model loaded!\n",
      "Loading test dataset...\n",
      "Test dataset loaded with 2000 examples\n",
      "\n",
      "Evaluating original pre-trained model...\n",
      "\n",
      "Sample translations:\n",
      "Source: I'm obsolete!\n",
      "Reference: من دیگه به دردی نمیخورم\n",
      "Translation: من منسوخ شده ام!\n",
      "\n",
      "Source: You've really gotta help me now.\n",
      "Reference: تو واقعا ديگه بايد کمکم کني.\n",
      "Translation: شما واقعا باید به من کمک کنید.\n",
      "\n",
      "Source: The entire time you were in rehab,\n",
      "Reference: ‏کل مدت‌زمانی که توی بازپروری بودی\n",
      "Translation: تمام زمانی که تو در بازپروری بودی ،\n",
      "\n",
      "Original mBART-50 BLEU score: 4.53\n",
      "\n",
      "Evaluating fine-tuned model...\n"
     ]
    },
    {
     "name": "stderr",
     "output_type": "stream",
     "text": [
      "That's 100 lines that end in a tokenized period ('.')\n",
      "It looks like you forgot to detokenize your test data, which may hurt your score.\n",
      "If you insist your data is detokenized, or don't care, you can suppress this message with the `force` parameter.\n"
     ]
    },
    {
     "name": "stdout",
     "output_type": "stream",
     "text": [
      "\n",
      "Sample translations:\n",
      "Source: I'm obsolete!\n",
      "Reference: من دیگه به دردی نمیخورم\n",
      "Translation: من از کار افتاده ام\n",
      "\n",
      "Source: You've really gotta help me now.\n",
      "Reference: تو واقعا ديگه بايد کمکم کني.\n",
      "Translation: حالا واقعاً بايد بهم کمک کني.\n",
      "\n",
      "Source: The entire time you were in rehab,\n",
      "Reference: ‏کل مدت‌زمانی که توی بازپروری بودی\n",
      "Translation: تمام مدتي که تو اعتياد بودي\n",
      "\n",
      "Fine-tuned model BLEU score: 10.46\n",
      "\n",
      "Improvement: 5.93 BLEU points\n"
     ]
    }
   ],
   "source": [
    "# Load your fine-tuned model and tokenizer\n",
    "print(\"Loading fine-tuned model...\")\n",
    "finetuned_model = MBartForConditionalGeneration.from_pretrained(\"./mbart-en-fa-finetuned\")\n",
    "finetuned_tokenizer = MBart50TokenizerFast.from_pretrained(\"./mbart-en-fa-finetuned\")\n",
    "print(\"Model loaded!\")\n",
    "\n",
    "# Set source and target languages\n",
    "src_lang = \"en_XX\"\n",
    "tgt_lang = \"fa_IR\"\n",
    "\n",
    "# Load the original pre-trained model for comparison\n",
    "print(\"Loading original pre-trained model for comparison...\")\n",
    "original_model = MBartForConditionalGeneration.from_pretrained(\"facebook/mbart-large-50-many-to-many-mmt\")\n",
    "original_tokenizer = MBart50TokenizerFast.from_pretrained(\"facebook/mbart-large-50-many-to-many-mmt\")\n",
    "print(\"Original model loaded!\")\n",
    "\n",
    "# Load test dataset\n",
    "print(\"Loading test dataset...\")\n",
    "test_dataset = load_dataset(\"opus100\", \"en-fa\", split=\"test\")  # Using 100 examples for quick testing\n",
    "print(f\"Test dataset loaded with {len(test_dataset)} examples\")\n",
    "\n",
    "# Evaluate both models\n",
    "print(\"\\nEvaluating original pre-trained model...\")\n",
    "original_bleu = evaluate_language_pair(original_model, original_tokenizer, src_lang, tgt_lang, test_dataset)\n",
    "print(f\"Original mBART-50 BLEU score: {original_bleu:.2f}\")\n",
    "\n",
    "print(\"\\nEvaluating fine-tuned model...\")\n",
    "finetuned_bleu = evaluate_language_pair(finetuned_model, finetuned_tokenizer, src_lang, tgt_lang, test_dataset)\n",
    "print(f\"Fine-tuned model BLEU score: {finetuned_bleu:.2f}\")\n",
    "\n",
    "print(f\"\\nImprovement: {finetuned_bleu - original_bleu:.2f} BLEU points\")"
   ]
  },
  {
   "cell_type": "markdown",
   "id": "f59aa779-5035-4f3e-9b3d-16d645750d0e",
   "metadata": {},
   "source": [
    "#### This is awesome, the finetuned model improve the BLEU score on the whole test set by ~6 BLEU"
   ]
  },
  {
   "cell_type": "markdown",
   "id": "a06969a4-1150-4e0f-a204-423d9f31a893",
   "metadata": {},
   "source": [
    "#### Retrain few more epochs to get even better translation"
   ]
  },
  {
   "cell_type": "code",
   "execution_count": 29,
   "id": "768db390-38bd-4f5c-96fa-ddd9af9cb1c8",
   "metadata": {},
   "outputs": [],
   "source": [
    "# Load the saved model and tokenizer\n",
    "model = MBartForConditionalGeneration.from_pretrained(\"./mbart-en-fa-finetuned\")\n",
    "tokenizer = MBart50TokenizerFast.from_pretrained(\"./mbart-en-fa-finetuned\")\n",
    "\n",
    "# Move to device\n",
    "device = torch.device(\"cuda\" if torch.cuda.is_available() else \"cpu\")\n",
    "model.to(device)\n",
    "\n",
    "# Set source and target languages\n",
    "src_lang = \"en_XX\"\n",
    "tgt_lang = \"fa_IR\"\n",
    "tokenizer.src_lang = src_lang\n",
    "\n",
    "# Recreate dataloaders with smaller batch size\n",
    "batch_size = 32\n",
    "train_dataset = TranslationDataset(opus_dataset[\"train\"], tokenizer, src_lang, tgt_lang)\n",
    "val_dataset = TranslationDataset(opus_dataset[\"validation\"], tokenizer, src_lang, tgt_lang)\n",
    "train_loader = DataLoader(train_dataset, batch_size=batch_size, shuffle=True)\n",
    "val_loader = DataLoader(val_dataset, batch_size=batch_size)\n",
    "\n",
    "# Reset optimizer and scheduler\n",
    "optimizer = torch.optim.AdamW(model.parameters(), lr=2e-5)  # Slightly lower learning rate\n",
    "total_steps = len(train_loader) * 2  # Remaining epochs\n",
    "scheduler = torch.optim.lr_scheduler.OneCycleLR(\n",
    "    optimizer, \n",
    "    max_lr=2e-5, \n",
    "    total_steps=total_steps\n",
    ")\n",
    "\n",
    "# Continue training from epoch 3\n",
    "num_epochs = 2  # Number of additional epochs\n",
    "best_val_loss = 1.8015  # Your last reported validation loss"
   ]
  },
  {
   "cell_type": "code",
   "execution_count": 30,
   "id": "cd8d882d-c96f-4132-b1ad-fd7be9f3b0df",
   "metadata": {},
   "outputs": [
    {
     "name": "stderr",
     "output_type": "stream",
     "text": [
      "Training Epoch 3: 100%|██████████| 31250/31250 [3:11:26<00:00,  2.72it/s]  \n"
     ]
    },
    {
     "name": "stdout",
     "output_type": "stream",
     "text": [
      "Epoch 3: Average Training Loss: 1.4714\n"
     ]
    },
    {
     "name": "stderr",
     "output_type": "stream",
     "text": [
      "Validation Epoch 3: 100%|██████████| 63/63 [00:08<00:00,  7.07it/s]\n"
     ]
    },
    {
     "name": "stdout",
     "output_type": "stream",
     "text": [
      "Epoch 3: Average Validation Loss: 1.8030\n"
     ]
    },
    {
     "name": "stderr",
     "output_type": "stream",
     "text": [
      "Training Epoch 4: 100%|██████████| 31250/31250 [3:11:28<00:00,  2.72it/s]  \n"
     ]
    },
    {
     "name": "stdout",
     "output_type": "stream",
     "text": [
      "Epoch 4: Average Training Loss: 1.3373\n"
     ]
    },
    {
     "name": "stderr",
     "output_type": "stream",
     "text": [
      "Validation Epoch 4: 100%|██████████| 63/63 [00:08<00:00,  7.34it/s]\n"
     ]
    },
    {
     "name": "stdout",
     "output_type": "stream",
     "text": [
      "Epoch 4: Average Validation Loss: 1.7814\n",
      "Model saved at Epoch 4\n",
      "Training complete!\n"
     ]
    }
   ],
   "source": [
    "t_loss = [2.1705, 1.7108]  # previous training losses, tracked it from the trainig print\n",
    "v_loss = [1.9693, 1.8015]  # previous validation losses\n",
    "\n",
    "for epoch in range(3, 3 + num_epochs):  # Start from epoch 3\n",
    "    # Training\n",
    "    model.train()\n",
    "    train_loss = 0\n",
    "    \n",
    "    for batch in tqdm(train_loader, desc=f\"Training Epoch {epoch}\"):\n",
    "        input_ids = batch[\"input_ids\"].to(device)\n",
    "        attention_mask = batch[\"attention_mask\"].to(device)\n",
    "        labels = batch[\"labels\"].to(device)\n",
    "        \n",
    "        # Forward pass\n",
    "        outputs = model(\n",
    "            input_ids=input_ids,\n",
    "            attention_mask=attention_mask,\n",
    "            labels=labels\n",
    "        )\n",
    "        \n",
    "        loss = outputs.loss\n",
    "        train_loss += loss.item()\n",
    "        \n",
    "        # Backward pass\n",
    "        optimizer.zero_grad()\n",
    "        loss.backward()\n",
    "        optimizer.step()\n",
    "        scheduler.step()\n",
    "    \n",
    "    avg_train_loss = train_loss / len(train_loader)\n",
    "    print(f\"Epoch {epoch}: Average Training Loss: {avg_train_loss:.4f}\")\n",
    "    t_loss.append(avg_train_loss)\n",
    "    \n",
    "    # Validation\n",
    "    model.eval()\n",
    "    val_loss = 0\n",
    "    \n",
    "    with torch.no_grad():\n",
    "        for batch in tqdm(val_loader, desc=f\"Validation Epoch {epoch}\"):\n",
    "            input_ids = batch[\"input_ids\"].to(device)\n",
    "            attention_mask = batch[\"attention_mask\"].to(device)\n",
    "            labels = batch[\"labels\"].to(device)\n",
    "            \n",
    "            outputs = model(\n",
    "                input_ids=input_ids,\n",
    "                attention_mask=attention_mask,\n",
    "                labels=labels\n",
    "            )\n",
    "            \n",
    "            loss = outputs.loss\n",
    "            val_loss += loss.item()\n",
    "    \n",
    "    avg_val_loss = val_loss / len(val_loader)\n",
    "    print(f\"Epoch {epoch}: Average Validation Loss: {avg_val_loss:.4f}\")\n",
    "    v_loss.append(avg_val_loss)\n",
    "    \n",
    "    # Save the model if validation loss improves\n",
    "    if avg_val_loss < best_val_loss:\n",
    "        best_val_loss = avg_val_loss\n",
    "        model.save_pretrained(\"./mbart-en-fa-finetuned-continued\")\n",
    "        tokenizer.save_pretrained(\"./mbart-en-fa-finetuned-continued\")\n",
    "        print(f\"Model saved at Epoch {epoch}\")\n",
    "\n",
    "print(\"Training complete!\")"
   ]
  },
  {
   "cell_type": "code",
   "execution_count": 2,
   "id": "73007f2e-b3c9-4866-b5e9-99534c018789",
   "metadata": {},
   "outputs": [
    {
     "data": {
      "image/png": "[encoded data removed]",
      "text/plain": [
       "<Figure size 640x480 with 1 Axes>"
      ]
     },
     "metadata": {},
     "output_type": "display_data"
    }
   ],
   "source": [
    "#plot losses\n",
    "from matplotlib import pyplot as plt\n",
    "plt.plot(t_loss, label='Trainig loss')\n",
    "plt.plot(v_loss, label='Validation loss')\n",
    "plt.title('Losses per epoch')\n",
    "plt.xlabel('Epoch')\n",
    "plt.ylabel('Loss')\n",
    "plt.legend()\n",
    "plt.savefig('Finetuning_losses_mbart50.pdf')\n",
    "plt.show()\n"
   ]
  },
  {
   "cell_type": "markdown",
   "id": "2f576cc8-a486-4bda-ac24-745eefee707a",
   "metadata": {},
   "source": [
    "#### Seems model is overfitting with more training as training loss is decresing significantly but not much effect on validation loss. Use the best saved finetuned model and estimate the BLEU score for the entire test set\n"
   ]
  },
  {
   "cell_type": "code",
   "execution_count": 36,
   "id": "a8092830-6048-48bb-adfa-16a9dc37d41c",
   "metadata": {},
   "outputs": [
    {
     "name": "stdout",
     "output_type": "stream",
     "text": [
      "Loading fine-tuned model...\n",
      "Model loaded!\n",
      "Loading test dataset...\n",
      "Test dataset loaded with 2000 examples\n",
      "\n",
      "Evaluating fine-tuned model...\n"
     ]
    },
    {
     "name": "stderr",
     "output_type": "stream",
     "text": [
      "That's 100 lines that end in a tokenized period ('.')\n",
      "It looks like you forgot to detokenize your test data, which may hurt your score.\n",
      "If you insist your data is detokenized, or don't care, you can suppress this message with the `force` parameter.\n"
     ]
    },
    {
     "name": "stdout",
     "output_type": "stream",
     "text": [
      "\n",
      "Sample translations:\n",
      "Source: I'm obsolete!\n",
      "Reference: من دیگه به دردی نمیخورم\n",
      "Translation: من کهنه ام!\n",
      "\n",
      "Source: You've really gotta help me now.\n",
      "Reference: تو واقعا ديگه بايد کمکم کني.\n",
      "Translation: حالا ديگه واقعاً بايد کمکم کني.\n",
      "\n",
      "Source: The entire time you were in rehab,\n",
      "Reference: ‏کل مدت‌زمانی که توی بازپروری بودی\n",
      "Translation: تمام مدتي که داشتي ترک ميکردي\n",
      "\n",
      "Fine-tuned model BLEU score: 10.94\n",
      "\n",
      "Improvement: 6.41 BLEU points\n"
     ]
    }
   ],
   "source": [
    "# Load your fine-tuned model and tokenizer\n",
    "print(\"Loading fine-tuned model...\")\n",
    "finetuned_model = MBartForConditionalGeneration.from_pretrained(\"./mbart-en-fa-finetuned-continued\")\n",
    "finetuned_tokenizer = MBart50TokenizerFast.from_pretrained(\"./mbart-en-fa-finetuned-continued\")\n",
    "print(\"Model loaded!\")\n",
    "\n",
    "# Set source and target languages\n",
    "src_lang = \"en_XX\"\n",
    "tgt_lang = \"fa_IR\"\n",
    "\n",
    "# Load test dataset\n",
    "print(\"Loading test dataset...\")\n",
    "test_dataset = load_dataset(\"opus100\", \"en-fa\", split=\"test\")  # Using 100 examples for quick testing\n",
    "print(f\"Test dataset loaded with {len(test_dataset)} examples\")\n",
    "\n",
    "print(\"\\nEvaluating fine-tuned model...\")\n",
    "finetuned_bleu = evaluate_language_pair(finetuned_model, finetuned_tokenizer, src_lang, tgt_lang, test_dataset)\n",
    "print(f\"Fine-tuned model BLEU score: {finetuned_bleu:.2f}\")\n",
    "\n",
    "print(f\"\\nImprovement: {finetuned_bleu - original_bleu:.2f} BLEU points\")"
   ]
  },
  {
   "cell_type": "markdown",
   "id": "34272d45-8cf4-4db5-a563-bae484419a1c",
   "metadata": {},
   "source": [
    "#### Okay after 2 more epochs, the BLEU score improved by 6.41 BLEU. Final BLEU is ~11. This is a significant improvement"
   ]
  },
  {
   "cell_type": "markdown",
   "id": "64ce8bae-94d2-44c8-ac16-d16ce7282b4b",
   "metadata": {},
   "source": [
    "#### Check the METEOR score as more advance accuracy metric. "
   ]
  },
  {
   "cell_type": "code",
   "execution_count": null,
   "id": "777b20ad-f7dd-400f-a8d0-1b39c696e85c",
   "metadata": {},
   "outputs": [],
   "source": []
  },
  {
   "cell_type": "code",
   "execution_count": 38,
   "id": "64923ded-ea6b-449d-9993-14ac4092f7ad",
   "metadata": {},
   "outputs": [
    {
     "name": "stderr",
     "output_type": "stream",
     "text": [
      "huggingface/tokenizers: The current process just got forked, after parallelism has already been used. Disabling parallelism to avoid deadlocks...\n",
      "To disable this warning, you can either:\n",
      "\t- Avoid using `tokenizers` before the fork if possible\n",
      "\t- Explicitly set the environment variable TOKENIZERS_PARALLELISM=(true | false)\n"
     ]
    },
    {
     "name": "stdout",
     "output_type": "stream",
     "text": [
      "Collecting nltk\n",
      "  Downloading nltk-3.9.1-py3-none-any.whl.metadata (2.9 kB)\n",
      "Collecting click (from nltk)\n",
      "  Downloading click-8.1.8-py3-none-any.whl.metadata (2.3 kB)\n",
      "Requirement already satisfied: joblib in /home/amondal2/.local/lib/python3.10/site-packages (from nltk) (1.4.2)\n",
      "Requirement already satisfied: regex>=2021.8.3 in /home/amondal2/.local/lib/python3.10/site-packages (from nltk) (2024.11.6)\n",
      "Requirement already satisfied: tqdm in /kfs2/projects/gt47/amondal2/Source/miniconda3/envs/torch_2/lib/python3.10/site-packages (from nltk) (4.67.1)\n",
      "Downloading nltk-3.9.1-py3-none-any.whl (1.5 MB)\n",
      "\u001b[2K   \u001b[90m━━━━━━━━━━━━━━━━━━━━━━━━━━━━━━━━━━━━━━━━\u001b[0m \u001b[32m1.5/1.5 MB\u001b[0m \u001b[31m10.8 MB/s\u001b[0m eta \u001b[36m0:00:00\u001b[0m\n",
      "Downloading click-8.1.8-py3-none-any.whl (98 kB)\n",
      "Installing collected packages: click, nltk\n",
      "Successfully installed click-8.1.8 nltk-3.9.1\n"
     ]
    }
   ],
   "source": [
    "!pip install nltk"
   ]
  },
  {
   "cell_type": "code",
   "execution_count": 40,
   "id": "caed9220-0531-45d5-93d5-957ef4cc6105",
   "metadata": {},
   "outputs": [
    {
     "name": "stderr",
     "output_type": "stream",
     "text": [
      "[nltk_data] Downloading package wordnet to /home/amondal2/nltk_data...\n",
      "[nltk_data]   Package wordnet is already up-to-date!\n",
      "[nltk_data] Downloading package omw-1.4 to /home/amondal2/nltk_data...\n",
      "[nltk_data]   Package omw-1.4 is already up-to-date!\n"
     ]
    },
    {
     "name": "stdout",
     "output_type": "stream",
     "text": [
      "Loading original pre-trained model...\n",
      "Loading fine-tuned model...\n",
      "Loading test dataset...\n",
      "\n",
      "Evaluating original pre-trained model...\n",
      "\n",
      "Sample translations:\n",
      "Source: I'm obsolete!\n",
      "Reference: من دیگه به دردی نمیخورم\n",
      "Translation: من منسوخ شده ام!\n",
      "\n",
      "Source: You've really gotta help me now.\n",
      "Reference: تو واقعا ديگه بايد کمکم کني.\n",
      "Translation: شما واقعا باید به من کمک کنید.\n",
      "\n",
      "Source: The entire time you were in rehab,\n",
      "Reference: ‏کل مدت‌زمانی که توی بازپروری بودی\n",
      "Translation: تمام زمانی که تو در بازپروری بودی ،\n",
      "\n",
      "\n",
      "Evaluating fine-tuned model...\n",
      "\n",
      "Sample translations:\n",
      "Source: I'm obsolete!\n",
      "Reference: من دیگه به دردی نمیخورم\n",
      "Translation: من کهنه ام!\n",
      "\n",
      "Source: You've really gotta help me now.\n",
      "Reference: تو واقعا ديگه بايد کمکم کني.\n",
      "Translation: حالا ديگه واقعاً بايد کمکم کني.\n",
      "\n",
      "Source: The entire time you were in rehab,\n",
      "Reference: ‏کل مدت‌زمانی که توی بازپروری بودی\n",
      "Translation: تمام مدتي که داشتي ترک ميکردي\n",
      "\n",
      "\n",
      "===== Model Comparison =====\n",
      "\n",
      "Original mBART-50 METEOR: 0.1361\n",
      "Fine-tuned METEOR: 0.2526\n",
      "METEOR Improvement: 0.1165 points\n"
     ]
    }
   ],
   "source": [
    "from nltk.translate.meteor_score import meteor_score\n",
    "import nltk\n",
    "\n",
    "\n",
    "# Download necessary NLTK data\n",
    "nltk.download('wordnet')\n",
    "nltk.download('omw-1.4')\n",
    "\n",
    "\n",
    "\n",
    "# Function to calculate METEOR score\n",
    "def calculate_meteor(references, predictions):\n",
    "    meteor_scores = []\n",
    "    for ref, pred in zip(references, predictions):\n",
    "        # Convert to list of tokens for METEOR\n",
    "        ref_tokens = ref.split()\n",
    "        pred_tokens = pred.split()\n",
    "        score = meteor_score([ref_tokens], pred_tokens)\n",
    "        meteor_scores.append(score)\n",
    "    return sum(meteor_scores) / len(meteor_scores)\n",
    "\n",
    "\n",
    "# Function to evaluate model on a given language pair\n",
    "def evaluate_model(model, tokenizer, src_lang, tgt_lang, test_dataset):\n",
    "    # Extract source and target sentences\n",
    "    src_texts = [item[\"translation\"][\"en\"] for item in test_dataset]\n",
    "    tgt_texts = [item[\"translation\"][\"fa\"] for item in test_dataset]  # Adjust language code as needed\n",
    "    \n",
    "    # Translate source texts\n",
    "    translations = translate(model, tokenizer, src_texts, src_lang, tgt_lang)\n",
    "    \n",
    "    meteor_score = calculate_meteor(tgt_texts, translations)\n",
    "    \n",
    "    # Print a few examples for qualitative evaluation\n",
    "    print(\"\\nSample translations:\")\n",
    "    for i in range(min(3, len(translations))):\n",
    "        print(f\"Source: {src_texts[i]}\")\n",
    "        print(f\"Reference: {tgt_texts[i]}\")\n",
    "        print(f\"Translation: {translations[i]}\")\n",
    "        print()\n",
    "    \n",
    "    return {\n",
    "        \"METEOR\": meteor_score\n",
    "    }\n",
    "\n",
    "# Main evaluation function\n",
    "def compare_models():\n",
    "    # Load models and tokenizers\n",
    "    print(\"Loading original pre-trained model...\")\n",
    "    original_model = MBartForConditionalGeneration.from_pretrained(\"facebook/mbart-large-50-many-to-many-mmt\")\n",
    "    original_tokenizer = MBart50TokenizerFast.from_pretrained(\"facebook/mbart-large-50-many-to-many-mmt\")\n",
    "    \n",
    "    print(\"Loading fine-tuned model...\")\n",
    "    finetuned_model = MBartForConditionalGeneration.from_pretrained(\"./mbart-en-fa-finetuned-continued\")\n",
    "    finetuned_tokenizer = MBart50TokenizerFast.from_pretrained(\"./mbart-en-fa-finetuned-continued\")\n",
    "    \n",
    "    # Load test dataset\n",
    "    print(\"Loading test dataset...\")\n",
    "    test_dataset = load_dataset(\"opus100\", \"en-fa\", split=\"test\")\n",
    "    \n",
    "    # Source and target languages\n",
    "    src_lang = \"en_XX\"\n",
    "    tgt_lang = \"fa_IR\"\n",
    "    \n",
    "    # Evaluate original model\n",
    "    print(\"\\nEvaluating original pre-trained model...\")\n",
    "    original_scores = evaluate_model(original_model, original_tokenizer, src_lang, tgt_lang, test_dataset)\n",
    "    \n",
    "    # Evaluate fine-tuned model\n",
    "    print(\"\\nEvaluating fine-tuned model...\")\n",
    "    finetuned_scores = evaluate_model(finetuned_model, finetuned_tokenizer, src_lang, tgt_lang, test_dataset)\n",
    "    \n",
    "    # Print comparison\n",
    "    print(\"\\n===== Model Comparison =====\")\n",
    "    \n",
    "    print(f\"\\nOriginal mBART-50 METEOR: {original_scores['METEOR']:.4f}\")\n",
    "    print(f\"Fine-tuned METEOR: {finetuned_scores['METEOR']:.4f}\")\n",
    "    print(f\"METEOR Improvement: {finetuned_scores['METEOR'] - original_scores['METEOR']:.4f} points\")\n",
    "    \n",
    "    return {\n",
    "        \"original\": original_scores,\n",
    "        \"finetuned\": finetuned_scores\n",
    "    }\n",
    "\n",
    "# Run evaluation\n",
    "if __name__ == \"__main__\":\n",
    "    results = compare_models()"
   ]
  },
  {
   "cell_type": "markdown",
   "id": "5ec5562e-ca9e-4b69-aa2d-297544e69cb7",
   "metadata": {},
   "source": [
    "#### We completed our finetuning for mBART50 on English-Farsi language and both BLEU and METEOR score improved by ~6.5 and 0.1165 respectively which is incredible. "
   ]
  },
  {
   "cell_type": "markdown",
   "id": "f0996348-0db4-4168-93a1-0fe24b42be99",
   "metadata": {},
   "source": [
    "#### Finetune mBART35: \n",
    "#### mBART25 does not have Farsi. We can finetune it 2 ways- \n",
    "#### 1. A simpler approach: Use similar language AR to understand Fa tokens and then finetune in a similar way as mBART50\n",
    "#### 2. A more complex approach: Adding the Parsian token, extend the embedding matrix etc.\n",
    "#### Here just for a parallel test of two mBART models, I am following the first simpler approach."
   ]
  },
  {
   "cell_type": "code",
   "execution_count": null,
   "id": "4d436133-47c3-4aa0-9445-7f0b6389a0a5",
   "metadata": {},
   "outputs": [],
   "source": []
  },
  {
   "cell_type": "code",
   "execution_count": null,
   "id": "8e4d39a0-ce56-4d2a-b5ef-eaeaf6605a8e",
   "metadata": {},
   "outputs": [],
   "source": []
  },
  {
   "cell_type": "code",
   "execution_count": 44,
   "id": "0986399f-b1c5-4ed4-a903-788fc9518644",
   "metadata": {},
   "outputs": [
    {
     "name": "stdout",
     "output_type": "stream",
     "text": [
      "Using device: cuda\n",
      "Available language tokens: ['ar_AR', 'cs_CZ', 'de_DE', 'en_XX', 'es_XX', 'et_EE', 'fi_FI', 'fr_XX', 'gu_IN', 'hi_IN', 'it_IT', 'ja_XX', 'kk_KZ', 'ko_KR', 'lt_LT', 'lv_LV', 'my_MM', 'ne_NP', 'nl_XX', 'ro_RO', 'ru_RU', 'si_LK', 'tr_TR', 'vi_VN', 'zh_CN']\n",
      "Train set size: 1000000\n",
      "Validation set size: 2000\n",
      "Test set size: 2000\n"
     ]
    },
    {
     "name": "stderr",
     "output_type": "stream",
     "text": [
      "Training Epoch 1: 100%|██████████| 31250/31250 [3:12:22<00:00,  2.71it/s]  \n"
     ]
    },
    {
     "name": "stdout",
     "output_type": "stream",
     "text": [
      "Epoch 1: Average Training Loss: 3.5010\n"
     ]
    },
    {
     "name": "stderr",
     "output_type": "stream",
     "text": [
      "Validation Epoch 1: 100%|██████████| 63/63 [00:08<00:00,  7.13it/s]\n",
      "/projects/gt47/amondal2/Source/miniconda3/envs/torch_2/lib/python3.10/site-packages/transformers/modeling_utils.py:3339: UserWarning: Moving the following attributes in the config to the generation config: {'max_length': 1024, 'num_beams': 5}. You are seeing this warning because you've set generation parameters in the model config, as opposed to in the generation config.\n",
      "  warnings.warn(\n"
     ]
    },
    {
     "name": "stdout",
     "output_type": "stream",
     "text": [
      "Epoch 1: Average Validation Loss: 2.1968\n",
      "Model saved at Epoch 1\n"
     ]
    },
    {
     "name": "stderr",
     "output_type": "stream",
     "text": [
      "IOPub message rate exceeded.▏    | 16275/31250 [1:40:04<1:31:55,  2.72it/s]\n",
      "The Jupyter server will temporarily stop sending output\n",
      "to the client in order to avoid crashing it.\n",
      "To change this limit, set the config variable\n",
      "`--ServerApp.iopub_msg_rate_limit`.\n",
      "\n",
      "Current values:\n",
      "ServerApp.iopub_msg_rate_limit=1000.0 (msgs/sec)\n",
      "ServerApp.rate_limit_window=3.0 (secs)\n",
      "\n",
      "Training Epoch 2: 100%|██████████| 31250/31250 [3:12:15<00:00,  2.71it/s]\n"
     ]
    },
    {
     "name": "stdout",
     "output_type": "stream",
     "text": [
      "Epoch 2: Average Training Loss: 1.9150\n"
     ]
    },
    {
     "name": "stderr",
     "output_type": "stream",
     "text": [
      "Validation Epoch 2: 100%|██████████| 63/63 [00:08<00:00,  7.41it/s]\n"
     ]
    },
    {
     "name": "stdout",
     "output_type": "stream",
     "text": [
      "Epoch 2: Average Validation Loss: 1.9627\n",
      "Model saved at Epoch 2\n",
      "Training complete!\n"
     ]
    }
   ],
   "source": [
    "import torch\n",
    "from transformers import MBartForConditionalGeneration, MBartTokenizer\n",
    "from torch.utils.data import DataLoader, Dataset\n",
    "from datasets import load_dataset\n",
    "#import evaluate\n",
    "from tqdm import tqdm\n",
    "\n",
    "# Set device\n",
    "device = torch.device(\"cuda\" if torch.cuda.is_available() else \"cpu\")\n",
    "print(f\"Using device: {device}\")\n",
    "\n",
    "# Load mBART-25 model and tokenizer\n",
    "model_name = \"facebook/mbart-large-cc25\"\n",
    "model = MBartForConditionalGeneration.from_pretrained(model_name)\n",
    "tokenizer = MBartTokenizer.from_pretrained(model_name)\n",
    "\n",
    "# Print available language tokens\n",
    "print(f\"Available language tokens: {list(tokenizer.lang_code_to_id.keys())}\")\n",
    "\n",
    "# Choose a substitute language token for Persian (fa_IR)\n",
    "# Arabic (ar_AR) is a reasonable choice as it shares some similarities\n",
    "src_lang = \"en_XX\"\n",
    "tgt_lang = \"ar_AR\"  # Using Arabic token as a substitute for Persian\n",
    "tokenizer.src_lang = src_lang\n",
    "\n",
    "# Load OPUS-100 English-Persian dataset\n",
    "opus_dataset = load_dataset(\"opus100\", \"en-fa\")\n",
    "print(f\"Train set size: {len(opus_dataset['train'])}\")\n",
    "print(f\"Validation set size: {len(opus_dataset['validation'])}\")\n",
    "print(f\"Test set size: {len(opus_dataset['test'])}\")\n",
    "\n",
    "# Create a custom dataset\n",
    "class TranslationDataset(Dataset):\n",
    "    def __init__(self, dataset, tokenizer, src_lang, tgt_lang, max_length=128):\n",
    "        self.dataset = dataset\n",
    "        self.tokenizer = tokenizer\n",
    "        self.src_lang = src_lang\n",
    "        self.tgt_lang = tgt_lang\n",
    "        self.max_length = max_length\n",
    "        \n",
    "    def __len__(self):\n",
    "        return len(self.dataset)\n",
    "    \n",
    "    def __getitem__(self, idx):\n",
    "        # Get source and target texts\n",
    "        src_text = self.dataset[idx][\"translation\"][\"en\"]\n",
    "        tgt_text = self.dataset[idx][\"translation\"][\"fa\"]\n",
    "        \n",
    "        # Tokenize source text\n",
    "        self.tokenizer.src_lang = self.src_lang\n",
    "        src_encoded = self.tokenizer(\n",
    "            src_text, \n",
    "            max_length=self.max_length, \n",
    "            truncation=True, \n",
    "            padding=\"max_length\", \n",
    "            return_tensors=\"pt\"\n",
    "        )\n",
    "        \n",
    "        # Tokenize target text - use Arabic token but Persian text\n",
    "        self.tokenizer.src_lang = self.tgt_lang  # Using Arabic token\n",
    "        tgt_encoded = self.tokenizer(\n",
    "            tgt_text,  # Persian text\n",
    "            max_length=self.max_length, \n",
    "            truncation=True, \n",
    "            padding=\"max_length\", \n",
    "            return_tensors=\"pt\"\n",
    "        )\n",
    "        \n",
    "        input_ids = src_encoded[\"input_ids\"].squeeze()\n",
    "        attention_mask = src_encoded[\"attention_mask\"].squeeze()\n",
    "        labels = tgt_encoded[\"input_ids\"].squeeze()\n",
    "        \n",
    "        # Replace padding token id with -100 for loss calculation\n",
    "        labels[labels == self.tokenizer.pad_token_id] = -100\n",
    "        \n",
    "        # Reset tokenizer language\n",
    "        self.tokenizer.src_lang = self.src_lang\n",
    "        \n",
    "        return {\n",
    "            \"input_ids\": input_ids,\n",
    "            \"attention_mask\": attention_mask,\n",
    "            \"labels\": labels\n",
    "        }\n",
    "\n",
    "# Create train and validation datasets\n",
    "train_dataset = TranslationDataset(opus_dataset[\"train\"], tokenizer, src_lang, tgt_lang)\n",
    "val_dataset = TranslationDataset(opus_dataset[\"validation\"], tokenizer, src_lang, tgt_lang)\n",
    "\n",
    "# Set batch size based on available memory\n",
    "batch_size = 32 # same as earlier \n",
    "train_loader = DataLoader(train_dataset, batch_size=batch_size, shuffle=True)\n",
    "val_loader = DataLoader(val_dataset, batch_size=batch_size)\n",
    "\n",
    "# Move model to device\n",
    "model.to(device)\n",
    "\n",
    "# Set up optimizer and learning rate scheduler\n",
    "optimizer = torch.optim.AdamW(model.parameters(), lr=3e-5)\n",
    "total_steps = len(train_loader) * 2  # 2 epochs\n",
    "scheduler = torch.optim.lr_scheduler.OneCycleLR(\n",
    "    optimizer, \n",
    "    max_lr=3e-5, \n",
    "    total_steps=total_steps\n",
    ")\n",
    "\n",
    "# Training loop\n",
    "num_epochs = 2\n",
    "best_val_loss = float('inf')\n",
    "t_loss = []\n",
    "v_loss = []\n",
    "\n",
    "for epoch in range(num_epochs):\n",
    "    # Training\n",
    "    model.train()\n",
    "    train_loss = 0\n",
    "    \n",
    "    for batch in tqdm(train_loader, desc=f\"Training Epoch {epoch+1}\"):\n",
    "        input_ids = batch[\"input_ids\"].to(device)\n",
    "        attention_mask = batch[\"attention_mask\"].to(device)\n",
    "        labels = batch[\"labels\"].to(device)\n",
    "        \n",
    "        # Forward pass\n",
    "        outputs = model(\n",
    "            input_ids=input_ids,\n",
    "            attention_mask=attention_mask,\n",
    "            labels=labels\n",
    "        )\n",
    "        \n",
    "        loss = outputs.loss\n",
    "        train_loss += loss.item()\n",
    "        \n",
    "        # Backward pass\n",
    "        optimizer.zero_grad()\n",
    "        loss.backward()\n",
    "        optimizer.step()\n",
    "        scheduler.step()\n",
    "    \n",
    "    avg_train_loss = train_loss / len(train_loader)\n",
    "    print(f\"Epoch {epoch+1}: Average Training Loss: {avg_train_loss:.4f}\")\n",
    "    t_loss.append(avg_train_loss)\n",
    "    \n",
    "    # Validation\n",
    "    model.eval()\n",
    "    val_loss = 0\n",
    "    \n",
    "    with torch.no_grad():\n",
    "        for batch in tqdm(val_loader, desc=f\"Validation Epoch {epoch+1}\"):\n",
    "            input_ids = batch[\"input_ids\"].to(device)\n",
    "            attention_mask = batch[\"attention_mask\"].to(device)\n",
    "            labels = batch[\"labels\"].to(device)\n",
    "            \n",
    "            outputs = model(\n",
    "                input_ids=input_ids,\n",
    "                attention_mask=attention_mask,\n",
    "                labels=labels\n",
    "            )\n",
    "            \n",
    "            loss = outputs.loss\n",
    "            val_loss += loss.item()\n",
    "    \n",
    "    avg_val_loss = val_loss / len(val_loader)\n",
    "    print(f\"Epoch {epoch+1}: Average Validation Loss: {avg_val_loss:.4f}\")\n",
    "    v_loss.append(avg_val_loss)\n",
    "    \n",
    "    # Save the model if validation loss improves\n",
    "    if avg_val_loss < best_val_loss:\n",
    "        best_val_loss = avg_val_loss\n",
    "        model.save_pretrained(\"./mbart25-en-fa-finetuned\")\n",
    "        tokenizer.save_pretrained(\"./mbart25-en-fa-finetuned\")\n",
    "        print(f\"Model saved at Epoch {epoch+1}\")\n",
    "\n",
    "print(\"Training complete!\")\n"
   ]
  },
  {
   "cell_type": "code",
   "execution_count": 4,
   "id": "27c44f78-7c01-4595-bdca-f2e195cdafe2",
   "metadata": {},
   "outputs": [
    {
     "data": {
      "image/png": "[encoded data removed]",
      "text/plain": [
       "<Figure size 640x480 with 1 Axes>"
      ]
     },
     "metadata": {},
     "output_type": "display_data"
    }
   ],
   "source": [
    "#plot losses\n",
    "\n",
    "plt.plot(t_loss, label='Trainig loss')\n",
    "plt.plot(v_loss, label='Validation loss')\n",
    "plt.title('Losses per epoch')\n",
    "plt.xlabel('Epoch')\n",
    "plt.ylabel('Loss')\n",
    "plt.legend()\n",
    "plt.savefig('Finetuning_losses_mbart25.pdf')\n",
    "plt.show()"
   ]
  },
  {
   "cell_type": "code",
   "execution_count": 46,
   "id": "8f819a05-fe03-4b11-96a6-e1e411ea9337",
   "metadata": {},
   "outputs": [
    {
     "name": "stdout",
     "output_type": "stream",
     "text": [
      "\n",
      "Example 1:\n",
      "Source (English): I'm obsolete!\n",
      "Reference (Persian): من دیگه به دردی نمیخورم\n",
      "Model Translation: من منسوخ شدم!\n",
      "\n",
      "Example 2:\n",
      "Source (English): You've really gotta help me now.\n",
      "Reference (Persian): تو واقعا ديگه بايد کمکم کني.\n",
      "Model Translation: تو واقعا بايد بهم کمک کني\n",
      "\n",
      "Example 3:\n",
      "Source (English): The entire time you were in rehab,\n",
      "Reference (Persian): ‏کل مدت‌زمانی که توی بازپروری بودی\n",
      "Model Translation: تمام مدتي که تو توي بازنشستگي بودي\n",
      "\n",
      "Example 4:\n",
      "Source (English): How well do you know this Dante ?\n",
      "Reference (Persian): چقدر اين دانته رو ميشناسي؟\n",
      "Model Translation: اين \"دنته\" رو چقدر خوب ميشناسي؟\n",
      "\n",
      "Example 5:\n",
      "Source (English): I left my other clothes inside.\n",
      "Reference (Persian): لباس قبلي هامو جا گذاشتم\n",
      "Model Translation: لباساي ديگه ام رو توش گذاشتم\n"
     ]
    }
   ],
   "source": [
    "# Add a test function to verify translation\n",
    "def test_model(model, tokenizer, test_dataset, num_examples=5):\n",
    "    model.eval()\n",
    "    \n",
    "    for i in range(num_examples):\n",
    "        # Get a test example\n",
    "        example = test_dataset[i]\n",
    "        src_text = example[\"translation\"][\"en\"]\n",
    "        ref_text = example[\"translation\"][\"fa\"]\n",
    "        \n",
    "        # Tokenize input\n",
    "        tokenizer.src_lang = src_lang\n",
    "        inputs = tokenizer(src_text, return_tensors=\"pt\", padding=True).to(device)\n",
    "        \n",
    "        # Generate translation\n",
    "        with torch.no_grad():\n",
    "            translated_tokens = model.generate(\n",
    "                **inputs,\n",
    "                forced_bos_token_id=tokenizer.lang_code_to_id[tgt_lang],\n",
    "                max_length=128\n",
    "            )\n",
    "        \n",
    "        # Decode translation\n",
    "        translation = tokenizer.batch_decode(translated_tokens, skip_special_tokens=True)[0]\n",
    "        \n",
    "        # Print results\n",
    "        print(f\"\\nExample {i+1}:\")\n",
    "        print(f\"Source (English): {src_text}\")\n",
    "        print(f\"Reference (Persian): {ref_text}\")\n",
    "        print(f\"Model Translation: {translation}\")\n",
    "\n",
    "# Test the model with a few examples\n",
    "test_model(model, tokenizer, opus_dataset[\"test\"])"
   ]
  },
  {
   "cell_type": "code",
   "execution_count": 49,
   "id": "c521348d-b852-475e-8e91-0aa1b068170b",
   "metadata": {},
   "outputs": [
    {
     "name": "stdout",
     "output_type": "stream",
     "text": [
      "\n",
      "Evaluating BLEU score on test set...\n",
      "mBART-25 fine-tuned BLEU score: 6.63\n"
     ]
    }
   ],
   "source": [
    "def calculate_bleu(model, tokenizer, test_dataset, src_lang=\"en_XX\", tgt_lang=\"ar_AR\"):\n",
    "    model.eval()\n",
    "    references = []\n",
    "    translations = []\n",
    "    \n",
    "    # Process in batches to avoid memory issues\n",
    "    batch_size = 8\n",
    "    device = next(model.parameters()).device  # Get the device from model\n",
    "    \n",
    "    # Process the whole dataset batch by batch\n",
    "    for i in range(0, len(test_dataset), batch_size):\n",
    "        # Get a batch of examples\n",
    "        batch_indices = list(range(i, min(i+batch_size, len(test_dataset))))\n",
    "        \n",
    "        # Get source and reference texts\n",
    "        src_texts = [test_dataset[idx][\"translation\"][\"en\"] for idx in batch_indices]\n",
    "        ref_texts = [test_dataset[idx][\"translation\"][\"fa\"] for idx in batch_indices]\n",
    "        references.extend(ref_texts)\n",
    "        \n",
    "        # Tokenize inputs\n",
    "        tokenizer.src_lang = src_lang\n",
    "        inputs = tokenizer(src_texts, return_tensors=\"pt\", padding=True, truncation=True, max_length=128).to(device)\n",
    "        \n",
    "        # Generate translations\n",
    "        with torch.no_grad():\n",
    "            translated_tokens = model.generate(\n",
    "                **inputs,\n",
    "                forced_bos_token_id=tokenizer.lang_code_to_id[tgt_lang],\n",
    "                max_length=128,\n",
    "                num_beams=5\n",
    "            )\n",
    "        \n",
    "        # Decode translations\n",
    "        batch_translations = tokenizer.batch_decode(translated_tokens, skip_special_tokens=True)\n",
    "        translations.extend(batch_translations)\n",
    "    \n",
    "    # Calculate BLEU score\n",
    "    bleu = BLEU()\n",
    "    score = bleu.corpus_score(translations, [references])\n",
    "    \n",
    "    return score.score\n",
    "\n",
    "# Add this at the end of your script after training\n",
    "print(\"\\nEvaluating BLEU score on test set...\")\n",
    "test_dataset = opus_dataset[\"test\"].select(range(100))  # Use 100 examples for quicker testing\n",
    "mbart25_bleu = calculate_bleu(model, tokenizer, test_dataset)\n",
    "print(f\"mBART-25 fine-tuned BLEU score: {mbart25_bleu:.2f}\")"
   ]
  },
  {
   "cell_type": "code",
   "execution_count": 50,
   "id": "2f436d0f-954e-4e62-a3fd-f06444e91e41",
   "metadata": {
    "scrolled": true
   },
   "outputs": [
    {
     "name": "stdout",
     "output_type": "stream",
     "text": [
      "\n",
      "Evaluating METEOR score on test set...\n",
      "mBART-25 fine-tuned METEOR score: 0.2248\n"
     ]
    }
   ],
   "source": [
    "def calculate_meteor(model, tokenizer, test_dataset, src_lang=\"en_XX\", tgt_lang=\"ar_AR\"):\n",
    "    import nltk\n",
    "    from nltk.translate.meteor_score import meteor_score\n",
    "    nltk.download('wordnet', quiet=True)\n",
    "    nltk.download('omw-1.4', quiet=True)\n",
    "    \n",
    "    model.eval()\n",
    "    meteor_scores = []\n",
    "    translations = []\n",
    "    \n",
    "    # Process in batches\n",
    "    batch_size = 8\n",
    "    device = next(model.parameters()).device\n",
    "    \n",
    "    # Process the dataset batch by batch\n",
    "    for i in range(0, len(test_dataset), batch_size):\n",
    "        # Get a batch of examples\n",
    "        batch_indices = list(range(i, min(i+batch_size, len(test_dataset))))\n",
    "        \n",
    "        # Get source and reference texts\n",
    "        src_texts = [test_dataset[idx][\"translation\"][\"en\"] for idx in batch_indices]\n",
    "        ref_texts = [test_dataset[idx][\"translation\"][\"fa\"] for idx in batch_indices]\n",
    "        \n",
    "        # Tokenize inputs\n",
    "        tokenizer.src_lang = src_lang\n",
    "        inputs = tokenizer(src_texts, return_tensors=\"pt\", padding=True, truncation=True, max_length=128).to(device)\n",
    "        \n",
    "        # Generate translations\n",
    "        with torch.no_grad():\n",
    "            translated_tokens = model.generate(\n",
    "                **inputs,\n",
    "                forced_bos_token_id=tokenizer.lang_code_to_id[tgt_lang],\n",
    "                max_length=128,\n",
    "                num_beams=5\n",
    "            )\n",
    "        \n",
    "        # Decode translations\n",
    "        batch_translations = tokenizer.batch_decode(translated_tokens, skip_special_tokens=True)\n",
    "        translations.extend(batch_translations)\n",
    "        \n",
    "        # Calculate METEOR for each sentence\n",
    "        for ref, pred in zip(ref_texts, batch_translations):\n",
    "            # Split into tokens\n",
    "            ref_tokens = ref.split()\n",
    "            pred_tokens = pred.split()\n",
    "            # Calculate METEOR\n",
    "            score = meteor_score([ref_tokens], pred_tokens)\n",
    "            meteor_scores.append(score)\n",
    "    \n",
    "    # Calculate average METEOR score\n",
    "    avg_meteor = sum(meteor_scores) / len(meteor_scores) if meteor_scores else 0\n",
    "    \n",
    "    return avg_meteor\n",
    "\n",
    "# Add this after your BLEU calculation\n",
    "print(\"\\nEvaluating METEOR score on test set...\")\n",
    "mbart25_meteor = calculate_meteor(model, tokenizer, test_dataset)\n",
    "print(f\"mBART-25 fine-tuned METEOR score: {mbart25_meteor:.4f}\")\n",
    "    "
   ]
  },
  {
   "cell_type": "markdown",
   "id": "32d82cc9-87bd-43dd-bc62-5253d97bb4f3",
   "metadata": {},
   "source": [
    "#### As we can see here, after a couple of epoch, the model can predict translation from English to Parsian but the accuracy is low as expected. Here BLEU is 6.63 which is higher than the BLEU score of pretrained mBART-50 model, which is some improvement. Also, METEOR score of pretrained mBART-50 was 0.1361, whereas finetuned mBART-25 has 0.2248. So this also an significant improvement. However, as we were not able to match the accuracy level of mBART-50 finetuned as expected as mBART-50 was already trained with English-Farsi translattion whereas for mBART-25, it was a completely new language. Let's plot all the evaluation of mBART-25, mBART-50 pretrained and finetuned models."
   ]
  },
  {
   "cell_type": "code",
   "execution_count": 61,
   "id": "7c0d5240-52ec-4416-97d4-7ac3a0190323",
   "metadata": {},
   "outputs": [
    {
     "data": {
      "image/png": "[encoded data removed]",
      "text/plain": [
       "<Figure size 1000x600 with 1 Axes>"
      ]
     },
     "metadata": {},
     "output_type": "display_data"
    }
   ],
   "source": [
    "import matplotlib.pyplot as plt\n",
    "import numpy as np\n",
    "\n",
    "# Scores\n",
    "models = ['Pretrained BLEU','Fine Tuned BLEU','Pretrained METEOR','Fine Tuned METEOR']\n",
    "#meteor_original = [0.1361, 0.0]\n",
    "#meteor_finetuned = [0.2526, 0.2248]\n",
    "#bleu_original = [4.53, 0.0]\n",
    "#bleu_finetuned = [10.94, 6.63]\n",
    "mbart_25=[0,6.63,0,22.48]\n",
    "mbart_50=[4.53,10.94,13.61,25.26]\n",
    "\n",
    "x = np.arange(len(models))  # mBART-50, mBART-25\n",
    "width = 0.18\n",
    "\n",
    "fig, ax = plt.subplots(figsize=(10, 6))\n",
    "\n",
    "# Plot bars\n",
    "b1 = ax.bar(x - 1.5*width, mbart_25, width, label='mBART-25', color='skyblue')\n",
    "b2 = ax.bar(x - 0.5*width, mbart_50, width, label='mBART-50', color='dodgerblue')\n",
    "#b3 = ax.bar(x + 0.5*width, bleu_original, width, label='Original BLEU', color='lightcoral')\n",
    "#b4 = ax.bar(x + 1.5*width, bleu_finetuned, width, label='Fine-tuned BLEU', color='firebrick')\n",
    "\n",
    "# Axis labels and ticks\n",
    "ax.set_ylabel('Score')\n",
    "ax.set_title('Original vs Fine-tuned mBART Scores (METEOR & BLEU)')\n",
    "ax.set_xticks(x)\n",
    "ax.set_xticklabels(models)\n",
    "ax.legend()\n",
    "ax.grid(axis='y', linestyle='--', alpha=0.5)\n",
    "\n",
    "# Annotate bars with values\n",
    "def annotate(bars):\n",
    "    for bar in bars:\n",
    "        height = bar.get_height()\n",
    "        ax.annotate(f'{height:.2f}',\n",
    "                    xy=(bar.get_x() + bar.get_width()/2, height),\n",
    "                    xytext=(0, 3),\n",
    "                    textcoords=\"offset points\",\n",
    "                    ha='center', va='bottom', fontsize=9)\n",
    "\n",
    "for bar_group in [b1, b2]:\n",
    "    annotate(bar_group)\n",
    "\n",
    "plt.tight_layout()\n",
    "plt.savefig('Final_evaluation.pdf')\n",
    "plt.show()\n"
   ]
  },
  {
   "cell_type": "markdown",
   "id": "5fa51be5-17ba-4ea6-b5b2-bbaf2b1d94c9",
   "metadata": {},
   "source": [
    "#### We can clearly see from this plot, the improvement upon finetuning for both mBART-50 and mBART-25. \"0\" represents that this language was out of scope for mBART-25 pretrained. To recap: we finetune mBART-25 for a language that it was not trained for originally and we finetuned mBART-50 for a language that it was already trained for but perfomance was poor."
   ]
  },
  {
   "cell_type": "code",
   "execution_count": null,
   "id": "0a9203f5-6326-461b-8885-70725136c8c2",
   "metadata": {},
   "outputs": [],
   "source": []
  },
  {
   "cell_type": "code",
   "execution_count": null,
   "id": "42e179b0-37b4-4c16-ab16-32cc942e70c4",
   "metadata": {},
   "outputs": [],
   "source": []
  },
  {
   "cell_type": "code",
   "execution_count": null,
   "id": "e0633e52-f7ab-4549-9b4a-786a3d850940",
   "metadata": {},
   "outputs": [],
   "source": []
  },
  {
   "cell_type": "code",
   "execution_count": null,
   "id": "3f600b62-87bb-42e9-8fba-591d5d055f71",
   "metadata": {},
   "outputs": [],
   "source": []
  },
  {
   "cell_type": "code",
   "execution_count": null,
   "id": "489986bf-2204-4151-ae6f-3fbad8a2d092",
   "metadata": {},
   "outputs": [],
   "source": []
  },
  {
   "cell_type": "code",
   "execution_count": null,
   "id": "88ae5d3f-874f-47fe-b25c-d78697120ac6",
   "metadata": {},
   "outputs": [],
   "source": []
  },
  {
   "cell_type": "code",
   "execution_count": null,
   "id": "efdc7ac7-3b85-46aa-a2c2-39fd44178c0f",
   "metadata": {},
   "outputs": [],
   "source": []
  },
  {
   "cell_type": "code",
   "execution_count": null,
   "id": "45cb5a28-bea0-44c7-b150-75b23c96dae5",
   "metadata": {},
   "outputs": [],
   "source": []
  },
  {
   "cell_type": "code",
   "execution_count": null,
   "id": "b9c2b4ca-abee-48a8-96ca-ed5d88caca7c",
   "metadata": {},
   "outputs": [],
   "source": []
  },
  {
   "cell_type": "code",
   "execution_count": null,
   "id": "53a25ab8-4d89-479a-b3c7-166508968d09",
   "metadata": {},
   "outputs": [],
   "source": []
  },
  {
   "cell_type": "code",
   "execution_count": null,
   "id": "81e6814f-8002-4134-bfd9-447f9870dee0",
   "metadata": {},
   "outputs": [],
   "source": []
  },
  {
   "cell_type": "code",
   "execution_count": null,
   "id": "79e3c4cb-4409-42f3-96fa-3be44babe225",
   "metadata": {},
   "outputs": [],
   "source": []
  },
  {
   "cell_type": "code",
   "execution_count": null,
   "id": "1504b3c5-5533-4bf5-9839-965570dfb74f",
   "metadata": {},
   "outputs": [],
   "source": []
  },
  {
   "cell_type": "code",
   "execution_count": null,
   "id": "0d0ce574-40f1-4c20-b1fa-38f73401f1ed",
   "metadata": {},
   "outputs": [],
   "source": []
  },
  {
   "cell_type": "code",
   "execution_count": null,
   "id": "dd3f2564-104f-429c-ad02-abd967b1fc71",
   "metadata": {},
   "outputs": [],
   "source": []
  },
  {
   "cell_type": "code",
   "execution_count": null,
   "id": "e5e2b39a-ce5e-4186-8c23-04b66598b00b",
   "metadata": {},
   "outputs": [],
   "source": []
  },
  {
   "cell_type": "code",
   "execution_count": null,
   "id": "8f308b2f-98c2-457b-a03b-5bbd5c6fd4ff",
   "metadata": {},
   "outputs": [],
   "source": []
  },
  {
   "cell_type": "code",
   "execution_count": null,
   "id": "7990b3f7-e557-4c9f-aa23-48f312b5c595",
   "metadata": {},
   "outputs": [],
   "source": []
  },
  {
   "cell_type": "code",
   "execution_count": null,
   "id": "7a3e3797-aad5-4170-b6d1-2587b16b37d6",
   "metadata": {},
   "outputs": [],
   "source": []
  },
  {
   "cell_type": "code",
   "execution_count": null,
   "id": "49414e3b-6af9-4030-954a-295f3603e339",
   "metadata": {},
   "outputs": [],
   "source": []
  },
  {
   "cell_type": "code",
   "execution_count": null,
   "id": "cefee446-0f18-412f-a8a5-7f3aa48354c6",
   "metadata": {},
   "outputs": [],
   "source": []
  },
  {
   "cell_type": "code",
   "execution_count": null,
   "id": "6e3ca5b6-1fe2-4c26-9777-0a8acc66ca10",
   "metadata": {},
   "outputs": [],
   "source": []
  },
  {
   "cell_type": "code",
   "execution_count": null,
   "id": "89a2fccf-53af-4eda-a618-33b0f634224a",
   "metadata": {},
   "outputs": [],
   "source": []
  },
  {
   "cell_type": "code",
   "execution_count": null,
   "id": "14e68ef5-fb3b-4658-85cc-4e2e22d0d539",
   "metadata": {},
   "outputs": [],
   "source": []
  },
  {
   "cell_type": "code",
   "execution_count": null,
   "id": "7820786a-f390-4f2e-a762-4713ef6df2d2",
   "metadata": {},
   "outputs": [],
   "source": []
  },
  {
   "cell_type": "code",
   "execution_count": null,
   "id": "02940a4d-bea7-4673-a80f-b3ef43b2351b",
   "metadata": {},
   "outputs": [],
   "source": []
  },
  {
   "cell_type": "code",
   "execution_count": null,
   "id": "6c9d65f8-f075-4150-a6fc-015f91d0fe01",
   "metadata": {},
   "outputs": [],
   "source": []
  },
  {
   "cell_type": "code",
   "execution_count": null,
   "id": "a2a2d5b0-5dcc-4a7d-bd93-9d7878808902",
   "metadata": {},
   "outputs": [],
   "source": []
  },
  {
   "cell_type": "code",
   "execution_count": null,
   "id": "63094fa7-67d2-4ca8-acc7-24d4842dfbe7",
   "metadata": {},
   "outputs": [],
   "source": []
  },
  {
   "cell_type": "code",
   "execution_count": null,
   "id": "e7aa5b9e-13d8-415f-b987-0456588b77d3",
   "metadata": {},
   "outputs": [],
   "source": []
  },
  {
   "cell_type": "code",
   "execution_count": null,
   "id": "37dc2387-47a0-4e75-a1a6-77e3be4a458c",
   "metadata": {},
   "outputs": [],
   "source": []
  },
  {
   "cell_type": "code",
   "execution_count": null,
   "id": "45069504-f31c-4bec-bff9-11cacf66f7a7",
   "metadata": {},
   "outputs": [],
   "source": []
  },
  {
   "cell_type": "code",
   "execution_count": null,
   "id": "5c27d960-e83f-4d61-b2d1-6fbbbccb32c0",
   "metadata": {},
   "outputs": [],
   "source": []
  },
  {
   "cell_type": "code",
   "execution_count": null,
   "id": "c91ddd96-5d5d-4419-a221-20b8422d80ae",
   "metadata": {},
   "outputs": [],
   "source": []
  },
  {
   "cell_type": "code",
   "execution_count": null,
   "id": "bc3491e1-7763-4d61-bfde-3f4f8dcf7f6d",
   "metadata": {},
   "outputs": [],
   "source": []
  },
  {
   "cell_type": "code",
   "execution_count": null,
   "id": "f92f87f6-a7df-4fa1-a10a-6d24a6e1754a",
   "metadata": {},
   "outputs": [],
   "source": []
  },
  {
   "cell_type": "code",
   "execution_count": null,
   "id": "ac2652a1-7ab3-4b36-91a3-9b1b7f42bd86",
   "metadata": {},
   "outputs": [],
   "source": []
  },
  {
   "cell_type": "code",
   "execution_count": null,
   "id": "4bbe729a-7580-46af-96c3-b3f77681d247",
   "metadata": {},
   "outputs": [],
   "source": []
  },
  {
   "cell_type": "code",
   "execution_count": null,
   "id": "8d2be59f-d344-428f-a310-effc1629fc5b",
   "metadata": {},
   "outputs": [],
   "source": []
  },
  {
   "cell_type": "code",
   "execution_count": null,
   "id": "654cccd0-e071-4f94-b8ac-64888953c838",
   "metadata": {},
   "outputs": [],
   "source": []
  },
  {
   "cell_type": "code",
   "execution_count": null,
   "id": "bb4403c1-5308-4146-a62d-99a308f0fe31",
   "metadata": {},
   "outputs": [],
   "source": []
  },
  {
   "cell_type": "code",
   "execution_count": null,
   "id": "80cb4bc2-9ee9-4303-93af-04adebdddcad",
   "metadata": {},
   "outputs": [],
   "source": []
  },
  {
   "cell_type": "code",
   "execution_count": null,
   "id": "ccdeee2c-b830-42ce-a0e1-2ce44d64b5f9",
   "metadata": {},
   "outputs": [],
   "source": []
  },
  {
   "cell_type": "code",
   "execution_count": null,
   "id": "26832a22-adf6-4f08-85e3-4fc841fa947e",
   "metadata": {},
   "outputs": [],
   "source": []
  },
  {
   "cell_type": "code",
   "execution_count": null,
   "id": "ac091c8d-eb34-466c-ad17-d7c534fd5745",
   "metadata": {},
   "outputs": [],
   "source": []
  },
  {
   "cell_type": "code",
   "execution_count": null,
   "id": "988bd840-882d-48ef-b6bc-1eede893cb1b",
   "metadata": {},
   "outputs": [],
   "source": []
  },
  {
   "cell_type": "code",
   "execution_count": null,
   "id": "fc3accce-2039-48a2-a666-c5c8bc4bd963",
   "metadata": {},
   "outputs": [],
   "source": []
  },
  {
   "cell_type": "code",
   "execution_count": null,
   "id": "9c6ad4ee-1829-4367-ad8e-95dad0d82dc7",
   "metadata": {},
   "outputs": [],
   "source": []
  },
  {
   "cell_type": "code",
   "execution_count": null,
   "id": "718ca79b-a422-40a1-8195-a116de11aab6",
   "metadata": {},
   "outputs": [],
   "source": []
  },
  {
   "cell_type": "code",
   "execution_count": null,
   "id": "dca0cae4-b5fb-4586-bf9a-d327ab7c4ebf",
   "metadata": {},
   "outputs": [],
   "source": []
  },
  {
   "cell_type": "code",
   "execution_count": null,
   "id": "897e7051-f7cd-44e1-949a-1ac3842876c1",
   "metadata": {},
   "outputs": [],
   "source": []
  },
  {
   "cell_type": "code",
   "execution_count": null,
   "id": "da681fc7-187f-484d-9f96-ea89b393ef9a",
   "metadata": {},
   "outputs": [],
   "source": []
  },
  {
   "cell_type": "code",
   "execution_count": null,
   "id": "9ff72dd3-3846-4be9-be60-58d3574c588f",
   "metadata": {},
   "outputs": [],
   "source": []
  },
  {
   "cell_type": "code",
   "execution_count": null,
   "id": "030b00dd-f515-47d8-9209-40e97a1dc9dd",
   "metadata": {},
   "outputs": [],
   "source": []
  },
  {
   "cell_type": "code",
   "execution_count": null,
   "id": "e40eb6c4-df7a-400d-bde9-05eeed718693",
   "metadata": {},
   "outputs": [],
   "source": []
  }
 ],
 "metadata": {
  "kernelspec": {
   "display_name": "Python 3 (ipykernel)",
   "language": "python",
   "name": "python3"
  },
  "language_info": {
   "codemirror_mode": {
    "name": "ipython",
    "version": 3
   },
   "file_extension": ".py",
   "mimetype": "text/x-python",
   "name": "python",
   "nbconvert_exporter": "python",
   "pygments_lexer": "ipython3",
   "version": "3.10.14"
  }
 },
 "nbformat": 4,
 "nbformat_minor": 5
}
